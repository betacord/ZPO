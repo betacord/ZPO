{
 "cells": [
  {
   "cell_type": "markdown",
   "metadata": {},
   "source": [
    "# Wykład 1 - programowanie zorientowane obiektowo"
   ]
  },
  {
   "cell_type": "markdown",
   "metadata": {},
   "source": [
    "## Programowanie obiektowe"
   ]
  },
  {
   "cell_type": "markdown",
   "metadata": {},
   "source": [
    "Programowanie zorientowane obiektowo (ang. Object-Oriented Programming, OOP) to paradygmat programowania, który koncentruje się na modelowaniu rzeczywistości za pomocą obiektów – instancji klas, autonomicznych jednostek zawierających zarówno informacje (atrybuty), jak i zachowania (metody). W przeciwieństwie do programowania proceduralnego, które opiera się na operacjach wykonywanych na danych, OOP organizuje kod wokół obiektów i ich interakcji."
   ]
  },
  {
   "cell_type": "markdown",
   "metadata": {},
   "source": [
    "OOP opiera się na czterech głównych filarach:\n",
    "- dziedziczenie – mechanizm umożliwiający ponowne wykorzystanie kodu poprzez tworzenie klas pochodnych,\n",
    "- polimorfizm – możliwość definiowania wielu zachowań dla tych samych interfejsów,\n",
    "- enkapsulacja – ukrywanie szczegółów implementacji i kontrolowany dostęp do danych,\n",
    "- abstrakcja – ukrywanie złożoności systemu i eksponowanie tylko istotnych szczegółów."
   ]
  },
  {
   "cell_type": "markdown",
   "metadata": {},
   "source": [
    "### Klasa"
   ]
  },
  {
   "cell_type": "markdown",
   "metadata": {},
   "source": [
    "Klasa to podstawowy element OOP, który służy jako szablon do tworzenia obiektów. Definiuje ona strukturę i zachowanie poszczególnych obiektów, określając, jakie atrybuty i metody będą dostępne dla każdej instancji. W Pythonie klasy definiuje się za pomocą słowa kluczowego `class`, a każda instancja klasy jest tworzona poprzez jej wywołanie. Klasy mogą również dziedziczyć po innych klasach, co pozwala na ponowne wykorzystanie kodu i organizowanie go w hierarchiczne struktury."
   ]
  },
  {
   "cell_type": "code",
   "execution_count": null,
   "metadata": {},
   "outputs": [],
   "source": [
    "class Car:\n",
    "    brand: str\n",
    "    model: str\n",
    "    v_max: float\n",
    "\n",
    "    def __init__(self, brand: str, model: str, v_max: float) -> None:\n",
    "        self.brand = brand\n",
    "        self.model = model\n",
    "        self.v_max = v_max\n",
    "\n",
    "    def introduce_yourself(self) -> str:\n",
    "        return f\"I'm {self.brand} {self.model}. I can accelerate to {self.v_max} km/h.\""
   ]
  },
  {
   "cell_type": "code",
   "execution_count": null,
   "metadata": {},
   "outputs": [],
   "source": [
    "vw_golf = Car(brand=\"Volkswagen\", model=\"Golf\", v_max=220.0)\n",
    "porsche_911 = Car(brand=\"Porsche\", model=\"911\", v_max=290.0)"
   ]
  },
  {
   "cell_type": "code",
   "execution_count": null,
   "metadata": {},
   "outputs": [],
   "source": [
    "golf_intro = vw_golf.introduce_yourself()\n",
    "print(golf_intro)"
   ]
  },
  {
   "cell_type": "code",
   "execution_count": null,
   "metadata": {},
   "outputs": [],
   "source": [
    "porsche_911_intro = porsche_911.introduce_yourself()\n",
    "print(porsche_911_intro)"
   ]
  },
  {
   "cell_type": "markdown",
   "metadata": {},
   "source": [
    "### Dziedziczenie"
   ]
  },
  {
   "cell_type": "markdown",
   "metadata": {},
   "source": [
    "Dziedziczenie to mechanizm programowania obiektowego, który pozwala jednej klasie (tzw. klasie pochodnej lub podklasie) przejmować właściwości i zachowania innej klasy (tzw. klasy bazowej, nadklasy). Dzięki dziedziczeniu można ponownie wykorzystać istniejący kod, unikać duplikacji i organizować klasy w hierarchie. W Pythonie dziedziczenie realizuje się poprzez podanie nazwy klasy bazowej w nawiasie po nazwie klasy pochodnej. Klasa dziedziczy wszystkie metody i atrybuty klasy nadrzędnej, ale może je także nadpisywać lub rozszerzać."
   ]
  },
  {
   "cell_type": "code",
   "execution_count": null,
   "metadata": {},
   "outputs": [],
   "source": [
    "class Vehicle:\n",
    "    brand: str\n",
    "    model: str\n",
    "    v_max: float\n",
    "\n",
    "    def __init__(self, brand: str, model: str, v_max: float) -> None:\n",
    "        self.brand = brand\n",
    "        self.model = model\n",
    "        self.v_max = v_max"
   ]
  },
  {
   "cell_type": "code",
   "execution_count": null,
   "metadata": {},
   "outputs": [],
   "source": [
    "class Car(Vehicle):\n",
    "    vehicle_type: str\n",
    "\n",
    "    def __init__(self, brand: str, model: str, v_max: float) -> None:\n",
    "        super().__init__(brand, model, v_max)\n",
    "        self.vehicle_type = \"car\"\n",
    "\n",
    "    def introduce_yourself(self) -> str:\n",
    "        return f\"I'm {self.model} - the {self.vehicle_type} of {self.brand} brand. I can accelerate to {self.v_max} km/h.\""
   ]
  },
  {
   "cell_type": "code",
   "execution_count": null,
   "metadata": {},
   "outputs": [],
   "source": [
    "class Bus(Vehicle):\n",
    "    vehicle_type: str\n",
    "\n",
    "    def __init__(self, brand: str, model: str, v_max: float) -> None:\n",
    "        super().__init__(brand, model, v_max)\n",
    "        self.vehicle_type = \"bus\"\n",
    "\n",
    "    def introduce_yourself(self) -> str:\n",
    "        return f\"I'm {self.model} - the {self.vehicle_type} of {self.brand} brand. I can accelerate to {self.v_max} km/h.\""
   ]
  },
  {
   "cell_type": "code",
   "execution_count": null,
   "metadata": {},
   "outputs": [],
   "source": [
    "skoda_octavia = Car(brand=\"Skoda\", model=\"Octavia\", v_max=230.0)\n",
    "autosan_h9 = Bus(brand=\"Autosan\", model=\"H9\", v_max=70.0)"
   ]
  },
  {
   "cell_type": "code",
   "execution_count": null,
   "metadata": {},
   "outputs": [],
   "source": [
    "octavia_intro = skoda_octavia.introduce_yourself()\n",
    "print(octavia_intro)"
   ]
  },
  {
   "cell_type": "code",
   "execution_count": null,
   "metadata": {},
   "outputs": [],
   "source": [
    "h9_intro = autosan_h9.introduce_yourself()\n",
    "print(h9_intro)"
   ]
  },
  {
   "cell_type": "markdown",
   "metadata": {},
   "source": [
    "### Polimorfizm"
   ]
  },
  {
   "cell_type": "markdown",
   "metadata": {},
   "source": [
    "Polimorfizm to jedna z cech OOP pozwalająca różnym klasom definiować metody o tej samej nazwie, ale o różnym działaniu. Takie zachowanie umożliwia pisanie kodu, który działa na obiektach różnych klas w jednolity sposób, co zwiększa jego elastyczność i reużywalność. Polimorfizm sprawia, że metody mogą być nadpisywane lub współdzielone przez różne klasy w spójny sposób."
   ]
  },
  {
   "cell_type": "code",
   "execution_count": null,
   "metadata": {},
   "outputs": [],
   "source": [
    "class Animal:\n",
    "    def say_hello(self) -> str:\n",
    "        return \"Some generic animal sound\""
   ]
  },
  {
   "cell_type": "code",
   "execution_count": null,
   "metadata": {},
   "outputs": [],
   "source": [
    "class Dog(Animal):\n",
    "    def say_hello(self) -> str:\n",
    "        return \"bow-wow\""
   ]
  },
  {
   "cell_type": "code",
   "execution_count": null,
   "metadata": {},
   "outputs": [],
   "source": [
    "class Cat(Animal):\n",
    "    def say_hello(self):\n",
    "        return \"meow pur pur\""
   ]
  },
  {
   "cell_type": "code",
   "execution_count": null,
   "metadata": {},
   "outputs": [],
   "source": [
    "ubek = Dog()\n",
    "fruzia = Cat()"
   ]
  },
  {
   "cell_type": "code",
   "execution_count": null,
   "metadata": {},
   "outputs": [],
   "source": [
    "ubek.say_hello()"
   ]
  },
  {
   "cell_type": "code",
   "execution_count": null,
   "metadata": {},
   "outputs": [],
   "source": [
    "fruzia.say_hello()"
   ]
  },
  {
   "cell_type": "markdown",
   "metadata": {},
   "source": [
    "### Enkapsulacja"
   ]
  },
  {
   "cell_type": "markdown",
   "metadata": {},
   "source": [
    "Enkapsulacja to jedna z cech OOP, która polega na ukrywaniu wewnętrznych szczegółów implementacji klasy oraz kontrolowaniu dostępu do jej atrybutów. Taki zabieg zapewnia większe bezpieczeństwo, modularność i łatwość zarządzania kodem."
   ]
  },
  {
   "cell_type": "markdown",
   "metadata": {},
   "source": [
    "Standardowo enkapsulację realizuje się poprzez określenie trzech poziomów dostępu:\n",
    "- public - dostęp publiczny z każdego miejsca w kodzie,\n",
    "- protected - dostęp z poziomu klas pochodnych,\n",
    "- private - dostęp z bieżącej instancji."
   ]
  },
  {
   "cell_type": "markdown",
   "metadata": {},
   "source": [
    "Z uwagi na ~~zacofanie~~ osobliwość języka Python w kontekście enkapsulacji, wszystkie składowe klas są publiczne i nie istnieje żaden sposób na ich ukrycie. Istnieje jednak powszechna konwencja, która wszystkie składowe klas poprzedzone pojedynczym znakiem podkreślenia (np. `_attribute`) traktuje jako prywatne. \n",
    "\n",
    "Uwaga! Częstym błędem jest \"ukrywanie\" składowej poprzez podwójne jej podkreślenie (np. `__priv_attr`), co nie czyni jej prywatną, a jedynie zmienia jej referencję w słowniku wartości atrybutów dla danej instancji."
   ]
  },
  {
   "cell_type": "code",
   "execution_count": null,
   "metadata": {},
   "outputs": [],
   "source": [
    "class BankAccount:\n",
    "    number: str\n",
    "    _balance: float\n",
    "\n",
    "    def __init__(self, number: str) -> None:\n",
    "        self.number = number\n",
    "        self._balance = 0\n",
    "\n",
    "    def donate(self, amount: float) -> None:\n",
    "        self._balance += amount\n",
    "\n",
    "    def withdraw(self, amount: float) -> None:\n",
    "        if amount > self._balance:\n",
    "            raise ValueError(\"The amount cannot be higher than current account balance!\")\n",
    "        \n",
    "        self._balance -= amount\n",
    "\n",
    "    def get_balance(self) -> float:\n",
    "        return self._balance"
   ]
  },
  {
   "cell_type": "code",
   "execution_count": null,
   "metadata": {},
   "outputs": [],
   "source": [
    "my_account = BankAccount(\"1111 2222 33333 4444 5555 66\")\n",
    "my_account.donate(100)\n",
    "my_account.withdraw(120)"
   ]
  },
  {
   "cell_type": "code",
   "execution_count": null,
   "metadata": {},
   "outputs": [],
   "source": [
    "my_account.get_balance()"
   ]
  },
  {
   "cell_type": "code",
   "execution_count": null,
   "metadata": {},
   "outputs": [],
   "source": [
    "my_account.withdraw(20)\n",
    "my_account.get_balance()"
   ]
  },
  {
   "cell_type": "markdown",
   "metadata": {},
   "source": [
    "## Nowoczesne podejścia do definicji klas"
   ]
  },
  {
   "cell_type": "markdown",
   "metadata": {},
   "source": [
    "### Dataclasses"
   ]
  },
  {
   "cell_type": "markdown",
   "metadata": {},
   "source": [
    "`dataclasses` to moduł wprowadzony w bibliotece standardowej Pythona w wesji 3.7. Upraszcza on tworzenie klas zorientowanych na przechowywanie informacji. Dzięki zastosowaniu tego modułu nie ma już konieczności manualnego definiowania metod magicznych, takich jak, `__init__`, `__repr__` czy `__eq__`. Dekorator `@dataclass` automatycznie generuje je na podstawie zadeklarowanych atrybutów."
   ]
  },
  {
   "cell_type": "code",
   "execution_count": null,
   "metadata": {},
   "outputs": [],
   "source": [
    "from dataclasses import dataclass, field"
   ]
  },
  {
   "cell_type": "code",
   "execution_count": null,
   "metadata": {},
   "outputs": [],
   "source": [
    "@dataclass(frozen=True)\n",
    "class Car:\n",
    "    brand: str\n",
    "    model: str\n",
    "    v_max: float = field(default=90.0)"
   ]
  },
  {
   "cell_type": "code",
   "execution_count": null,
   "metadata": {},
   "outputs": [],
   "source": [
    "car_0 = Car(brand=\"Toyota\", model=\"Prius\", v_max=120.0)\n",
    "car_1 = Car(brand=\"Tesla\", model=\"Y\", v_max=160.0)"
   ]
  },
  {
   "cell_type": "code",
   "execution_count": null,
   "metadata": {},
   "outputs": [],
   "source": [
    "car_0"
   ]
  },
  {
   "cell_type": "code",
   "execution_count": null,
   "metadata": {},
   "outputs": [],
   "source": [
    "car_1"
   ]
  },
  {
   "cell_type": "code",
   "execution_count": null,
   "metadata": {},
   "outputs": [],
   "source": [
    "car_0 == car_1"
   ]
  },
  {
   "cell_type": "code",
   "execution_count": null,
   "metadata": {},
   "outputs": [],
   "source": [
    "car_0 == car_0"
   ]
  },
  {
   "cell_type": "code",
   "execution_count": null,
   "metadata": {},
   "outputs": [],
   "source": [
    "car_1 is car_1"
   ]
  },
  {
   "cell_type": "code",
   "execution_count": null,
   "metadata": {},
   "outputs": [],
   "source": [
    "car_0.v_max = 190.0"
   ]
  },
  {
   "cell_type": "markdown",
   "metadata": {},
   "source": [
    "### NamedTuple"
   ]
  },
  {
   "cell_type": "markdown",
   "metadata": {},
   "source": [
    "`namedtuple` to klasa danych z modułu collections, która umożliwia tworzenie niezmiennych krotek z nazwanymi atrybutami. Jest używana jako lekka alternatywa dla klas, w sytuacjach wymagających potrzeby przechowywania danych, ale gdy definicja pełnej klasy może być nadmiarowa. `namedtuple` zachowuje wszystkie cechy zwykłej krotki, ale pozwala na dostęp do wartości zarówno przez indeks, jak i przez nazwę pola. `namedtuple`, względem tradycyjnych klas, zużywa mniej pamięci wirtualnej, a także gwarantuje niemodyfikowalność atrybutów zwiększając bezpieczeństwo pamięci. "
   ]
  },
  {
   "cell_type": "code",
   "execution_count": null,
   "metadata": {},
   "outputs": [],
   "source": [
    "from collections import namedtuple"
   ]
  },
  {
   "cell_type": "code",
   "execution_count": null,
   "metadata": {},
   "outputs": [],
   "source": [
    "Car = namedtuple(\"Car\", [\"brand\", \"model\", \"v_max\"])"
   ]
  },
  {
   "cell_type": "code",
   "execution_count": null,
   "metadata": {},
   "outputs": [],
   "source": [
    "tesla = Car(brand=\"Tesla\", model=\"Y\", v_max=190.0)"
   ]
  },
  {
   "cell_type": "code",
   "execution_count": null,
   "metadata": {},
   "outputs": [],
   "source": [
    "tesla"
   ]
  },
  {
   "cell_type": "code",
   "execution_count": null,
   "metadata": {},
   "outputs": [],
   "source": [
    "tesla.brand, tesla.model"
   ]
  },
  {
   "cell_type": "markdown",
   "metadata": {},
   "source": [
    "### Pydantic"
   ]
  },
  {
   "cell_type": "markdown",
   "metadata": {},
   "source": [
    "`Pydantic` to nowoczesna biblioteka języka Python, która umożliwia walidację i serializację danych na podstawie modeli opartych na `dataclass` i `TypedDict`. Jest szczególnie przydatna w aplikacjach serwerowych, gdzie dane pochodzące z API, baz danych lub plików muszą być bezpieczne i zgodne z oczekiwanym schematem. W odróżnieniu od `dataclass` i `namedtuple`, `Pydantic` automatycznie sprawdza typy i konwertuje dane wejściowe, co redukuje liczbę błędów związanych z nieprawidłowymi wartościami poszczególnych atrybutów."
   ]
  },
  {
   "cell_type": "code",
   "execution_count": null,
   "metadata": {},
   "outputs": [],
   "source": [
    "from pydantic import BaseModel, Field"
   ]
  },
  {
   "cell_type": "code",
   "execution_count": null,
   "metadata": {},
   "outputs": [],
   "source": [
    "class Car(BaseModel):\n",
    "    brand: str\n",
    "    model: str\n",
    "    v_max: float = Field(..., ge=70.0, le=300.0)"
   ]
  },
  {
   "cell_type": "code",
   "execution_count": null,
   "metadata": {},
   "outputs": [],
   "source": [
    "ford_focus = Car(brand=\"Ford\", model=\"Focus\", v_max=200.0)\n",
    "ford_focus.model_dump()"
   ]
  },
  {
   "cell_type": "code",
   "execution_count": null,
   "metadata": {},
   "outputs": [],
   "source": [
    "bmw_pana_m = Car(brand=\"BMW\", model=\"M850i\", v_max=315.1)"
   ]
  },
  {
   "cell_type": "markdown",
   "metadata": {},
   "source": [
    "## Wielodziedziczenie"
   ]
  },
  {
   "cell_type": "markdown",
   "metadata": {},
   "source": [
    "Wielodziedziczenie (dziedziczenie wielokrotne) to mechanizm w programowaniu obiektowym, który pozwala klasie dziedziczyć po więcej niż jednej klasie bazowej. Dzięki temu można łączyć funkcjonalności z różnych klas, ale jednocześnie wymaga to ostrożności, aby uniknąć konfliktów w metodach i atrybutach. Interpreter języka Python obsługuje dziedziczenie wielokrotne, stosując algorytm MRO (Method Resolution Order), który określa kolejność przeszukiwania klas nadrzędnych w celu znalezienia odpowiedniej metody."
   ]
  },
  {
   "cell_type": "code",
   "execution_count": null,
   "metadata": {},
   "outputs": [],
   "source": [
    "class A:\n",
    "    def say_hello(self) -> None:\n",
    "        return \"Hello from class A\""
   ]
  },
  {
   "cell_type": "code",
   "execution_count": null,
   "metadata": {},
   "outputs": [],
   "source": [
    "class B:\n",
    "    def say_hello(self) -> None:\n",
    "        return \"Hello from class B\""
   ]
  },
  {
   "cell_type": "code",
   "execution_count": null,
   "metadata": {},
   "outputs": [],
   "source": [
    "class C(A, B):\n",
    "    pass"
   ]
  },
  {
   "cell_type": "code",
   "execution_count": null,
   "metadata": {},
   "outputs": [],
   "source": [
    "obj = C()"
   ]
  },
  {
   "cell_type": "code",
   "execution_count": null,
   "metadata": {},
   "outputs": [],
   "source": [
    "obj.say_hello()"
   ]
  },
  {
   "cell_type": "code",
   "execution_count": null,
   "metadata": {},
   "outputs": [],
   "source": [
    "C.mro()"
   ]
  },
  {
   "cell_type": "markdown",
   "metadata": {},
   "source": [
    "## Metody statyczne i klasowe"
   ]
  },
  {
   "cell_type": "markdown",
   "metadata": {},
   "source": [
    "W języku Python metody w klasach mogą być rodzaju instancyjnego, statycznego lub klasowego. Metody instancyjne (domyślne) operują na konkretnej instancji klasy i mają dostęp do atrybutu `self`. Natomiast metody statyczne i klasowe pozwalają na tworzenie metod, które działają niezależnie od konkretnej instancji, ale w odmienny sposób:\n",
    "- metoda statyczna - metoda niezwiązana ani z instancją, ani z klasą,\n",
    "- metoda klasowa - metoda operująca na samej klasie, a nie jej instancjach."
   ]
  },
  {
   "cell_type": "markdown",
   "metadata": {},
   "source": [
    "### Metody klasowe"
   ]
  },
  {
   "cell_type": "markdown",
   "metadata": {},
   "source": [
    "Metody klasowe są oznaczone dekoratorem `@classmethod` i działają na poziomie klasy, a nie konkretnej instancji. Jako pierwszy argument przyjmują parametr `cls`, który odnosi się do samej klasy, a nie obiektu. Dzięki temu mogą modyfikować atrybuty klasy i tworzyć jej nowe instancje."
   ]
  },
  {
   "cell_type": "code",
   "execution_count": null,
   "metadata": {},
   "outputs": [],
   "source": [
    "class Car:\n",
    "    amount = 0\n",
    "\n",
    "    def __init__(self, brand: str, model: str) -> None:\n",
    "        self.brand = brand\n",
    "        self.model = model\n",
    "        Car.amount += 1\n",
    "\n",
    "    @classmethod\n",
    "    def from_dict(cls, data: dict) -> Car:\n",
    "        return cls(data[\"brand\"], data[\"model\"])\n",
    "\n",
    "    @classmethod\n",
    "    def get_amount(cls) -> int:\n",
    "        return cls.amount    "
   ]
  },
  {
   "cell_type": "code",
   "execution_count": null,
   "metadata": {},
   "outputs": [],
   "source": [
    "car_0 = Car(\"VW\", \"Passat\")\n",
    "car_1 = Car.from_dict({\"brand\": \"Audi\", \"model\": \"A6\"})\n",
    "Car.get_amount()"
   ]
  },
  {
   "cell_type": "markdown",
   "metadata": {},
   "source": [
    "### Metody statyczne\n",
    "\n",
    "Metody statyczne są oznaczone dekoratorem `@staticmethod` działają jak zwykłe funkcje umieszczone wewnątrz klasy – nie mają dostępu do stanu wewnętrznego obiektu (parametr `self`) ani referencji do klasy (parametr `cls`). Służą one do definiowania pomocniczych operacji, które są logicznie związane z klasą, ale nie wymagają dostępu do jej atrybutów."
   ]
  },
  {
   "cell_type": "code",
   "execution_count": null,
   "metadata": {},
   "outputs": [],
   "source": [
    "class Calculator:\n",
    "    @staticmethod\n",
    "    def add(a: int, b: int) -> int:\n",
    "        return a + b\n",
    "    \n",
    "    @staticmethod\n",
    "    def multiply(a: int, b: int) -> int:\n",
    "        return a * b"
   ]
  },
  {
   "cell_type": "code",
   "execution_count": null,
   "metadata": {},
   "outputs": [],
   "source": [
    "Calculator.add(2, 3)"
   ]
  },
  {
   "cell_type": "code",
   "execution_count": null,
   "metadata": {},
   "outputs": [],
   "source": [
    "Calculator.multiply(5, 6)"
   ]
  },
  {
   "cell_type": "markdown",
   "metadata": {},
   "source": [
    "## Klasy abstrakcyjne"
   ]
  },
  {
   "cell_type": "markdown",
   "metadata": {},
   "source": [
    "W języku Python klasy abstrakcyjne to specjalny rodzaj klas pełniący rolę szablonu dla innych klas. Klas abstrakcyjnych nie można ich bezpośrednio instancjonować. Ich głównym celem jest wymuszenie na klasach dziedziczących implementacji określonych metod oraz spełnienie kontraktu. Taki zabieg umożliwia lepszą organizację kodu.\n",
    "\n",
    "Moduł `abc` (Abstract Base Classes) będący częścią biblioteki standardowej interpretera języka Python, dostarcza mechanizm do definiowania klas abstrakcyjnych. Używa się go w sytuacjacj, gdy wszystkie klasy dziedziczące muszą spełniać określony kontrakt."
   ]
  },
  {
   "cell_type": "code",
   "execution_count": null,
   "metadata": {},
   "outputs": [],
   "source": [
    "from abc import ABC, abstractmethod"
   ]
  },
  {
   "cell_type": "code",
   "execution_count": null,
   "metadata": {},
   "outputs": [],
   "source": [
    "class IVehicle(ABC):\n",
    "    @abstractmethod\n",
    "    def start(self) -> None:\n",
    "        pass"
   ]
  },
  {
   "cell_type": "code",
   "execution_count": null,
   "metadata": {},
   "outputs": [],
   "source": [
    "class Car(IVehicle):\n",
    "    def run(self) -> None:\n",
    "        pass"
   ]
  },
  {
   "cell_type": "code",
   "execution_count": null,
   "metadata": {},
   "outputs": [],
   "source": [
    "car = Car()"
   ]
  },
  {
   "cell_type": "code",
   "execution_count": null,
   "metadata": {},
   "outputs": [],
   "source": [
    "class Car(IVehicle):\n",
    "    def start(self) -> None:\n",
    "        print(\"bruuuum brum brum brum\")"
   ]
  },
  {
   "cell_type": "code",
   "execution_count": null,
   "metadata": {},
   "outputs": [],
   "source": [
    "car = Car()"
   ]
  },
  {
   "cell_type": "markdown",
   "metadata": {},
   "source": [
    "## Zadania"
   ]
  },
  {
   "cell_type": "markdown",
   "metadata": {},
   "source": [
    "1. Przygotować klasę Employee, która będzie przechowywać atrybuty: first_name, last_name i salary. Dodać metodę get_full_name(), zwracającą pełne imię i nazwisko. Następnie utworzyć klasę Manager, dziedziczącą po Employee, dodającą department oraz metodę get_department_info(), zwracającą informację o zarządzanym dziale.\n",
    "2.  Utworzyć klasę Transaction jako namedtuple zawierającą transaction_id, amount oraz currency. Następnie zdefiniować klasę BankAccount, która będzie miała atrybut balance oraz metodę apply_transaction(), przyjmującą obiekt Transaction i modyfikującą saldo.\n",
    "3. Napisać klasę Book używając dataclass, która zawiera title, author, year, price. Dodaj metodę apply_discount(), która obniży cenę książki o podany procent.\n",
    "4. Stworzyć klasę Product jako dataclass zawierającą name, price, category, a następnie rozszerz ją o walidację ceny (powinna być większa od zera) oraz domyślną wartość category=\"General\".\n",
    "5. Utworzyć klasę Car z atrybutami brand, model i year. Następnie dodać metodę is_classic(), która zwróci True, jeśli samochód ma ponad 25 lat.\n",
    "6. Stworzyć klasy ElectricVehicle oraz GasolineVehicle, które mają metodę fuel_type(), zwracającą odpowiednio \"electric\" i \"gasoline\". Następnie utworzyć klasę HybridCar, która dziedziczy po obu i nadpisuje metodę fuel_type(), aby zwracała \"hybrid\".\n",
    "7. Utworzyć klasę Person z metodą introduce(), zwracającą \"I am a person\". Następnie stworzyć klasy Worker i Student, które dziedziczą po Person i zmieniają tę metodę na \"I am a worker\" oraz \"I am a student\". Następnie utworzyć klasę WorkingStudent, która dziedziczy zarówno po Worker, jak i Student, i sprawdź, jak Python rozwiąże konflikt metod.\n",
    "8. Utworzyć klasy Animal i Pet. Klasa Animal powinna mieć metodę make_sound(), zwracającą \"Some sound\", a Pet powinna mieć metodę is_domestic(), zwracającą True. Następnie utworzyć klasę Dog, dziedziczącą po obu, i dostosować metody tak, aby pasowały do psa.\n",
    "9. Zaimplementować klasy FlyingVehicle i WaterVehicle, które mają metody move(), zwracające odpowiednio \"I fly\" oraz \"I sail\". Następnie stworzyć klasę AmphibiousVehicle, która łączy obie i pozwala na wybór trybu działania.\n",
    "10. Utworzyć klasę Robot z metodą operate(), zwracającą \"Performing task\", oraz AI z metodą think(), zwracającą \"Processing data\". Następnie utworzyć klasę Android, która dziedziczy po obu i dodaje własną metodę self_learn().\n",
    "11. Stworzyć klasę TemperatureConverter, która będzie zawierać metody statyczne celsius_to_fahrenheit() oraz fahrenheit_to_celsius().\n",
    "12. Przygotować klasę IDGenerator z metodą klasową generate_id(), która automatycznie generuje unikalne identyfikatory dla obiektów. Każdy nowo utworzony obiekt powinien otrzymać kolejny numer ID.\n",
    "13. Utworzyć klasę Store z atrybutem klasowym total_customers oraz metodą add_customer(), zwiększającą wartość tego atrybutu. Dodać metodę klasową get_total_customers(), która zwróci liczbę klientów.\n",
    "14. Stworzyć klasę MathOperations zawierającą zarówno metody statyczne (add(), multiply()) jak i metody klasowe (identity_matrix(cls, size), tworzącą macierz jednostkową [size x size]).\n",
    "15. Utworzyć klasę GameCharacter, która ma atrybut klasowy default_health=100 oraz metodę restore_health(), ustawiającą zdrowie obiektu na wartość domyślną. Dodać metodę klasową set_default_health(cls, new_value), pozwalającą na zmianę domyślnego zdrowia dla wszystkich postaci.\n",
    "16. Stworzyć klasę abstrakcyjną Shape z metodą abstrakcyjną area(). Następnie utworzyć klasy Circle i Rectangle, implementujące metodę area().\n",
    "17. Zaimplementować klasę abstrakcyjną PaymentProcessor z metodami authorize_payment() i capture_payment(). Następnie utworzyć klasy CreditCardPayment i PayPalPayment, implementujące te metody na różne sposoby.\n",
    "18. Utworzyć klasę abstrakcyjną Vehicle z metodą max_speed(), a następnie stworzyć klasy Car i Bicycle, definiującą ich maksymalną prędkość.\n",
    "19. Przygotować klasę abstrakcyjną DatabaseConnection z metodami connect() i execute_query(). Utworzyć klasy MySQLConnection oraz PostgreSQLConnection, implementujące te metody na różne sposoby.\n",
    "20. Utworzyć klasę abstrakcyjną Instrument z metodą play(), a następnie zaimplementować klasy Piano i Guitar, które będą miały różne wersje tej metody."
   ]
  },
  {
   "cell_type": "markdown",
   "metadata": {},
   "source": []
  }
 ],
 "metadata": {
  "kernelspec": {
   "display_name": ".venv",
   "language": "python",
   "name": "python3"
  },
  "language_info": {
   "codemirror_mode": {
    "name": "ipython",
    "version": 3
   },
   "file_extension": ".py",
   "mimetype": "text/x-python",
   "name": "python",
   "nbconvert_exporter": "python",
   "pygments_lexer": "ipython3",
   "version": "3.13.0"
  }
 },
 "nbformat": 4,
 "nbformat_minor": 2
}
