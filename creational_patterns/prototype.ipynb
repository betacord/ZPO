{
 "cells": [
  {
   "cell_type": "markdown",
   "metadata": {},
   "source": [
    "# Prototyp"
   ]
  },
  {
   "cell_type": "markdown",
   "metadata": {},
   "source": [
    "**Prototyp** to wzorzec kreacyjny umożliwiający klonowanie obiektu bez odwoływania się do jego klasy. Dzięki prototypowi można tworzyć inne, takie same, lub podobne obiekty na podstawie pewnego prototypu, który musi posiadać te same atrybuty i metody co obiekty docelowe."
   ]
  },
  {
   "cell_type": "markdown",
   "metadata": {},
   "source": [
    "Przeznaczenie i zastosowanie:\n",
    "- tworzenie nowych obiektów poprzez kopiowanie istniejących instancji,\n",
    "- zmniejszenie kosztu tworzenia obiektów, szczególnie przydatne, gdy tworzenie nowych instancji jest kosztowne obliczeniowo lub pamięciowo,\n",
    "- zachowanie struktury i stanu obiektu,\n",
    "- elastyczność w dynamicznym tworzeniu obiektów: możliwość łatwego tworzenia różnych wariantów obiektów bez konieczności definiowania osobnych klas reprezentujących fabryki."
   ]
  },
  {
   "cell_type": "markdown",
   "metadata": {},
   "source": [
    "## Implementacja"
   ]
  },
  {
   "cell_type": "markdown",
   "metadata": {},
   "source": [
    "Cel: klonowanie instancji klasy reprezentującej samochód"
   ]
  },
  {
   "cell_type": "code",
   "execution_count": null,
   "metadata": {},
   "outputs": [],
   "source": [
    "class Car:\n",
    "    def __init__(\n",
    "        self, \n",
    "        brand: str, \n",
    "        model: str, \n",
    "        engine: str, \n",
    "        gearbox: str, \n",
    "        body_type: str, \n",
    "        licence_plate: str, \n",
    "        owner: str, \n",
    "        **kwargs: dict,\n",
    "    ) -> None:\n",
    "        self.brand = brand\n",
    "        self.model = model\n",
    "        self.engine = engine\n",
    "        self.gearbox = gearbox\n",
    "        self.body_type = body_type\n",
    "        self.licence_plate = licence_plate\n",
    "        self.owner = owner\n",
    "\n",
    "        for key in kwargs:\n",
    "            setattr(self, key, kwargs[key])\n",
    "            \n",
    "    def __str__(self) -> str:\n",
    "        summary = []\n",
    "        \n",
    "        for key, val in vars(self).items():\n",
    "            summary.append(f\"{key}: {val}\\n\")\n",
    "            \n",
    "        return \"\".join(summary)"
   ]
  },
  {
   "cell_type": "markdown",
   "metadata": {},
   "source": [
    "Implementacja klasy prototypu"
   ]
  },
  {
   "cell_type": "code",
   "execution_count": null,
   "metadata": {},
   "outputs": [],
   "source": [
    "from copy import deepcopy\n",
    "from typing import Any"
   ]
  },
  {
   "cell_type": "code",
   "execution_count": null,
   "metadata": {},
   "outputs": [],
   "source": [
    "class Prototype:\n",
    "    def __init__(self) -> None:\n",
    "        self.objects = dict()\n",
    "        \n",
    "    def add_prototype(self, id_: int, obj: Any) -> None:\n",
    "        self.objects[id_] = obj\n",
    "    \n",
    "    def del_prototype(self, id_: int) -> None:\n",
    "        del self.objects[id_]\n",
    "        \n",
    "    def clone(self, id_: int, **kwargs: dict) -> Any:\n",
    "        if id_ in self.objects:\n",
    "            instance = deepcopy(self.objects[id_])\n",
    "            \n",
    "            for key in kwargs:\n",
    "                setattr(instance, key, kwargs[key])\n",
    "        \n",
    "            return instance\n",
    "        else:\n",
    "            raise ModuleNotFoundError(\"ID not found!\")"
   ]
  },
  {
   "cell_type": "markdown",
   "metadata": {},
   "source": [
    "Zastosowanie"
   ]
  },
  {
   "cell_type": "code",
   "execution_count": null,
   "metadata": {},
   "outputs": [],
   "source": [
    "ford_focus = Car(\"Ford\", \"Focus mk2\", \"1.6D\", \"manual\", \"hatchback\", \"XX YYYYY\", \"Wujek Janusz\", color=\"silver\", doors=5)"
   ]
  },
  {
   "cell_type": "code",
   "execution_count": null,
   "metadata": {},
   "outputs": [],
   "source": [
    "print(ford_focus)"
   ]
  },
  {
   "cell_type": "markdown",
   "metadata": {},
   "source": [
    "Klasa prototyp umożliwia przechowywanie wielu prototypów celem ich sklonowania, co będzie wymagało nadanie unikalnego ID każdemu z nich."
   ]
  },
  {
   "cell_type": "code",
   "execution_count": null,
   "metadata": {},
   "outputs": [],
   "source": [
    "prototypes = Prototype()\n",
    "prototypes.add_prototype(\"1\", ford_focus)\n",
    "another_car = prototypes.clone(\"1\", license_plate=\"AA BBBBB\", owner=\"other\")"
   ]
  },
  {
   "cell_type": "code",
   "execution_count": null,
   "metadata": {},
   "outputs": [],
   "source": [
    "print(another_car)"
   ]
  },
  {
   "cell_type": "markdown",
   "metadata": {},
   "source": [
    "## Podsumowanie"
   ]
  },
  {
   "cell_type": "markdown",
   "metadata": {},
   "source": [
    "Wzorzec prototyp jest wykorzystywany wszędzie tam, gdzie istnieje konieczność sklonowania obiektu bez odwoływania się do jego klasy. Takie podejście rodzi pewne konsekwencje:\n",
    "- możliwość połączenia z fabryką abstrakcyjną,\n",
    "- wynikiem jest obiekt stworzony na wzór innego obiektu,\n",
    "- nie należy go stosować gdy istnieje tylko kilka obiektów danego typu (dotyczy to też innych wzorców kreacyjnych),\n",
    "- każda podklasa prototypu musi implementować metodę clone (właściwie nie dotyczy Pythona),\n",
    "- w niektórych językach klasy które mogą być klonowane, tylko muszą implementować interfejs/protokół cloneable."
   ]
  },
  {
   "cell_type": "markdown",
   "metadata": {},
   "source": []
  }
 ],
 "metadata": {
  "kernelspec": {
   "display_name": ".venv",
   "language": "python",
   "name": "python3"
  },
  "language_info": {
   "codemirror_mode": {
    "name": "ipython",
    "version": 3
   },
   "file_extension": ".py",
   "mimetype": "text/x-python",
   "name": "python",
   "nbconvert_exporter": "python",
   "pygments_lexer": "ipython3",
   "version": "3.13.0"
  }
 },
 "nbformat": 4,
 "nbformat_minor": 2
}
