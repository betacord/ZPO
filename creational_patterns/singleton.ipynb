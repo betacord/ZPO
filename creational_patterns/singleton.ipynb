{
 "cells": [
  {
   "cell_type": "markdown",
   "metadata": {},
   "source": [
    "# Singleton"
   ]
  },
  {
   "cell_type": "markdown",
   "metadata": {},
   "source": [
    "**Singleton** to wzorzec kreacyjny zakładający istnienie co najwyżej *N* (najczęściej 1) instancji danej klasy, która musi być wszędzie dostępna. Singleton'u należy używać tam, gdzie utworzenie drugiego obiektu tej klasy może mieć negatywne skutki. Zastosowanie wzorca singleton powinno być dokładnie uzasadnione, gdyż jego nadużywanie może stanowić **antywzorzec**."
   ]
  },
  {
   "cell_type": "markdown",
   "metadata": {},
   "source": [
    "Przypadki zastosowania:\n",
    "- logger,\n",
    "- dziennik zdarzeń,\n",
    "- bufor,\n",
    "- obiekt ustawień,\n",
    "- obiekt łączący z bazą danych lub zewnętrzną usługą,\n",
    "- szyna danych."
   ]
  },
  {
   "cell_type": "markdown",
   "metadata": {},
   "source": [
    "## Implementacja"
   ]
  },
  {
   "cell_type": "markdown",
   "metadata": {},
   "source": [
    "### Wersja podstawowa"
   ]
  },
  {
   "cell_type": "markdown",
   "metadata": {},
   "source": [
    "Implementacja wersji podstawowej singleton'u zostanie zbudowana na założeniu weryfikacji czy inna instancja obiektu nie została już utworzona. W przypadku istnienia, zostanie zwrócona utworzona instancja. Wersja ta zakłada istnienie maksymalnie 1 instancji klasy."
   ]
  },
  {
   "cell_type": "code",
   "execution_count": 9,
   "metadata": {},
   "outputs": [],
   "source": [
    "from typing import Self"
   ]
  },
  {
   "cell_type": "code",
   "execution_count": 10,
   "metadata": {},
   "outputs": [],
   "source": [
    "class Singleton:\n",
    "    _instance: Self = None\n",
    "    \n",
    "    def __new__(cls, *args: list, **kwargs: dict) -> Self:\n",
    "        if cls._instance is None:\n",
    "            instance = super().__new__(cls, *args, **kwargs)\n",
    "            cls._instance = instance\n",
    "            \n",
    "        return cls._instance"
   ]
  },
  {
   "cell_type": "code",
   "execution_count": 11,
   "metadata": {},
   "outputs": [],
   "source": [
    "x = Singleton()\n",
    "y = Singleton()"
   ]
  },
  {
   "cell_type": "code",
   "execution_count": 12,
   "metadata": {},
   "outputs": [
    {
     "data": {
      "text/plain": [
       "True"
      ]
     },
     "execution_count": 12,
     "metadata": {},
     "output_type": "execute_result"
    }
   ],
   "source": [
    "x is y"
   ]
  },
  {
   "cell_type": "markdown",
   "metadata": {},
   "source": [
    "### Wersja rozszerzona\n",
    "\n",
    "Wersja rozszerzona implementacji singleton'u zakłada istnienie maksymalnie *N* instancji klasy. W przypadku utworzenia większej liczby instancji, będą zwracane pozycje według schematu: `instance_no % N`."
   ]
  },
  {
   "cell_type": "code",
   "execution_count": null,
   "metadata": {},
   "outputs": [],
   "source": [
    "class SingletonExtended:\n",
    "    _instances: list = []\n",
    "    _instances_max: int = 3\n",
    "    _instances_actual: int = -1\n",
    "    \n",
    "    def __new__(cls, *args: list, **kwargs: dict) -> Self:\n",
    "        if len(cls._instances) < cls._instances_max:\n",
    "            instance = super().__new__(cls, *args, **kwargs)\n",
    "            cls._instances.append(instance)\n",
    "        \n",
    "        cls._instances_actual += 1\n",
    "        cls._instances_actual = cls._instances_actual % cls._instances_max\n",
    "\n",
    "        return cls._instances[cls._instances_actual]"
   ]
  },
  {
   "cell_type": "code",
   "execution_count": 17,
   "metadata": {},
   "outputs": [
    {
     "name": "stdout",
     "output_type": "stream",
     "text": [
      "0: 4408469760\n",
      "1: 4406010064\n",
      "2: 4406015504\n",
      "3: 4408469760\n",
      "4: 4406010064\n",
      "5: 4406015504\n",
      "6: 4408469760\n"
     ]
    }
   ],
   "source": [
    "for i in range(7):\n",
    "    print(f\"{i}: {id(SingletonExtended())}\")"
   ]
  },
  {
   "cell_type": "markdown",
   "metadata": {},
   "source": [
    "### Zastosowanie w innych klasach"
   ]
  },
  {
   "cell_type": "markdown",
   "metadata": {},
   "source": [
    "Klasa reprezentująca singleton może być z powodzeniem zastosowana jako metaklasa dla docelowej klasy, której liczebność instancji powinna być ograniczona."
   ]
  },
  {
   "cell_type": "code",
   "execution_count": 29,
   "metadata": {},
   "outputs": [],
   "source": [
    "class SingletonMeta(type):\n",
    "    _instance: Self = None\n",
    "    \n",
    "    def __call__(cls, *args: list, **kwargs: dict) -> Self:\n",
    "        if cls._instance is None:\n",
    "            instance = super().__call__(*args, **kwargs)\n",
    "            cls._instance = instance\n",
    "            \n",
    "        return cls._instance"
   ]
  },
  {
   "cell_type": "code",
   "execution_count": 30,
   "metadata": {},
   "outputs": [],
   "source": [
    "class A(metaclass=SingletonMeta):\n",
    "    def foo(self) -> str:\n",
    "        return \"foo\""
   ]
  },
  {
   "cell_type": "code",
   "execution_count": 31,
   "metadata": {},
   "outputs": [
    {
     "data": {
      "text/plain": [
       "'foo'"
      ]
     },
     "execution_count": 31,
     "metadata": {},
     "output_type": "execute_result"
    }
   ],
   "source": [
    "a = A()\n",
    "a.foo()"
   ]
  },
  {
   "cell_type": "code",
   "execution_count": 32,
   "metadata": {},
   "outputs": [
    {
     "name": "stdout",
     "output_type": "stream",
     "text": [
      "4408471440\n",
      "4408471440\n",
      "4408471440\n",
      "4408471440\n",
      "4408471440\n"
     ]
    }
   ],
   "source": [
    "for _ in range(5):\n",
    "    print(id(A()))"
   ]
  },
  {
   "cell_type": "markdown",
   "metadata": {},
   "source": [
    "## Podsumowanie"
   ]
  },
  {
   "cell_type": "markdown",
   "metadata": {},
   "source": [
    "Wzorzec singleton jest wykorzystywany wszędzie tam, gdzie istnieje konieczność kontrolowania liczby instancji klasy. Takie podejście rodzi pewne wady i zalety.\n",
    "\n",
    "Wady:\n",
    "- komplikacje przy współbieżności,\n",
    "- klasa kontroluje instancje oprócz rzeczy które ma na celu,\n",
    "- trudny w testowaniu.\n",
    "\n",
    "Zalety:\n",
    "- szybka implementacja,\n",
    "- brak zmian po stronie projektu,\n",
    "- stan singletonów jest globalny,\n",
    "- leniwe tworzenie instancji: obiekt nie zostanie utworzony, jeżeli nigdy nie zostanie użyty."
   ]
  }
 ],
 "metadata": {
  "kernelspec": {
   "display_name": ".venv",
   "language": "python",
   "name": "python3"
  },
  "language_info": {
   "codemirror_mode": {
    "name": "ipython",
    "version": 3
   },
   "file_extension": ".py",
   "mimetype": "text/x-python",
   "name": "python",
   "nbconvert_exporter": "python",
   "pygments_lexer": "ipython3",
   "version": "3.13.0"
  }
 },
 "nbformat": 4,
 "nbformat_minor": 2
}
