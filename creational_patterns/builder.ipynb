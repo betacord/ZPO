{
 "cells": [
  {
   "cell_type": "markdown",
   "metadata": {},
   "source": [
    "# Budowniczy"
   ]
  },
  {
   "cell_type": "markdown",
   "metadata": {},
   "source": [
    "Wzorzec **budowniczy** służy do tworzenia złożonych obiektów krok po kroku. Oddziela proces tworzenia obiektu od jego reprezentacji, co pozwala na tworzenie różnych wariantów tego samego typu obiektu bez modyfikacji jego struktury.\n",
    "\n",
    "Przeznaczenie i zastosowanie:\n",
    "- używany w przypadkach, gdy tworzenie obiektu wymaga wielu kroków lub konfiguracji,\n",
    "- stosowany w tworzeniu obiektów o wielu opcjonalnych parametrach, eliminując problem z rozbudowanymi konstruktorami lub inicjalizatorami,\n",
    "- powszechne rozwiązanie w konfiguracji obiektów, tworzeniu dokumentów, generowaniu interfejsów użytkownika i budowaniu złożonych encji w bazach danych."
   ]
  },
  {
   "cell_type": "markdown",
   "metadata": {},
   "source": [
    "Wzorzec budowniczy skupia się na sposobie konstrukcji obiektu, a nie na obiektach składowych. Proces tworzenia obiektu jest wręcz często niezależny od mniejszych obiektów, z których się składa. Wzorzec ten używany jest wszędzie tam, gdzie trzeba przejąć kontrolę nad procesem tworzenia obiektu. Proces kończy się, gdy konkretny budowniczy skończy pracę.\n",
    "\n",
    "Jednym z częstszych realnych zastosowań tego wzorca jest otrzymanie tego samego efektu na wiele sposobów:\n",
    "- eksport do pliku graficznego w zależności od docelowego formatu,\n",
    "- szyfrowanie tej samej informacji na wiele różnych sposobów,\n",
    "- nałożenie filtru na obraz."
   ]
  },
  {
   "cell_type": "markdown",
   "metadata": {},
   "source": [
    "## Implementacja"
   ]
  },
  {
   "cell_type": "markdown",
   "metadata": {},
   "source": [
    "Cel: zapis dwuwymiarowej listy do pliku:\n",
    "- tsv (csv oddzielany spacjami) dla wartości numerycznych,\n",
    "- csv dla wartości tekstowych."
   ]
  },
  {
   "cell_type": "code",
   "execution_count": 27,
   "metadata": {},
   "outputs": [],
   "source": [
    "numbers = [\n",
    "    [1.234, 5.667, 4, 1.1],\n",
    "    [0.87653, 1.09, 6.01, 7.5423],\n",
    "    [3.986, 654.12, 8.098, 53.123],\n",
    "]"
   ]
  },
  {
   "cell_type": "code",
   "execution_count": 28,
   "metadata": {},
   "outputs": [],
   "source": [
    "texts = [\n",
    "    [\"ala\", \"ma\", \"kota\"],\n",
    "    [\"kot\", \"ma\", \"ale\"],\n",
    "    [\"siala\", \"baba\", \"mak\"],\n",
    "]"
   ]
  },
  {
   "cell_type": "markdown",
   "metadata": {},
   "source": [
    "Implementacja każdego z budowniczych powinna spełniać ten sam kontrakt. Należy zatem przygotować generyczną klasę abstrakcyjną, która posłuży jako szablon dla każdej z klas definiujących budowniczych."
   ]
  },
  {
   "cell_type": "code",
   "execution_count": 29,
   "metadata": {},
   "outputs": [],
   "source": [
    "from abc import ABC, abstractmethod"
   ]
  },
  {
   "cell_type": "code",
   "execution_count": 30,
   "metadata": {},
   "outputs": [],
   "source": [
    "class Builder(ABC):\n",
    "    _data: list\n",
    "\n",
    "    @abstractmethod\n",
    "    def set_data(self, data: list) -> None:\n",
    "        pass\n",
    "\n",
    "    @abstractmethod\n",
    "    def save_data(self, filename: str) -> None:\n",
    "        pass"
   ]
  },
  {
   "cell_type": "markdown",
   "metadata": {},
   "source": [
    "Implementacja każdego z budowniczych będzie polegała na utworzeniu osobnych klas, gdzie każda z nich będzie odpowiedzialna za zapis pliku w innym formacie."
   ]
  },
  {
   "cell_type": "code",
   "execution_count": 31,
   "metadata": {},
   "outputs": [],
   "source": [
    "class CSVBuilder(Builder):\n",
    "    _data: list\n",
    "\n",
    "    def set_data(self, data: list) -> None:\n",
    "        self._data = [f\"{','.join(row)}\\n\" for row in data]\n",
    "\n",
    "    def save_data(self, filename: str) -> None:\n",
    "        with open(filename, \"w\") as f:\n",
    "            f.writelines(self._data)"
   ]
  },
  {
   "cell_type": "code",
   "execution_count": 32,
   "metadata": {},
   "outputs": [],
   "source": [
    "class TSVBuilder(Builder):\n",
    "    _data: list\n",
    "\n",
    "    def set_data(self, data: list) -> None:\n",
    "        self._data = [\" \".join(map(str, row)) for row in data]\n",
    "\n",
    "    def save_data(self, filename: str) -> None:\n",
    "        with open(filename, \"w\") as f:\n",
    "            for row in self._data:\n",
    "                f.write(f\"{row}\\n\")"
   ]
  },
  {
   "cell_type": "markdown",
   "metadata": {},
   "source": [
    "Tworzenie obiektów na podstawie wielu parametrów może być nieprecyzyjne mając do czynienia z wieloma klasami budowniczych jednocześnie. Rozwiązaniem tego problemu jest osobna **klasa nadzorcy**, która, na podstawie szeregu czynników, samodzielnie dopasowuje klasę budowniczego tworzącą ostateczny obiekt."
   ]
  },
  {
   "cell_type": "code",
   "execution_count": 38,
   "metadata": {},
   "outputs": [],
   "source": [
    "class Director:\n",
    "    _builder: Builder\n",
    "    _data: list\n",
    "\n",
    "    def set_data(self, data: list) -> None:\n",
    "        self._data = data\n",
    "        self._set_builder()\n",
    "\n",
    "    def create_file(self) -> None:\n",
    "        self._builder.set_data(self._data)\n",
    "        self._builder.save_data(\"result.csv\")\n",
    "\n",
    "    def _set_builder(self) -> None:\n",
    "        if isinstance(self._data[0][0], (int, float)):\n",
    "            self._builder = TSVBuilder()\n",
    "        else:\n",
    "            self._builder = CSVBuilder()"
   ]
  },
  {
   "cell_type": "markdown",
   "metadata": {},
   "source": [
    "Finalne uruchomienie"
   ]
  },
  {
   "cell_type": "code",
   "execution_count": 39,
   "metadata": {},
   "outputs": [],
   "source": [
    "director = Director()\n",
    "director.set_data(numbers)\n",
    "director.create_file()"
   ]
  },
  {
   "cell_type": "code",
   "execution_count": 40,
   "metadata": {},
   "outputs": [],
   "source": [
    "director.set_data(texts)\n",
    "director.create_file()"
   ]
  },
  {
   "cell_type": "markdown",
   "metadata": {},
   "source": [
    "## Podsumowanie"
   ]
  },
  {
   "cell_type": "markdown",
   "metadata": {},
   "source": [
    "Wzorzec budowniczy z powodzeniem przejmuje proces tworzenia obiektów, w szczególności gdy ich ostateczna klasa zależy od zewnętrznych czynników. Takie podejście rodzi następujące konsekwencje:\n",
    "- zwiększona kontrola nad procesem tworzenia obiektów,\n",
    "- niewielkie ignorowanie obiektów składowych,\n",
    "- każdy typ produktu wymaga nowego budowniczego,\n",
    "- brak mamy pewności, że budowniczy zbuduje obiekt ze wszystkich składowych,\n",
    "- brak pewności, że wszystkie atrybuty budowanego obiektu zostaną zainicjalizowane,\n",
    "- znaczna objętość kodu."
   ]
  }
 ],
 "metadata": {
  "kernelspec": {
   "display_name": ".venv",
   "language": "python",
   "name": "python3"
  },
  "language_info": {
   "codemirror_mode": {
    "name": "ipython",
    "version": 3
   },
   "file_extension": ".py",
   "mimetype": "text/x-python",
   "name": "python",
   "nbconvert_exporter": "python",
   "pygments_lexer": "ipython3",
   "version": "3.13.0"
  }
 },
 "nbformat": 4,
 "nbformat_minor": 2
}
