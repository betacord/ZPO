{
 "cells": [
  {
   "cell_type": "markdown",
   "metadata": {},
   "source": [
    "# Fabryka abstrakcyjna"
   ]
  },
  {
   "cell_type": "markdown",
   "metadata": {},
   "source": [
    "**Fabryka abstrakcyjna** (ang. abstract factory) to wzorzec projektowy zapewniający mechanizm tworzenia instancji różnych klas należących do pewnej rodziny bez określania ich konkretnej klasy. Umożliwia on definiowanie interfejsu dla tworzenia obiektów z danej grupy, a właściwe implementacje dostarczają instancje odpowiednich klas. Fabryka abstrakcyjna dzięki temu wspiera zasadę odwrócenia zależności i ułatwia zarządzanie złożonymi systemami poprzez oddzielenie logiki tworzenia obiektów od ich użycia. Fabryka abstrakcyjna jest często stosowana w sytuacjach, gdy istnieje potrzeba dynamicznej zmiany zestawu tworzonych obiektów."
   ]
  },
  {
   "cell_type": "markdown",
   "metadata": {},
   "source": [
    "Przeznaczenie i zastosowanie:\n",
    "- oddzielenie logiki tworzenia obiektów od ich użycia: zmniejsza liczebność zależności w kodzie,\n",
    "- tworzenie grup powiązanych obiektów: zapewnia spójność w wykorzystaniu zestawów klas,\n",
    "- modularność kodu: prosta wymiana rodzin obiektów za pomocą zmiany implementacji fabryki."
   ]
  },
  {
   "cell_type": "markdown",
   "metadata": {},
   "source": [
    "Założenia początkowe:\n",
    "- istnieje rodzina fabryk, które zwracają produkt,\n",
    "- każda fabryka jest realizowana za pomocą innej klasy o tym samym kontrakcie,\n",
    "- każda fabryka potrafi tworzyć te same rodzaje obiektów,\n",
    "- każda fabryka zawiera metody o tej samej nazwie,\n",
    "- celem fabryki abstrakcyjnej będzie dostarczenie odpowiedniej fabryki za pomocą instancji lub referencji."
   ]
  },
  {
   "cell_type": "markdown",
   "metadata": {},
   "source": [
    "<img src=\"img/Abstract_Factory_Design_Pattern_UML.jpg\">"
   ]
  },
  {
   "cell_type": "markdown",
   "metadata": {},
   "source": [
    "<img src=\"img/Abstract_factory_UML_class.svg\">"
   ]
  },
  {
   "cell_type": "markdown",
   "metadata": {},
   "source": [
    "## Implementacja"
   ]
  },
  {
   "cell_type": "markdown",
   "metadata": {},
   "source": [
    "Cel: utworzenie fabryki abstrakcyjnej dostarczającej instancji fabryki produkującej dane auto o wskazanej specyfikacji."
   ]
  },
  {
   "cell_type": "code",
   "execution_count": null,
   "metadata": {},
   "outputs": [],
   "source": [
    "from abc import ABC, abstractmethod\n",
    "from dataclasses import dataclass, field, asdict\n",
    "from typing import Any"
   ]
  },
  {
   "cell_type": "markdown",
   "metadata": {},
   "source": [
    "Klasy składowych części samochodów"
   ]
  },
  {
   "cell_type": "code",
   "execution_count": null,
   "metadata": {},
   "outputs": [],
   "source": [
    "@dataclass\n",
    "class Wheel:\n",
    "    diameter: int\n",
    "    material: str = field(default=\"aluminium\")"
   ]
  },
  {
   "cell_type": "code",
   "execution_count": null,
   "metadata": {},
   "outputs": [],
   "source": [
    "@dataclass\n",
    "class Body:\n",
    "    color: str\n",
    "    thickness: float = field(default=.6)"
   ]
  },
  {
   "cell_type": "code",
   "execution_count": null,
   "metadata": {},
   "outputs": [],
   "source": [
    "@dataclass\n",
    "class Door:\n",
    "    interior_material: str\n",
    "    control: str = field(default=\"manual\")"
   ]
  },
  {
   "cell_type": "code",
   "execution_count": null,
   "metadata": {},
   "outputs": [],
   "source": [
    "@dataclass\n",
    "class Seat:\n",
    "    material: str\n",
    "    control: str = field(default=\"manual\")"
   ]
  },
  {
   "cell_type": "code",
   "execution_count": null,
   "metadata": {},
   "outputs": [],
   "source": [
    "@dataclass\n",
    "class PremiumSticker:\n",
    "    icon: str\n",
    "    color: str"
   ]
  },
  {
   "cell_type": "markdown",
   "metadata": {},
   "source": [
    "Klasy fabryk odpowiedzialnych za produkcję części składowych. Dobrze jest trzymać wszystkie klasy fabryk w jednym pakiecie tak, aby nie trzeba było za każdym razem powielać ich importów w różnych miejsach w kodzie."
   ]
  },
  {
   "cell_type": "code",
   "execution_count": null,
   "metadata": {},
   "outputs": [],
   "source": [
    "class Factory(ABC):\n",
    "    @abstractmethod\n",
    "    def produce_wheels(self, diameter: int, amount: int) -> tuple:\n",
    "        pass\n",
    "\n",
    "    @abstractmethod\n",
    "    def produce_body(self, color: str) -> Body:\n",
    "        pass\n",
    "\n",
    "    @abstractmethod\n",
    "    def produce_doors(self, interior_material: str, amount: int) -> tuple:\n",
    "        pass\n",
    "\n",
    "    @abstractmethod\n",
    "    def produce_seats(self, material: str, amount: int) -> tuple:\n",
    "        pass"
   ]
  },
  {
   "cell_type": "code",
   "execution_count": null,
   "metadata": {},
   "outputs": [],
   "source": [
    "class PoloCarFactory(Factory):\n",
    "    def produce_wheels(self,  diameter: int, amount: int) -> tuple:\n",
    "        return tuple([Wheel(diameter=diameter) for _ in range(amount)])\n",
    "    \n",
    "    def produce_body(self, color: str) -> Body:\n",
    "        return Body(color=color)\n",
    "    \n",
    "    def produce_doors(self, interior_material: str, amount: int) -> tuple:\n",
    "        return tuple([Door(interior_material=interior_material) for _ in range(amount)])\n",
    "    \n",
    "    def produce_seats(self, material: str, amount: int) -> tuple:\n",
    "        return tuple([Seat(material=material) for _ in range(amount)])"
   ]
  },
  {
   "cell_type": "code",
   "execution_count": null,
   "metadata": {},
   "outputs": [],
   "source": [
    "class GolfCarFactory(Factory):\n",
    "    def produce_wheels(self,  diameter: int, amount: int) -> tuple:\n",
    "        return tuple([Wheel(diameter=diameter) for _ in range(amount)])\n",
    "    \n",
    "    def produce_body(self, color: str) -> Body:\n",
    "        return Body(color=color, thickness=2.)\n",
    "    \n",
    "    def produce_doors(self, interior_material: str, amount: int) -> tuple:\n",
    "        return tuple([Door(interior_material=interior_material, control=\"electric\") for _ in range(amount)])\n",
    "    \n",
    "    def produce_seats(self, material: str, amount: int) -> tuple:\n",
    "        return tuple([Seat(material=material) for _ in range(amount)])"
   ]
  },
  {
   "cell_type": "code",
   "execution_count": null,
   "metadata": {},
   "outputs": [],
   "source": [
    "class PasseratiCarFactory(Factory):\n",
    "    def produce_wheels(self,  diameter: int, amount: int) -> tuple:\n",
    "        return tuple([Wheel(diameter=diameter, material=\"steel\") for _ in range(amount)])\n",
    "    \n",
    "    def produce_body(self, color: str) -> Body:\n",
    "        return Body(color=color, thickness=2.5)\n",
    "    \n",
    "    def produce_doors(self, interior_material: str, amount: int) -> tuple:\n",
    "        return tuple([Door(interior_material=interior_material, control=\"electric\") for _ in range(amount)])\n",
    "    \n",
    "    def produce_seats(self, material: str, amount: int) -> tuple:\n",
    "        return tuple([Seat(material=material, control=\"electric\") for _ in range(amount)])"
   ]
  },
  {
   "cell_type": "markdown",
   "metadata": {},
   "source": [
    "Klasa **fabryki abstrakcyjnej**. Klasa ta zwraca instancję fabryki produkującej poszczególne części składowe auta."
   ]
  },
  {
   "cell_type": "code",
   "execution_count": null,
   "metadata": {},
   "outputs": [],
   "source": [
    "class AbstractFactory:\n",
    "    @staticmethod\n",
    "    def get_factory(model: Any) -> Any:\n",
    "        match model:\n",
    "            case \"Polo\":\n",
    "                return PoloCarFactory()\n",
    "            case \"Golf\":\n",
    "                return GolfCarFactory()\n",
    "            case \"Passat\":\n",
    "                return PasseratiCarFactory()\n",
    "            case _:\n",
    "                raise ValueError(\"Incorrect car model\")"
   ]
  },
  {
   "cell_type": "markdown",
   "metadata": {},
   "source": [
    "Klasy reprezentujące warianty samochodów. Każdy z modeli aut może być dostępny w wersji Basic oraz Premium, które różnią się wyposażeniem dodatkowym."
   ]
  },
  {
   "cell_type": "code",
   "execution_count": null,
   "metadata": {},
   "outputs": [],
   "source": [
    "@dataclass\n",
    "class Car:\n",
    "    wheels: tuple\n",
    "    body: Body\n",
    "    doors: tuple\n",
    "    seats: tuple"
   ]
  },
  {
   "cell_type": "code",
   "execution_count": null,
   "metadata": {},
   "outputs": [],
   "source": [
    "@dataclass\n",
    "class BasicCar(Car):\n",
    "    pass"
   ]
  },
  {
   "cell_type": "code",
   "execution_count": null,
   "metadata": {},
   "outputs": [],
   "source": [
    "@dataclass\n",
    "class PremiumCar(BasicCar):\n",
    "    sticker: PremiumSticker"
   ]
  },
  {
   "cell_type": "markdown",
   "metadata": {},
   "source": [
    "Klasa producenta aut."
   ]
  },
  {
   "cell_type": "code",
   "execution_count": null,
   "metadata": {},
   "outputs": [],
   "source": [
    "class CarManufacturer(ABC):\n",
    "    client_options: dict\n",
    "\n",
    "    def __init__(self, client_options: dict) -> None:\n",
    "        self.client_options = client_options\n",
    "    \n",
    "    def produce_car(self) -> BasicCar:\n",
    "        factory = AbstractFactory.get_factory(self.client_options[\"model\"])\n",
    "        wheels, body, doors, seats = self._request_parts(factory)\n",
    "\n",
    "        return BasicCar(wheels=wheels, body=body, doors=doors, seats=seats)\n",
    "\n",
    "    def _request_parts(self, factory: Any) -> tuple:\n",
    "        wheels = factory.produce_wheels(self.client_options[\"diameter\"], 4)\n",
    "        body = factory.produce_body(self.client_options[\"color\"])\n",
    "        doors = factory.produce_doors(self.client_options[\"doors\"], 5)\n",
    "        seats = factory.produce_seats(self.client_options[\"seats\"], 5)\n",
    "\n",
    "        return wheels, body, doors, seats"
   ]
  },
  {
   "cell_type": "code",
   "execution_count": null,
   "metadata": {},
   "outputs": [],
   "source": [
    "class CarBrandBasic(CarManufacturer):\n",
    "    pass"
   ]
  },
  {
   "cell_type": "code",
   "execution_count": null,
   "metadata": {},
   "outputs": [],
   "source": [
    "class CarBrandPremium(CarManufacturer):\n",
    "    def produce_car(self) -> PremiumCar:\n",
    "        basic_car = super().produce_car()\n",
    "        premium_sticker = self._produce_premium_sticker()\n",
    "        \n",
    "        return PremiumCar(**asdict(basic_car), sticker=premium_sticker)\n",
    "\n",
    "    def _produce_premium_sticker(self) -> PremiumSticker:\n",
    "        return PremiumSticker(**self.client_options[\"sticker\"])"
   ]
  },
  {
   "cell_type": "markdown",
   "metadata": {},
   "source": [
    "Klasa klienta odpowiedzialna za złożenie zamówienia na auto na podstawie przekazanej specyfikacji."
   ]
  },
  {
   "cell_type": "code",
   "execution_count": null,
   "metadata": {},
   "outputs": [],
   "source": [
    "class Client:\n",
    "    @staticmethod\n",
    "    def request_car(request: dict) -> Car:\n",
    "        manufacturer = CarBrandPremium(request)\n",
    "        new_car = manufacturer.produce_car()\n",
    "\n",
    "        return new_car"
   ]
  },
  {
   "cell_type": "code",
   "execution_count": null,
   "metadata": {},
   "outputs": [],
   "source": [
    "car_specification = {\n",
    "    \"model\": \"Golf\",\n",
    "    \"diameter\": 18,\n",
    "    \"color\": \"black\",\n",
    "    \"doors\": \"plastic\",\n",
    "    \"seats\": \"normal\",\n",
    "    \"sticker\": {\n",
    "        \"icon\": \"apple\",\n",
    "        \"color\": \"gray\",\n",
    "    }\n",
    "}"
   ]
  },
  {
   "cell_type": "code",
   "execution_count": null,
   "metadata": {},
   "outputs": [],
   "source": [
    "client = Client()\n",
    "client.request_car(car_specification)"
   ]
  },
  {
   "cell_type": "markdown",
   "metadata": {},
   "source": [
    "## Podsumowanie"
   ]
  },
  {
   "cell_type": "markdown",
   "metadata": {},
   "source": [
    "Fabryka abstrakcyjna jest wykorzystywana w przypadkach, gdy istnieje potrzeba utworzenia instancji różnych klas należących do pewnej rodziny bez określania ich konkretnej klasy. Takie podejście rodzi pewne konsekwencje, które można podzielić na pozytywne i negatywne.\n",
    "\n",
    "Wady:\n",
    "- trudnośi w dodawaniu nowych klas do fabryki,\n",
    "- wszystkie metody wykonywane są na tej samej klasie/obiekcie.\n",
    "\n",
    "Zalety:\n",
    "- hermetyzacja procesu tworzenia obiektów danego typu,\n",
    "- logika procesu tworzenia obiektów i korzystania z nich jest oddzielona i ogólnodostępna,\n",
    "- zmniejszona objętość kodu.\n"
   ]
  }
 ],
 "metadata": {
  "kernelspec": {
   "display_name": ".venv",
   "language": "python",
   "name": "python3"
  },
  "language_info": {
   "codemirror_mode": {
    "name": "ipython",
    "version": 3
   },
   "file_extension": ".py",
   "mimetype": "text/x-python",
   "name": "python",
   "nbconvert_exporter": "python",
   "pygments_lexer": "ipython3",
   "version": "3.13.0"
  }
 },
 "nbformat": 4,
 "nbformat_minor": 2
}
