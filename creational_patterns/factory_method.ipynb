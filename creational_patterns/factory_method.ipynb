{
 "cells": [
  {
   "cell_type": "markdown",
   "metadata": {},
   "source": [
    "# Metoda wytwórcza"
   ]
  },
  {
   "cell_type": "markdown",
   "metadata": {},
   "source": [
    "**Metoda Wytwórcza** (ang. factory method) to wzorzec kreacyjny, który dostarcza interfejs do tworzenia obiektów i pozwala jednocześnie zdecydować podklasom, jaka klasa docelowa zostanie utworzona. Dzięki takiemu podejściu kod bazowy jest niezależny od konkretnych implementacji klas, co sprzyja elastyczności i łatwiejszemu rozszerzaniu systemu. Wzorzec ten znajduje zastosowanie w sytuacjach, gdy dokładny typ tworzonych obiektów może się zmieniać w zależności od kontekstu, a klasa bazowa definiuje ogólną strukturę, delegując szczegóły implementacyjne do klas pochodnych."
   ]
  },
  {
   "cell_type": "markdown",
   "metadata": {},
   "source": [
    "## Przeznaczenie i zastosowanie:\n",
    "- oddzielenie logiki tworzenia obiektów od ich zastosowania: wzorzec pozwala na tworzenie obiektów bez konieczności określania ich klas w kodzie głównym,\n",
    "- łatwe rozszerzanie i modyfikacja kodu: wzorzec zapewnia łatwą możliwość dodawania nowych typów obiektów bez ingerencji w istniejący kod,\n",
    "- zastosowanie w systemach opartych na interfejsach i polimorfizmie: metoda jest przydatna w implementacjach, które wymagają dynamicznego tworzenia obiektów w zależności od warunków uruchomieniowych."
   ]
  },
  {
   "cell_type": "markdown",
   "metadata": {},
   "source": [
    "<img src=\"img/factory_method.png\" width=\"45%\">"
   ]
  },
  {
   "cell_type": "markdown",
   "metadata": {},
   "source": [
    "<img src=\"img/factory_method_class.jpg\">"
   ]
  },
  {
   "cell_type": "markdown",
   "metadata": {},
   "source": [
    "## Implementacja"
   ]
  },
  {
   "cell_type": "markdown",
   "metadata": {},
   "source": [
    "Cel: utworzenie obiektu klasy reprezentującej samochód osobowy lub autobus."
   ]
  },
  {
   "cell_type": "code",
   "execution_count": null,
   "metadata": {},
   "outputs": [],
   "source": [
    "from abc import ABC, abstractmethod"
   ]
  },
  {
   "cell_type": "markdown",
   "metadata": {},
   "source": [
    "Implementacja każdej klasy encji oraz każdej z fabryk powinna spełniać ten sam kontrakt. Należy zatem przygotować generyczne klasy abstrakcyjne, która posłużą jako szablon dla docelowych implementacji klas."
   ]
  },
  {
   "cell_type": "code",
   "execution_count": null,
   "metadata": {},
   "outputs": [],
   "source": [
    "class Vehicle(ABC):\n",
    "    @abstractmethod\n",
    "    def get_type(self) -> str:\n",
    "        pass\n",
    "\n",
    "    @abstractmethod\n",
    "    def capacity(self) -> int:\n",
    "        pass"
   ]
  },
  {
   "cell_type": "code",
   "execution_count": null,
   "metadata": {},
   "outputs": [],
   "source": [
    "class VehicleFactory(ABC):\n",
    "    @abstractmethod\n",
    "    def create_vehicle(self) -> Vehicle:\n",
    "        pass"
   ]
  },
  {
   "cell_type": "markdown",
   "metadata": {},
   "source": [
    "Implementacja każdej z encji będzie polegała na utworzeniu osobnych klas, gdzie każda z nich będzie reprezentowana przez innym typ pojazdu oraz pojemność miejsc."
   ]
  },
  {
   "cell_type": "code",
   "execution_count": null,
   "metadata": {},
   "outputs": [],
   "source": [
    "class Car(Vehicle):\n",
    "    def get_type(self) -> str:\n",
    "        return \"Car\"\n",
    "    \n",
    "    def capacity(self) -> int:\n",
    "        return 5"
   ]
  },
  {
   "cell_type": "code",
   "execution_count": null,
   "metadata": {},
   "outputs": [],
   "source": [
    "class Bus(Vehicle):\n",
    "    def get_type(self) -> str:\n",
    "        return \"Bus\"\n",
    "    \n",
    "    def capacity(self) -> int:\n",
    "        return 50"
   ]
  },
  {
   "cell_type": "markdown",
   "metadata": {},
   "source": [
    "Klasy będące fabrykami poszczególnych encji zawierają metodę `create_vehicle()`, która będzie odpowiedzialna za zwrócenie instancji reprezentowanej encji."
   ]
  },
  {
   "cell_type": "code",
   "execution_count": null,
   "metadata": {},
   "outputs": [],
   "source": [
    "class CarFactory(VehicleFactory):\n",
    "    def create_vehicle(self) -> Vehicle:\n",
    "        return Car()"
   ]
  },
  {
   "cell_type": "code",
   "execution_count": null,
   "metadata": {},
   "outputs": [],
   "source": [
    "class BusFactory(VehicleFactory):\n",
    "    def create_vehicle(self) -> Vehicle:\n",
    "        return Bus()"
   ]
  },
  {
   "cell_type": "markdown",
   "metadata": {},
   "source": [
    "Klasa `Factory` reprezentująca fabrykę końcową, która produkuje pojazdy. Fabryka zawiera referencje zarówno do klasy `CarFactory`, jak i `BusFactory`."
   ]
  },
  {
   "cell_type": "code",
   "execution_count": null,
   "metadata": {},
   "outputs": [],
   "source": [
    "class Factory:\n",
    "    _factories: dict\n",
    "\n",
    "    def __init__(self) -> None:\n",
    "        self._factories = {\n",
    "            \"bus\": BusFactory,\n",
    "            \"car\": CarFactory,\n",
    "        }\n",
    "\n",
    "    def create_vehicle(self, type_: str) -> Vehicle:\n",
    "        return self._factories[type_]().create_vehicle()"
   ]
  },
  {
   "cell_type": "markdown",
   "metadata": {},
   "source": [
    "Finalne uruchomienie"
   ]
  },
  {
   "cell_type": "code",
   "execution_count": null,
   "metadata": {},
   "outputs": [],
   "source": [
    "factory = Factory()"
   ]
  },
  {
   "cell_type": "code",
   "execution_count": null,
   "metadata": {},
   "outputs": [],
   "source": [
    "car = factory.create_vehicle(\"car\")\n",
    "bus = factory.create_vehicle(\"bus\")"
   ]
  },
  {
   "cell_type": "code",
   "execution_count": null,
   "metadata": {},
   "outputs": [],
   "source": [
    "car.get_type(), car.capacity()"
   ]
  },
  {
   "cell_type": "code",
   "execution_count": null,
   "metadata": {},
   "outputs": [],
   "source": [
    "bus.get_type(), bus.capacity()"
   ]
  },
  {
   "cell_type": "markdown",
   "metadata": {},
   "source": [
    "## Podsumowanie"
   ]
  },
  {
   "cell_type": "markdown",
   "metadata": {},
   "source": [
    "Metody wytwórcza jest wykorzystywana w przypadkach, gdy istnieje potrzeba oddania podklasom możliwości tworzenia i inicjalizowania obiektów. Takie podejście rodzi pewne konsekwencje:\n",
    "- podklasy obsługują proces tworzenia obiektów,\n",
    "- klasa bazowa nie wie dokładnie jaki obiekt został stworzony,\n",
    "- metoda klasy bazowej może być abstrakcyjna,\n",
    "- istnieje możliwość łatwego dodania nowej wyspecjalizowaną klasy, która zostanie automatycznie dodana do procesu tworzenia."
   ]
  }
 ],
 "metadata": {
  "kernelspec": {
   "display_name": ".venv",
   "language": "python",
   "name": "python3"
  },
  "language_info": {
   "codemirror_mode": {
    "name": "ipython",
    "version": 3
   },
   "file_extension": ".py",
   "mimetype": "text/x-python",
   "name": "python",
   "nbconvert_exporter": "python",
   "pygments_lexer": "ipython3",
   "version": "3.13.0"
  }
 },
 "nbformat": 4,
 "nbformat_minor": 2
}
