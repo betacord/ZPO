{
 "cells": [
  {
   "cell_type": "markdown",
   "metadata": {},
   "source": [
    "# Pamiątka"
   ]
  },
  {
   "cell_type": "markdown",
   "metadata": {},
   "source": [
    "Pamiątka (ang. Memento) to czynnościowy wzorzec projektowy, który umożliwia zapisywanie i przywracanie wcześniejszych stanów obiektu bez naruszania jego hermetyzacji. Wzorzec składa się z trzech głównych elementów: Pamiątki, która przechowuje zapisany stan obiektu, obiektu oryginalnego, który tworzy i odtwarza pamiątki oraz opiekuna, który zarządza pamiątkami i decyduje, kiedy je przywrócić. Dzięki takiemu podejściu możliwe jest implementowanie operacji cofania (ang. undo) i powtarzania (ang. redo), a także zachowanie jednoczesnej enkapsulacji wewnętrznych stanów obiektów."
   ]
  },
  {
   "cell_type": "markdown",
   "metadata": {},
   "source": [
    "## Przeznaczenie i zastosowanie\n",
    "- Umożliwienie cofania zmian w obiektach poprzez przywracanie wcześniejszych stanów.\n",
    "- Zachowanie hermetyzacji obiektu, gdzie jego wewnętrzny stan jest zapisywany i odtwarzany bez ujawniania szczegółów implementacyjnych.\n",
    "- Odseparowanie logiki zapisu i przywracania stanu od implementacji samego obiektu.\n",
    "- Umożliwienie śledzenia i odtwarzania historii zmian bez ingerencji w strukturę bazowego obiektu."
   ]
  },
  {
   "cell_type": "markdown",
   "metadata": {},
   "source": [
    "<img src=\"img/Memento_Design_Pattern_UML.jpg\">"
   ]
  },
  {
   "cell_type": "markdown",
   "metadata": {},
   "source": [
    "<img src=\"img/Template_Method_Design_Pattern_UML.jpg\">"
   ]
  },
  {
   "cell_type": "markdown",
   "metadata": {},
   "source": [
    "## Implementacja dla typu prostego"
   ]
  },
  {
   "cell_type": "markdown",
   "metadata": {},
   "source": [
    "Cel: śledzenie stanu obiektu przechowującego pojedynczą wartość. Wszystkie wartości stanów znajdują się w liście w atrybucie `_states`. Pozycja bieżącego stanu przechowywana jest w atrybucie `_i` i może być modyfikowana celem przywrócenia wcześniejszych stanów."
   ]
  },
  {
   "cell_type": "code",
   "execution_count": null,
   "metadata": {},
   "outputs": [],
   "source": [
    "class Memento:\n",
    "    _states: list\n",
    "    _i: int\n",
    "\n",
    "    def __init__(self) -> None:\n",
    "        self._states = []\n",
    "        self._i = -1\n",
    "\n",
    "    def save_state(self, state: str) -> None:\n",
    "        if self._i != len(self._states) - 1:\n",
    "            self._states = self._states[:self._i + 1]\n",
    "\n",
    "        self._states.append(state)\n",
    "        self._i += 1\n",
    "\n",
    "    def undo(self) -> None:\n",
    "        if self._i > 0:\n",
    "            self._i -= 1\n",
    "\n",
    "    def redo(self) -> None:\n",
    "        if self._i < len(self._states) - 1:\n",
    "            self._i += 1\n",
    "\n",
    "    def read_state(self) -> str:\n",
    "        return self._states[self._i]"
   ]
  },
  {
   "cell_type": "markdown",
   "metadata": {},
   "source": [
    "Kod klienta"
   ]
  },
  {
   "cell_type": "code",
   "execution_count": null,
   "metadata": {},
   "outputs": [],
   "source": [
    "my_memento = Memento()"
   ]
  },
  {
   "cell_type": "code",
   "execution_count": null,
   "metadata": {},
   "outputs": [],
   "source": [
    "my_memento.save_state(\"1\")\n",
    "my_memento.save_state(\"2\")\n",
    "my_memento.save_state(\"3\")\n",
    "my_memento.save_state(\"4\")\n",
    "my_memento.save_state(\"5\")\n",
    "my_memento.undo()\n",
    "my_memento.undo()\n",
    "my_memento.read_state()"
   ]
  },
  {
   "cell_type": "code",
   "execution_count": null,
   "metadata": {},
   "outputs": [],
   "source": [
    "my_memento.save_state(\"6\")\n",
    "my_memento.read_state()"
   ]
  },
  {
   "cell_type": "code",
   "execution_count": null,
   "metadata": {},
   "outputs": [],
   "source": [
    "my_memento.redo()\n",
    "my_memento.read_state()"
   ]
  },
  {
   "cell_type": "code",
   "execution_count": null,
   "metadata": {},
   "outputs": [],
   "source": [
    "my_memento.undo()\n",
    "my_memento.read_state()"
   ]
  },
  {
   "cell_type": "markdown",
   "metadata": {},
   "source": [
    "## Implementacja dla typu złożonego"
   ]
  },
  {
   "cell_type": "markdown",
   "metadata": {},
   "source": [
    "Cel: lista rzeczy do wykonania z możliwością śledzenia historii stanów wpisów. Śledzenie stanów odbywa się, jak poprzednio, za pomocą klasy `Memento`."
   ]
  },
  {
   "cell_type": "code",
   "execution_count": null,
   "metadata": {},
   "outputs": [],
   "source": [
    "class Memento:\n",
    "    _states: list\n",
    "    _i: int\n",
    "\n",
    "    def __init__(self) -> None:\n",
    "        self._states = []\n",
    "        self._i = -1\n",
    "\n",
    "    def save_state(self, state: str) -> None:\n",
    "        if self._i != len(self._states) - 1:\n",
    "            self._states = self._states[:self._i + 1]\n",
    "\n",
    "        self._states.append(state)\n",
    "        self._i += 1\n",
    "\n",
    "    def undo(self) -> None:\n",
    "        if self._i > 0:\n",
    "            self._i -= 1\n",
    "\n",
    "    def redo(self) -> None:\n",
    "        if self._i < len(self._states) - 1:\n",
    "            self._i += 1\n",
    "\n",
    "    def read_state(self) -> str:\n",
    "        return self._states[self._i]"
   ]
  },
  {
   "cell_type": "markdown",
   "metadata": {},
   "source": [
    "Ostateczna obsługa listy leży w zakresie klasy `TodoList`, która współpracuje z klasą `Memento` na zasadzie kompozycji."
   ]
  },
  {
   "cell_type": "code",
   "execution_count": null,
   "metadata": {},
   "outputs": [],
   "source": [
    "class TodoList:\n",
    "    def __init__(self) -> None:\n",
    "        self.todos = []\n",
    "        self.memento = Memento()\n",
    "\n",
    "    def add_goal(self, goal: str) -> None:\n",
    "        self.todos.append(goal)\n",
    "        self.memento.save_state(self.todos)\n",
    "\n",
    "    def show_goals(self, show_ended: bool = True) -> None:\n",
    "        for i, goal in enumerate(self.todos):\n",
    "            if not show_ended and goal.startswith(\"!\"):\n",
    "                continue\n",
    "            print(i+1, goal)\n",
    "\n",
    "    def end_goal(self, num: int) -> None:\n",
    "        self.todos[num-1] = \"!\" + self.todos[num-1]\n",
    "        self.memento.save_state(self.todos)\n",
    "\n",
    "    def undo(self) -> None:\n",
    "        self.memento.undo()\n",
    "        self.todos = self.memento.read_state()\n",
    "\n",
    "    def redo(self) -> None:\n",
    "        self.memento.redo()\n",
    "        self.todos = self.memento.read_state()\n"
   ]
  },
  {
   "cell_type": "markdown",
   "metadata": {},
   "source": [
    "Kod klienta"
   ]
  },
  {
   "cell_type": "code",
   "execution_count": null,
   "metadata": {},
   "outputs": [],
   "source": [
    "my_list = TodoList()"
   ]
  },
  {
   "cell_type": "code",
   "execution_count": null,
   "metadata": {},
   "outputs": [],
   "source": [
    "my_list.add_goal(\"Spisać licznik\")\n",
    "my_list.show_goals()"
   ]
  },
  {
   "cell_type": "code",
   "execution_count": null,
   "metadata": {},
   "outputs": [],
   "source": [
    "my_list.add_goal(\"Wysłać zwrot\")\n",
    "my_list.add_goal(\"Kupić mleko na promocji\")\n",
    "my_list.show_goals()"
   ]
  },
  {
   "cell_type": "code",
   "execution_count": null,
   "metadata": {},
   "outputs": [],
   "source": [
    "my_list.end_goal(1)"
   ]
  },
  {
   "cell_type": "code",
   "execution_count": null,
   "metadata": {},
   "outputs": [],
   "source": [
    "my_list.show_goals()"
   ]
  },
  {
   "cell_type": "code",
   "execution_count": null,
   "metadata": {},
   "outputs": [],
   "source": [
    "my_list.show_goals(show_ended=False)"
   ]
  },
  {
   "cell_type": "code",
   "execution_count": null,
   "metadata": {},
   "outputs": [],
   "source": [
    "my_list.undo()"
   ]
  },
  {
   "cell_type": "code",
   "execution_count": null,
   "metadata": {},
   "outputs": [],
   "source": [
    "my_list.show_goals()"
   ]
  },
  {
   "cell_type": "markdown",
   "metadata": {},
   "source": [
    "## Podsumowanie"
   ]
  },
  {
   "cell_type": "markdown",
   "metadata": {},
   "source": [
    "Pamiątka to czynnościowy wzorzec projektowy, który umożliwia zapisywanie i przywracanie wcześniejszych stanów obiektu bez naruszania jego hermetyzacji. Takie podejście prowadzi do pewnych konsekwencji:\n",
    "- eliminacja potrzeby tworzenia wielu instancji tego samego obiektu w celu przechowywania jego stanu,\n",
    "- zwiększenie złożoności pamięciowej,\n",
    "- oddelegowanie procesu wczytywania i zapisu stanu do zewnętrznego obiektu."
   ]
  }
 ],
 "metadata": {
  "kernelspec": {
   "display_name": ".venv",
   "language": "python",
   "name": "python3"
  },
  "language_info": {
   "codemirror_mode": {
    "name": "ipython",
    "version": 3
   },
   "file_extension": ".py",
   "mimetype": "text/x-python",
   "name": "python",
   "nbconvert_exporter": "python",
   "pygments_lexer": "ipython3",
   "version": "3.13.0"
  }
 },
 "nbformat": 4,
 "nbformat_minor": 2
}
