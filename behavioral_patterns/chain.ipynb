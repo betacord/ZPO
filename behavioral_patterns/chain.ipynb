{
 "cells": [
  {
   "cell_type": "markdown",
   "metadata": {},
   "source": [
    "# Łańcuch zobowiązań"
   ]
  },
  {
   "cell_type": "markdown",
   "metadata": {},
   "source": [
    "Łańcuch Zobowiązań (ang. Chain of Responsibility) to czynnościowy wzorzec projektowy, który umożliwia przekazywanie żądania przez sekwencję potencjalnych obsługujących (handlerów) bez potrzeby jawnego określania, który z nich je obsłuży. Każdy handler decyduje, czy obsłużyć żądanie lub przekazać je dalej w łańcuchu. Dzięki takiemu podejściu możliwe jest dynamiczne kształtowanie procesu obsługi żądań i uniknięcie sztywnego powiązania między nadawcą a odbiorcą."
   ]
  },
  {
   "cell_type": "markdown",
   "metadata": {},
   "source": [
    "## Zastosowanie i przeznaczenie"
   ]
  },
  {
   "cell_type": "markdown",
   "metadata": {},
   "source": [
    "- Eliminacja bezpośrednich powiązań między nadawcą, a odbiorcami żądania.\n",
    "- Umożliwienie dynamicznego dodawania lub usuwania elementów obsługujących żądania.\n",
    "- Zapewnienie elastyczności w obsłudze żądań poprzez kaskadowe delegowanie odpowiedzialności."
   ]
  },
  {
   "cell_type": "markdown",
   "metadata": {},
   "source": [
    "<img src=\"img/Chain_of_Responsibility_Design_Pattern_UML.jpg\">"
   ]
  },
  {
   "cell_type": "markdown",
   "metadata": {},
   "source": [
    "## Implementacja z wykorzystaniem listy hierarchii obiektów"
   ]
  },
  {
   "cell_type": "markdown",
   "metadata": {},
   "source": [
    "Cel: symulacja procesu delegowania zadań w pewnej organizacji rozpoczynając od szczytu"
   ]
  },
  {
   "cell_type": "code",
   "execution_count": null,
   "metadata": {},
   "outputs": [],
   "source": [
    "from abc import ABC"
   ]
  },
  {
   "cell_type": "markdown",
   "metadata": {},
   "source": [
    "Abstrakcja klasy pracownika"
   ]
  },
  {
   "cell_type": "code",
   "execution_count": null,
   "metadata": {},
   "outputs": [],
   "source": [
    "class TeamMember(ABC):\n",
    "    task: str\n",
    "\n",
    "    def process(self, task: str) -> bool | None:\n",
    "        print(f\"No one can do {task}. Please hire a new specialist.\")"
   ]
  },
  {
   "cell_type": "markdown",
   "metadata": {},
   "source": [
    "Klasa dyrektora, który w zakresie obowiązków ma metody: `meet_the_president()` oraz `meet_the_prime_minister()`"
   ]
  },
  {
   "cell_type": "code",
   "execution_count": null,
   "metadata": {},
   "outputs": [],
   "source": [
    "class Director(TeamMember):\n",
    "    def process(self, task: str) -> bool | None:\n",
    "        if \"meet\" in task:\n",
    "            if \"president\" in task:\n",
    "                self.meet_the_president()\n",
    "                return True\n",
    "            elif \"minister\" in task:\n",
    "                self.meet_the_prime_minister()\n",
    "                return True\n",
    "        \n",
    "        return False\n",
    "\n",
    "    @staticmethod\n",
    "    def meet_the_president() -> None:\n",
    "        print(\"Meet the president\")\n",
    "\n",
    "    @staticmethod\n",
    "    def meet_the_prime_minister() -> None:\n",
    "        print(\"Meet the Prime Minister\")"
   ]
  },
  {
   "cell_type": "markdown",
   "metadata": {},
   "source": [
    "Klasa zastępcy dyrektora, w zakresie obowiązków którego znajdują się metody: `meet_someone_else()` oraz `sign_documents()`."
   ]
  },
  {
   "cell_type": "code",
   "execution_count": null,
   "metadata": {},
   "outputs": [],
   "source": [
    "class ViceDirector(TeamMember):\n",
    "    def process(self, task: str) -> bool | None:\n",
    "        if \"meet\" in task:\n",
    "            self.meet_someone_else()\n",
    "            return True\n",
    "        if \"sign\" in task:\n",
    "            self.sign_documents()\n",
    "        \n",
    "        return False\n",
    "\n",
    "    @staticmethod\n",
    "    def meet_someone_else() -> None:\n",
    "        print(\"Meet...\")\n",
    "\n",
    "    @staticmethod\n",
    "    def sign_documents() -> None:\n",
    "        print(\"Sign documents\")"
   ]
  },
  {
   "cell_type": "markdown",
   "metadata": {},
   "source": [
    "Klasa kierownika z metodami: `find_someone()`, `add_task()` oraz `check_the_process()`."
   ]
  },
  {
   "cell_type": "code",
   "execution_count": null,
   "metadata": {},
   "outputs": [],
   "source": [
    "class Manager(TeamMember):\n",
    "    def process(self, task: str) -> bool | None:\n",
    "        if \"find\" in task:\n",
    "            self.find_someone()\n",
    "            return True\n",
    "        if \"task\" in task:\n",
    "            self.add_task()\n",
    "            return True\n",
    "        if \"check\" in task and \"process\" in task:\n",
    "            self.check_the_process()\n",
    "            return True\n",
    "        \n",
    "        return False\n",
    "\n",
    "    @staticmethod\n",
    "    def find_someone() -> None:\n",
    "        print(\"Find a new worker\")\n",
    "\n",
    "    @staticmethod\n",
    "    def add_task() -> None:\n",
    "        print(\"Add task to someone\")\n",
    "\n",
    "    @staticmethod\n",
    "    def check_the_process() -> None:\n",
    "        print(\"Check the process\")"
   ]
  },
  {
   "cell_type": "markdown",
   "metadata": {},
   "source": [
    "Klasa sekretarki z metodami: `call()`, `write_back()` oraz `get_tea()`."
   ]
  },
  {
   "cell_type": "code",
   "execution_count": null,
   "metadata": {},
   "outputs": [],
   "source": [
    "class Secretary(TeamMember):\n",
    "    def process(self, task: str) -> bool | None:\n",
    "        if \"call\" in task:\n",
    "            self.call()\n",
    "            return True\n",
    "        if \"write\" in task and \"back\" in task:\n",
    "            self.write_back()\n",
    "            return True\n",
    "        if \"tea\" in task:\n",
    "            self.get_tea()\n",
    "            return True\n",
    "\n",
    "        return False\n",
    "\n",
    "    @staticmethod\n",
    "    def call() -> None:\n",
    "        print(\"Call\")\n",
    "\n",
    "    @staticmethod\n",
    "    def write_back() -> None:\n",
    "        print(\"Write back\")\n",
    "\n",
    "    @staticmethod\n",
    "    def get_tea() -> None:\n",
    "        print(\"Get tea\")"
   ]
  },
  {
   "cell_type": "markdown",
   "metadata": {},
   "source": [
    "Klasa szeregowego pracownika, który ma jedynie metodę `do_work()`."
   ]
  },
  {
   "cell_type": "code",
   "execution_count": null,
   "metadata": {},
   "outputs": [],
   "source": [
    "class Worker(TeamMember):\n",
    "    def process(self, task: str) -> bool | None:\n",
    "        if \"work\" in task:\n",
    "            self.do_work()\n",
    "            return True\n",
    "\n",
    "        return False\n",
    "\n",
    "    @staticmethod\n",
    "    def do_work():\n",
    "        print(\"Do good job\")\n"
   ]
  },
  {
   "cell_type": "markdown",
   "metadata": {},
   "source": [
    "Łańcuch zobowiązań, który dopasowuje metodę do zadania wg jej nazwy. Hierarchia poszukiwań zaczyna się na szczycie i wędruje w dół."
   ]
  },
  {
   "cell_type": "code",
   "execution_count": null,
   "metadata": {},
   "outputs": [],
   "source": [
    "class Chain:\n",
    "    chain: list\n",
    "\n",
    "    def __init__(self):\n",
    "        self.chain = []\n",
    "\n",
    "    def run_task(self, task: str) -> None:\n",
    "        for link in self.chain:\n",
    "            result = link.process(task)\n",
    "            if result:\n",
    "                break"
   ]
  },
  {
   "cell_type": "markdown",
   "metadata": {},
   "source": [
    "Kod klienta"
   ]
  },
  {
   "cell_type": "code",
   "execution_count": null,
   "metadata": {},
   "outputs": [],
   "source": [
    "chain_0 = Chain()"
   ]
  },
  {
   "cell_type": "code",
   "execution_count": null,
   "metadata": {},
   "outputs": [],
   "source": [
    "chain_0.chain.append(Director())\n",
    "chain_0.chain.append(ViceDirector())\n",
    "chain_0.chain.append(Manager())\n",
    "chain_0.chain.append(Secretary())\n",
    "chain_0.chain.append(Worker())\n",
    "chain_0.chain.append(TeamMember())"
   ]
  },
  {
   "cell_type": "code",
   "execution_count": null,
   "metadata": {},
   "outputs": [],
   "source": [
    "task = \"bring a tea\"\n",
    "chain_0.run_task(task)"
   ]
  },
  {
   "cell_type": "markdown",
   "metadata": {},
   "source": [
    "## Implementacja z wykorzystaniem zachowanej hierarchii"
   ]
  },
  {
   "cell_type": "markdown",
   "metadata": {},
   "source": [
    "Cel: symulacja przechwytywania zdarzeń przez zagnieżdżone obiekty"
   ]
  },
  {
   "cell_type": "code",
   "execution_count": null,
   "metadata": {},
   "outputs": [],
   "source": [
    "from abc import ABC\n",
    "from typing import Self"
   ]
  },
  {
   "cell_type": "markdown",
   "metadata": {},
   "source": [
    "Klasa reprezentują zdarzenie systemowe"
   ]
  },
  {
   "cell_type": "code",
   "execution_count": null,
   "metadata": {},
   "outputs": [],
   "source": [
    "class Event:\n",
    "    name: str\n",
    "\n",
    "    def __init__(self, name: str) -> None:\n",
    "        self.name = name"
   ]
  },
  {
   "cell_type": "markdown",
   "metadata": {},
   "source": [
    "Abstrakcja widgetu mogącego obsłużyć wydarzenie."
   ]
  },
  {
   "cell_type": "code",
   "execution_count": null,
   "metadata": {},
   "outputs": [],
   "source": [
    "class Widget(ABC):\n",
    "    parent: Self\n",
    "\n",
    "    def __init__(self, parent: Self = None) -> None:\n",
    "        self.parent = parent\n",
    "\n",
    "    @staticmethod\n",
    "    def default_handler(event: Event) -> None:\n",
    "        print(f\"Unable to handle event {event.name}\")\n",
    "\n",
    "    def handle(self, event: Event) -> None:\n",
    "        handle_name = f\"handle_{event.name}\"\n",
    "        if hasattr(self, handle_name):\n",
    "            handler = getattr(self, handle_name)\n",
    "            handler(event)\n",
    "        elif self.parent is not None:\n",
    "            self.parent.handle(event)\n",
    "        else:\n",
    "            self.default_handler(event)"
   ]
  },
  {
   "cell_type": "markdown",
   "metadata": {},
   "source": [
    "Klasa widgetu okna, które obsługuje wydarzenie `close`."
   ]
  },
  {
   "cell_type": "code",
   "execution_count": null,
   "metadata": {},
   "outputs": [],
   "source": [
    "class Window(Widget):\n",
    "    @staticmethod\n",
    "    def handle_close(event: Event) -> None:\n",
    "        print(f\"Window closed by event: {event}\")"
   ]
  },
  {
   "cell_type": "markdown",
   "metadata": {},
   "source": [
    "Klasa widgetu okna dialogowego obsługującego zdarzenia: `ok`, `cancel` i `send`."
   ]
  },
  {
   "cell_type": "code",
   "execution_count": null,
   "metadata": {},
   "outputs": [],
   "source": [
    "class Dialog(Widget):\n",
    "    @staticmethod\n",
    "    def handle_ok(event: Event) -> None:\n",
    "        print(f\"Accepted by event: {event}\")\n",
    "\n",
    "    @staticmethod\n",
    "    def handle_cancel(event: Event) -> None:\n",
    "        print(f\"Cancel by event: {event}\")\n",
    "\n",
    "    @staticmethod\n",
    "    def handle_send(event: Event) -> None:\n",
    "        print(f\"Sent by event: {event}\")"
   ]
  },
  {
   "cell_type": "markdown",
   "metadata": {},
   "source": [
    "Kod klienta"
   ]
  },
  {
   "cell_type": "code",
   "execution_count": null,
   "metadata": {},
   "outputs": [],
   "source": [
    "window = Window()\n",
    "dialog = Dialog(parent=window)"
   ]
  },
  {
   "cell_type": "code",
   "execution_count": null,
   "metadata": {},
   "outputs": [],
   "source": [
    "event = Event(\"ok\")\n",
    "dialog.handle(event)"
   ]
  },
  {
   "cell_type": "code",
   "execution_count": null,
   "metadata": {},
   "outputs": [],
   "source": [
    "event = Event(\"close\")\n",
    "dialog.handle(event)"
   ]
  },
  {
   "cell_type": "code",
   "execution_count": null,
   "metadata": {},
   "outputs": [],
   "source": [
    "event = Event(\"closaae\")\n",
    "dialog.handle(event)"
   ]
  },
  {
   "cell_type": "markdown",
   "metadata": {},
   "source": [
    "## Podsumowanie"
   ]
  },
  {
   "cell_type": "markdown",
   "metadata": {},
   "source": [
    "Łańcuch Zobowiązań to czynnościowy wzorzec projektowy, który umożliwia przekazywanie żądania przez sekwencję potencjalnych obsługujących (handlerów) bez potrzeby jawnego określania, który z nich je obsłuży. Takie podejście rodzi konsekwencje:\n",
    "- ignorowanie lub oddelegowywanie zadań dalej w określonej hierarchii,\n",
    "- ogniwa łańcucha mozna modyfikować w sposób dynamiczny,\n",
    "- zadanie zostanie wykonane przez pierwszy obiekt w hierarchii potrafiący je obsłużyć,\n",
    "- mogą istnieć zadania nieobsłużone gdy nie istnieje domyślny handler,\n",
    "- każdy element łancucha powinien znać co najwyżej 2 sąsiednie elementy."
   ]
  }
 ],
 "metadata": {
  "kernelspec": {
   "display_name": ".venv",
   "language": "python",
   "name": "python3"
  },
  "language_info": {
   "codemirror_mode": {
    "name": "ipython",
    "version": 3
   },
   "file_extension": ".py",
   "mimetype": "text/x-python",
   "name": "python",
   "nbconvert_exporter": "python",
   "pygments_lexer": "ipython3",
   "version": "3.13.0"
  }
 },
 "nbformat": 4,
 "nbformat_minor": 2
}
