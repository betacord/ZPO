{
 "cells": [
  {
   "cell_type": "markdown",
   "metadata": {},
   "source": [
    "# Obserwator"
   ]
  },
  {
   "cell_type": "markdown",
   "metadata": {},
   "source": [
    "Obserwator (ang. Observer) to czynnościowy wzorzec projektowy, który umożliwia automatyczne powiadamianie wielu obiektów (obserwatorów) o zmianach stanu obiektu obserwowanego. Dzięki takiemu podejściu obserwatorzy są informowani o zmianach bez konieczności ciągłego sprawdzania stanu obiektu obserwowanego, co poprawia wydajność i luźne powiązanie między komponentami. Obserwator jest często stosowany w implementacji wzorca publisher-subscriber, gdzie obiekty mogą dynamicznie rejestrować się i wyrejestrowywać jako obserwatorzy."
   ]
  },
  {
   "cell_type": "markdown",
   "metadata": {},
   "source": [
    "## Przeznaczenie i zastosowanie"
   ]
  },
  {
   "cell_type": "markdown",
   "metadata": {},
   "source": [
    "- Umożliwienie automatycznego zawiadamiania wielu obserwatorów o zmianach w stanie obiektu obserwowanego.\n",
    "- Zmniejszenie sztycznego powiązania między obiektem obserwowanym, a jego obserwatorami.\n",
    "- Usprawnienie wydajności poprzez eliminację potrzeby ciągłego sprawdzania zmian.\n",
    "- Dynamiczne dodawanie i usuwanie obserwatorów w trakcie działania programu."
   ]
  },
  {
   "cell_type": "markdown",
   "metadata": {},
   "source": [
    "<img src=\"img/Observer_Design_Pattern_UML.jpg\">"
   ]
  },
  {
   "cell_type": "markdown",
   "metadata": {},
   "source": [
    "<img src=\"img/Observer_w_update.svg\" width=\"40%\">"
   ]
  },
  {
   "cell_type": "markdown",
   "metadata": {},
   "source": [
    "## Implementacja"
   ]
  },
  {
   "cell_type": "markdown",
   "metadata": {},
   "source": [
    "Cel: obserwacja pracownika przez jego managerów. W przypadku zbliżania się do końca prac, jego przełożeni zaczną szukać mu innych zajęć."
   ]
  },
  {
   "cell_type": "code",
   "execution_count": null,
   "metadata": {},
   "outputs": [],
   "source": [
    "from abc import ABC, abstractmethod\n",
    "from random import randint\n",
    "from typing import Any"
   ]
  },
  {
   "cell_type": "markdown",
   "metadata": {},
   "source": [
    "Klasa obiektu obserwowanego"
   ]
  },
  {
   "cell_type": "code",
   "execution_count": null,
   "metadata": {},
   "outputs": [],
   "source": [
    "class Observable(ABC):\n",
    "    _observers: set\n",
    "\n",
    "    def __init__(self) -> None:\n",
    "        self._observers = set()\n",
    "\n",
    "    def add_observer(self, observer: Any) -> None:\n",
    "        self._observers.add(observer)\n",
    "\n",
    "    def delete_observer(self, observer: Any) -> None:\n",
    "        self._observers.remove(observer)\n",
    "\n",
    "    def notify(self, *args: list, **kwargs: dict) -> None:\n",
    "        for observer in self._observers:\n",
    "            observer.notify(worker=self, *args, **kwargs)"
   ]
  },
  {
   "cell_type": "markdown",
   "metadata": {},
   "source": [
    "Klasa obserwatora"
   ]
  },
  {
   "cell_type": "code",
   "execution_count": null,
   "metadata": {},
   "outputs": [],
   "source": [
    "class Observer(ABC):\n",
    "    def __init__(self, observable: Observable) -> None:\n",
    "        observable.add_observer(self)\n",
    "\n",
    "    @abstractmethod\n",
    "    def notify(self, *args: list, **kwargs: dict) -> None:\n",
    "        pass"
   ]
  },
  {
   "cell_type": "markdown",
   "metadata": {},
   "source": [
    "Klasa obiektu obserwowanego"
   ]
  },
  {
   "cell_type": "code",
   "execution_count": null,
   "metadata": {},
   "outputs": [],
   "source": [
    "class Worker(Observable):\n",
    "    name: str\n",
    "\n",
    "    def __init__(self, name: str) -> None:\n",
    "        super().__init__()\n",
    "        self.progress = 0\n",
    "        self.limit = 100\n",
    "        self.name = name\n",
    "\n",
    "    def do_work(self) -> None:\n",
    "        self.progress += randint(1, 10)\n",
    "        self.progress = self.limit if self.progress > self.limit else self.progress\n",
    "        self.notify(self.progress)\n",
    "\n",
    "    def __str__(self):\n",
    "        return self.name"
   ]
  },
  {
   "cell_type": "markdown",
   "metadata": {},
   "source": [
    "Klasa obserwatora"
   ]
  },
  {
   "cell_type": "code",
   "execution_count": null,
   "metadata": {},
   "outputs": [],
   "source": [
    "class Manager(Observer):\n",
    "    def notify(self, *args: list, **kwargs: dict) -> None:\n",
    "        worker = kwargs[\"worker\"]\n",
    "        if args[0] > 70:\n",
    "            print(f\"I need to search some work for {worker}\")\n",
    "        else:\n",
    "            print(\"Worker has a lot of work at this moment\")"
   ]
  },
  {
   "cell_type": "markdown",
   "metadata": {},
   "source": [
    "Kod klienta"
   ]
  },
  {
   "cell_type": "code",
   "execution_count": null,
   "metadata": {},
   "outputs": [],
   "source": [
    "worker = Worker(\"Zbyszek\")\n",
    "manager1 = Manager(worker)\n",
    "manager2 = Manager(worker)"
   ]
  },
  {
   "cell_type": "code",
   "execution_count": null,
   "metadata": {},
   "outputs": [],
   "source": [
    "for _ in range(20):\n",
    "    worker.do_work()"
   ]
  },
  {
   "cell_type": "markdown",
   "metadata": {},
   "source": [
    "## Podsumowanie"
   ]
  },
  {
   "cell_type": "markdown",
   "metadata": {},
   "source": [
    "Obserwator (ang. Observer) to czynnościowy wzorzec projektowy, który umożliwia automatyczne powiadamianie wielu obiektów (obserwatorów) o zmianach stanu obiektu obserwowanego. Takie podejście powoduje konsekwencje:\n",
    "- obserwatora i obserwowanego łączy tylko fakt obserwowania i nie muszą mieć podobnej struktury,\n",
    "- usunięcie obserwatora nie jest mozliwe jeśli ten znajduje się na liście u obserwowanego (mogą wystąpić wycieki pamięci),\n",
    "- zmiany u obu stron nie wpływają na relację obserwowania,\n",
    "- lista obiektów obserwujących moze być zmieniana podczas działania kodu,\n",
    "- lista obiektów obserwujących moze być sortowana np. względem priorytetów zawiadamiania,\n",
    "- obserwowany wysyła powiadomienie do wszystkich obserwatorów,\n",
    "- obserwatorzy nie wiedzą o sobie wzajemnie."
   ]
  }
 ],
 "metadata": {
  "kernelspec": {
   "display_name": ".venv",
   "language": "python",
   "name": "python3"
  },
  "language_info": {
   "codemirror_mode": {
    "name": "ipython",
    "version": 3
   },
   "file_extension": ".py",
   "mimetype": "text/x-python",
   "name": "python",
   "nbconvert_exporter": "python",
   "pygments_lexer": "ipython3",
   "version": "3.13.0"
  }
 },
 "nbformat": 4,
 "nbformat_minor": 2
}
