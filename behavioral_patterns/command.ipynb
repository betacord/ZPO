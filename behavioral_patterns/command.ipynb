{
 "cells": [
  {
   "cell_type": "markdown",
   "metadata": {},
   "source": [
    "# Polecenie"
   ]
  },
  {
   "cell_type": "markdown",
   "metadata": {},
   "source": [
    "Polecenie (ang. Command) to czynnościowy wzorzec projektowy, który enkapsuluje żądanie jako obiekt, pozwalając na jego parametryzację, kolejkowanie, logowanie oraz późniejsze wykonanie. Wzorzec polecenie oddziela nadawcę polecenia od jego odbiorcy, co umożliwia dynamiczne zarządzanie działaniami, np. poprzez implementację operacji cofania (undo) lub wykonywania zadań w kolejności. Wzorzec ten składa się z czterech kluczowych elementów: polecenia, które określa akcję do wykonania; odbiorcy, który wykonuje akcję; wywołującego, który inicjuje polecenie oraz klienta, który konfiguruje polecenie."
   ]
  },
  {
   "cell_type": "markdown",
   "metadata": {},
   "source": [
    "## Przeznaczenie i zastosowanie"
   ]
  },
  {
   "cell_type": "markdown",
   "metadata": {},
   "source": [
    "- Oddzielenie obiektów wysyłających żądania od obiektów, które je wykonują.\n",
    "- Możliwość kolejkowania, planowania i logowania poleceń.\n",
    "- Umożliwienie dynamicznej konfiguracji i komponowania poleceń."
   ]
  },
  {
   "cell_type": "markdown",
   "metadata": {},
   "source": [
    "<img src=\"img/Command_Design_Pattern_UML.jpg\">"
   ]
  },
  {
   "cell_type": "markdown",
   "metadata": {},
   "source": [
    "<img src=\"img/Command_pattern.svg\" width=\"45%\">"
   ]
  },
  {
   "cell_type": "markdown",
   "metadata": {},
   "source": [
    "## Implementacja w postaci łańcucha komend"
   ]
  },
  {
   "cell_type": "markdown",
   "metadata": {},
   "source": [
    "Klasa odbiornika odpowiedzialnego za wykonywanie poleceń"
   ]
  },
  {
   "cell_type": "code",
   "execution_count": null,
   "metadata": {},
   "outputs": [],
   "source": [
    "class Receiver:\n",
    "    @staticmethod\n",
    "    def execute(data: str = \"\"):\n",
    "        print(f\"An action executed with data: {data}\")"
   ]
  },
  {
   "cell_type": "markdown",
   "metadata": {},
   "source": [
    "Klasa reprezentująca polecenie"
   ]
  },
  {
   "cell_type": "code",
   "execution_count": null,
   "metadata": {},
   "outputs": [],
   "source": [
    "class Command:\n",
    "    _receiver: Receiver\n",
    "\n",
    "    def __init__(self, receiver: Receiver) -> None:\n",
    "        self._receiver = receiver\n",
    "\n",
    "    def execute(self, data: str = \"\") -> None:\n",
    "        print(\"The command passed to receiver.\")\n",
    "        self._receiver.execute(data)\n",
    "\n",
    "    def __str__(self) -> str:\n",
    "        return f\"Command to receiver {self._receiver}\""
   ]
  },
  {
   "cell_type": "markdown",
   "metadata": {},
   "source": [
    "Klasa wywołującego. Oprócz kolejkowania komend do wykoanania na odbiornikach, zawiera także ich pełną historię wywołania."
   ]
  },
  {
   "cell_type": "code",
   "execution_count": null,
   "metadata": {},
   "outputs": [],
   "source": [
    "class Caller:\n",
    "    _commands: list\n",
    "\n",
    "    def __init__(self) -> None:\n",
    "        self._commands = []\n",
    "\n",
    "    def store_command(self, command: Command, data: str = \"\") -> None:\n",
    "        self._commands.append((command, data))\n",
    "\n",
    "    def execute_commands(self) -> None:\n",
    "        for command, data in self._commands:\n",
    "            command.execute(data)\n",
    "\n",
    "    def show_commands(self) -> None:\n",
    "        for command, data in self._commands:\n",
    "            print(command)\n",
    "\n",
    "    def show_history(self) -> None:\n",
    "        for command, data in self._commands[::-1]:\n",
    "            print(command)"
   ]
  },
  {
   "cell_type": "markdown",
   "metadata": {},
   "source": [
    "Kod klienta"
   ]
  },
  {
   "cell_type": "code",
   "execution_count": null,
   "metadata": {},
   "outputs": [],
   "source": [
    "tool = Receiver()\n",
    "cmd1 = Command(tool)\n",
    "cmd2 = Command(tool)\n",
    "caller = Caller()"
   ]
  },
  {
   "cell_type": "code",
   "execution_count": null,
   "metadata": {},
   "outputs": [],
   "source": [
    "caller.store_command(cmd1, \"do command 1\")\n",
    "caller.store_command(cmd2, \"do command 2\")\n",
    "caller.execute_commands()"
   ]
  },
  {
   "cell_type": "code",
   "execution_count": null,
   "metadata": {},
   "outputs": [],
   "source": [
    "caller.show_history()"
   ]
  },
  {
   "cell_type": "markdown",
   "metadata": {},
   "source": [
    "## Implementacja na przykładzie przełącznika latarki"
   ]
  },
  {
   "cell_type": "code",
   "execution_count": null,
   "metadata": {},
   "outputs": [],
   "source": [
    "from abc import ABC, abstractmethod\n",
    "from collections import deque"
   ]
  },
  {
   "cell_type": "markdown",
   "metadata": {},
   "source": [
    "Przełącznik - klasa wywołująca"
   ]
  },
  {
   "cell_type": "code",
   "execution_count": null,
   "metadata": {},
   "outputs": [],
   "source": [
    "class Switch:\n",
    "    history: deque\n",
    "\n",
    "    def __init__(self) -> None:\n",
    "        self.history = deque()\n",
    "\n",
    "    def execute(self, command):\n",
    "        self.history.appendleft(command)\n",
    "        command.execute()\n",
    "\n",
    "    def get_history(self):\n",
    "        return self.history"
   ]
  },
  {
   "cell_type": "markdown",
   "metadata": {},
   "source": [
    "Latarka - klasa reprezentująca odbiornik"
   ]
  },
  {
   "cell_type": "code",
   "execution_count": null,
   "metadata": {},
   "outputs": [],
   "source": [
    "class Torch:\n",
    "    state: str\n",
    "\n",
    "    def __init__(self, state: str = \"off\") -> None:\n",
    "        self.state = state\n",
    "\n",
    "    def turn_on(self) -> None:\n",
    "        print('Torch turned on')\n",
    "        self.state = 'on'\n",
    "\n",
    "    def turn_off(self) -> None:\n",
    "        print('Torch turned off')\n",
    "        self.state = 'off'"
   ]
  },
  {
   "cell_type": "markdown",
   "metadata": {},
   "source": [
    "Klasa reprezentująca abstrakcję polecenia"
   ]
  },
  {
   "cell_type": "code",
   "execution_count": null,
   "metadata": {},
   "outputs": [],
   "source": [
    "class Command(ABC):\n",
    "    torch: Torch\n",
    "\n",
    "    def __init__(self, torch: Torch) -> None:\n",
    "        self.torch = torch\n",
    "\n",
    "    @abstractmethod\n",
    "    def execute(self) -> None:\n",
    "        pass"
   ]
  },
  {
   "cell_type": "markdown",
   "metadata": {},
   "source": [
    "Implementacje klas poleceń"
   ]
  },
  {
   "cell_type": "code",
   "execution_count": null,
   "metadata": {},
   "outputs": [],
   "source": [
    "class TurnLightOn(Command):\n",
    "    def execute(self) -> None:\n",
    "        self.torch.turn_on()"
   ]
  },
  {
   "cell_type": "code",
   "execution_count": null,
   "metadata": {},
   "outputs": [],
   "source": [
    "class TurnLightOff(Command):\n",
    "    def execute(self) -> None:\n",
    "        self.torch.turn_off()"
   ]
  },
  {
   "cell_type": "markdown",
   "metadata": {},
   "source": [
    "Implementacja klasy wywoływacza"
   ]
  },
  {
   "cell_type": "code",
   "execution_count": null,
   "metadata": {},
   "outputs": [],
   "source": [
    "class TorchSwitcher:\n",
    "    torch: Torch\n",
    "    switch: Switch\n",
    "\n",
    "    def __init__(self, torch: Torch, switch: Switch) -> None:\n",
    "        self._torch = torch\n",
    "        self._switch = switch\n",
    "\n",
    "    def toggle(self, cmd: str) -> None:\n",
    "        if cmd.lower() == \"on\":\n",
    "            self._switch.execute(TurnLightOn(self._torch))\n",
    "        else:\n",
    "            self._switch.execute(TurnLightOff(self._torch))"
   ]
  },
  {
   "cell_type": "markdown",
   "metadata": {},
   "source": [
    "Kod klienta"
   ]
  },
  {
   "cell_type": "code",
   "execution_count": null,
   "metadata": {},
   "outputs": [],
   "source": [
    "my_torch = Torch()\n",
    "my_switcher = Switch()\n",
    "my_torch_switcher = TorchSwitcher(my_torch, my_switcher)"
   ]
  },
  {
   "cell_type": "code",
   "execution_count": null,
   "metadata": {},
   "outputs": [],
   "source": [
    "command = 'on'\n",
    "my_torch_switcher.toggle(command)"
   ]
  },
  {
   "cell_type": "code",
   "execution_count": null,
   "metadata": {},
   "outputs": [],
   "source": [
    "command = 'off'\n",
    "my_torch_switcher.toggle(command)"
   ]
  },
  {
   "cell_type": "code",
   "execution_count": null,
   "metadata": {},
   "outputs": [],
   "source": [
    "print(my_switcher.get_history())"
   ]
  },
  {
   "cell_type": "markdown",
   "metadata": {},
   "source": [
    "## Podsumowanie"
   ]
  },
  {
   "cell_type": "markdown",
   "metadata": {},
   "source": [
    "Polecenie to czynnościowy wzorzec projektowy, który enkapsuluje żądanie jako obiekt, pozwalając na jego parametryzację, kolejkowanie, logowanie oraz późniejsze wykonanie. Takie podejście rodzi konsekwencje:\n",
    "- dana komenda jest uruchamiana na żądanie,\n",
    "- czynność wykonywana na obiekcie jest w postaci odseparowanej (jako osobny obiekt),\n",
    "- obiekt wywołujący nie wie w jaki sposób działa ostateczny obiekt,\n",
    "- polecenia można uruchamiać zarówno sekwencyjnie, jak i równolegle."
   ]
  }
 ],
 "metadata": {
  "kernelspec": {
   "display_name": ".venv",
   "language": "python",
   "name": "python3"
  },
  "language_info": {
   "codemirror_mode": {
    "name": "ipython",
    "version": 3
   },
   "file_extension": ".py",
   "mimetype": "text/x-python",
   "name": "python",
   "nbconvert_exporter": "python",
   "pygments_lexer": "ipython3",
   "version": "3.13.0"
  }
 },
 "nbformat": 4,
 "nbformat_minor": 2
}
