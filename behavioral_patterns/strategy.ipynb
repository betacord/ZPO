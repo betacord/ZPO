{
 "cells": [
  {
   "cell_type": "markdown",
   "metadata": {},
   "source": [
    "# Strategia"
   ]
  },
  {
   "cell_type": "markdown",
   "metadata": {},
   "source": [
    "Strategia (ang. Strategy) to wzorzec czynnościowy, który pozwala na definiowanie rodzin algorytmów, enkapsulowanie ich i wybór odpowiedniego z nich w czasie działania programu. Strategoa polega na wydzieleniu algorytmów do osobnych klas i wykorzystaniu interfejsu do ich abstrakcyjnej obsługi. Dzięki takiemu podejściu można dynamicznie zmieniać sposób działania obiektu bez ingerowania w jego kod."
   ]
  },
  {
   "cell_type": "markdown",
   "metadata": {},
   "source": [
    "## Przeznaczenie i zastosowanie\n",
    "- Oddzielenie logiki wyboru algorytmu od jego implementacji.\n",
    "- Umożliwienie dynamicznej zmiany metody rozwiązywania danego problemu w czasie działania programu.\n",
    "- Redukcja złożoności klasy poprzez delegowanie logiki algorytmów do osobnych klas.\n",
    "- Ułatwienie testowania kodu poprzez możliwość zamiany implementacji strategii."
   ]
  },
  {
   "cell_type": "markdown",
   "metadata": {},
   "source": [
    "## Przykłady zastosowań\n",
    "- Kompresja danych i wybór optymalnej metody w trakcie działania procesu.\n",
    "- Dynamiczny wybór metody sortującej wektor na podstawie jego długości.\n",
    "- Metoda przedostania się między punktami na ziemi na podstawie drogi, odległości i ukształtowania terenu."
   ]
  },
  {
   "cell_type": "markdown",
   "metadata": {},
   "source": [
    "<img src=\"img/Strategy_Design_Pattern_UML.jpg\">"
   ]
  },
  {
   "cell_type": "markdown",
   "metadata": {},
   "source": [
    "## Implementacja bez użycia klas"
   ]
  },
  {
   "cell_type": "markdown",
   "metadata": {},
   "source": [
    "Cel: wybór metody sumowania listy na podstawie jej długości"
   ]
  },
  {
   "cell_type": "code",
   "execution_count": null,
   "metadata": {},
   "outputs": [],
   "source": [
    "import functools"
   ]
  },
  {
   "cell_type": "markdown",
   "metadata": {},
   "source": [
    "Funkcje sumujące listy. Każda z nich wykorzystuje własny algorytm, który może być mniej lub bardziej efektywny dla wektorów o zmiennej długości."
   ]
  },
  {
   "cell_type": "code",
   "execution_count": null,
   "metadata": {},
   "outputs": [],
   "source": [
    "def sum_list_1(list_) -> int:\n",
    "    print(\"Method 1\")\n",
    "    result_sum = 0\n",
    "    for num in list_:\n",
    "        result_sum += num\n",
    "    return result_sum\n",
    "\n",
    "def sum_list_2(list_) -> int:\n",
    "    print(\"Method 2\")\n",
    "    return sum(list_)\n",
    "\n",
    "def sum_list_3(list_) -> int:\n",
    "    print(\"Method 3\")\n",
    "    return functools.reduce(lambda x, y: x + y, list_)"
   ]
  },
  {
   "cell_type": "markdown",
   "metadata": {},
   "source": [
    "Strategia: wybór metody na podstawie długości wektora. Strategia dobierana jest za pomocą funkcji `sum_list_strategy`"
   ]
  },
  {
   "cell_type": "code",
   "execution_count": null,
   "metadata": {},
   "outputs": [],
   "source": [
    "def sum_list_strategy(list_) -> int:\n",
    "    if len(list_) < 100:\n",
    "        return sum_list_1(list_)\n",
    "    elif len(list_) < 10**5:\n",
    "        return sum_list_3(list_)\n",
    "    else:\n",
    "        return sum_list_2(list_)"
   ]
  },
  {
   "cell_type": "markdown",
   "metadata": {},
   "source": [
    "Kod klienta - uruchomienie sumatora"
   ]
  },
  {
   "cell_type": "code",
   "execution_count": null,
   "metadata": {},
   "outputs": [],
   "source": [
    "list_1 = [0, 1, 2, 3, 4, 5, 6, 7, 8, 9]\n",
    "list_2 = [x ** 2 for x in range(1, 1000)]\n",
    "list_3 = [2 * x + 1 for x in range(1, 10000000)]"
   ]
  },
  {
   "cell_type": "code",
   "execution_count": null,
   "metadata": {},
   "outputs": [],
   "source": [
    "sum_list_strategy(list_1)"
   ]
  },
  {
   "cell_type": "code",
   "execution_count": null,
   "metadata": {},
   "outputs": [],
   "source": [
    "sum_list_strategy(list_2)"
   ]
  },
  {
   "cell_type": "code",
   "execution_count": null,
   "metadata": {},
   "outputs": [],
   "source": [
    "sum_list_strategy(list_3)"
   ]
  },
  {
   "cell_type": "markdown",
   "metadata": {},
   "source": [
    "## Implementacja z wykorzystaniem klas"
   ]
  },
  {
   "cell_type": "markdown",
   "metadata": {},
   "source": [
    "Cel: Wybór metody transportu na podstawie pewnych czynników. W poniższej implementacji wybór jest pseudolosowy"
   ]
  },
  {
   "cell_type": "code",
   "execution_count": null,
   "metadata": {},
   "outputs": [],
   "source": [
    "from abc import ABC, abstractmethod\n",
    "from random import choice"
   ]
  },
  {
   "cell_type": "markdown",
   "metadata": {},
   "source": [
    "Abstrakcja klasy konkretnej strategii. Metoda `hit()` odzwierciedla sposób dotarcia do wyznaczonego celu."
   ]
  },
  {
   "cell_type": "code",
   "execution_count": null,
   "metadata": {},
   "outputs": [],
   "source": [
    "class Strategy(ABC):\n",
    "    price: float\n",
    "    velocity: int\n",
    "    max_distance: int\n",
    "    a: tuple\n",
    "\n",
    "    def __init__(self) -> None:\n",
    "        self.price = None\n",
    "        self.velocity = None\n",
    "        self.max_distance = None\n",
    "        self.a = None\n",
    "\n",
    "    @abstractmethod\n",
    "    def hit(self, place: tuple) -> None:\n",
    "        pass"
   ]
  },
  {
   "cell_type": "markdown",
   "metadata": {},
   "source": [
    "Implementacje klas strategii. Klasa `Walk` reprezentuje metodę \"z buta\", `Car` - autem, a `Plane` - samolotem."
   ]
  },
  {
   "cell_type": "code",
   "execution_count": null,
   "metadata": {},
   "outputs": [],
   "source": [
    "class Walk(Strategy):\n",
    "    def __init__(self) -> None:\n",
    "        super().__init__()\n",
    "        self.price = 0\n",
    "        self.velocity = 5\n",
    "        self.max_distance = 20\n",
    "\n",
    "    def hit(self, place: tuple) -> None:\n",
    "        print(f\"I went to place {place}\")"
   ]
  },
  {
   "cell_type": "code",
   "execution_count": null,
   "metadata": {},
   "outputs": [],
   "source": [
    "class Car(Strategy):\n",
    "    def __init__(self):\n",
    "        super().__init__()\n",
    "        self.price = 1\n",
    "        self.velocity = 60\n",
    "        self.max_distance = 400\n",
    "\n",
    "    def hit(self, place):\n",
    "        print(f'I drove to place {place}')"
   ]
  },
  {
   "cell_type": "code",
   "execution_count": null,
   "metadata": {},
   "outputs": [],
   "source": [
    "class Plane(Strategy):\n",
    "    def __init__(self) -> None:\n",
    "        super().__init__()\n",
    "        self.price = 5\n",
    "        self.velocity = 800\n",
    "        self.max_distance = 10000\n",
    "\n",
    "    def hit(self, place: tuple) -> None:\n",
    "        print(f\"I flew to place {place}\")"
   ]
  },
  {
   "cell_type": "markdown",
   "metadata": {},
   "source": [
    "Klasa wyboru strategii. W wersji idealnej wybór strategii powinien być deterministyczny"
   ]
  },
  {
   "cell_type": "code",
   "execution_count": null,
   "metadata": {},
   "outputs": [],
   "source": [
    "class TransportChooser:\n",
    "    def __init__(self, a: tuple, b: tuple, strategy: Strategy = None) -> None:\n",
    "        self.strategy = strategy\n",
    "        self.a = a\n",
    "        self.b = b\n",
    "        self.strategies = [Walk(), Car(), Plane()]\n",
    "\n",
    "    def use_strategy(self) -> None:\n",
    "        if self.strategy:\n",
    "            self.strategy.hit(self.b)\n",
    "            return\n",
    "        \n",
    "        choice(self.strategies).hit(self.b)"
   ]
  },
  {
   "cell_type": "markdown",
   "metadata": {},
   "source": [
    "Kod klienta"
   ]
  },
  {
   "cell_type": "code",
   "execution_count": null,
   "metadata": {},
   "outputs": [],
   "source": [
    "a = (1, 1)\n",
    "b = (5, 5)\n",
    "chooser = TransportChooser(a, b)\n",
    "chooser.use_strategy()"
   ]
  },
  {
   "cell_type": "markdown",
   "metadata": {},
   "source": [
    "## Podsumowanie"
   ]
  },
  {
   "cell_type": "markdown",
   "metadata": {},
   "source": [
    "Strategia to wzorzec czynnościowy, który pozwala na definiowanie rodzin algorytmów, enkapsulowanie ich i wybór odpowiedniego z nich w czasie działania programu. Takie podejście rodzi konsekwencje:\n",
    "- automatyczny lub manualny dobór metody rozwiązania problemu,\n",
    "- powstanie dodatkowej warstwy wyboru metody,\n",
    "- eleminacja instrukcji warunkowych po stronie klienta,\n",
    "- jednakowy wynik,\n",
    "- powstaje osobna klasy lub funkcji dla każdej ze strategii."
   ]
  }
 ],
 "metadata": {
  "kernelspec": {
   "display_name": ".venv",
   "language": "python",
   "name": "python3"
  },
  "language_info": {
   "codemirror_mode": {
    "name": "ipython",
    "version": 3
   },
   "file_extension": ".py",
   "mimetype": "text/x-python",
   "name": "python",
   "nbconvert_exporter": "python",
   "pygments_lexer": "ipython3",
   "version": "3.13.0"
  }
 },
 "nbformat": 4,
 "nbformat_minor": 2
}
