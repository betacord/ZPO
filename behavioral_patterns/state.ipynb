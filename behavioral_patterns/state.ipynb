{
 "cells": [
  {
   "cell_type": "markdown",
   "metadata": {},
   "source": [
    "# Stan"
   ]
  },
  {
   "cell_type": "markdown",
   "metadata": {},
   "source": [
    "Stan (ang. State) to czynnościowy wzorzec projektowy, który umożliwia zmianę zachowania obiektu w zależności od jego aktualnego stanu. Zamiast stosowania złożonych instrukcji warunkowych, stan deleguje zachowanie do osobnych klas reprezentujących konkretne stany. Dzięki takiemu podejściu obiekt może dynamicznie przełączać się między różnymi stanami bez ingerencji w jego  logikę biznesową. Każdy stan implementuje wspólny interfejs."
   ]
  },
  {
   "cell_type": "markdown",
   "metadata": {},
   "source": [
    "## Przeznaczenie i zastosowanie"
   ]
  },
  {
   "cell_type": "markdown",
   "metadata": {},
   "source": [
    "- Eliminacja nadmiarowych instrukcji warunkowych związanych z obsługą wielu stanów.\n",
    "- Umożliwienie dynamicznej zmiany zachowania obiektu w trakcie działania programu.\n",
    "- Ułatwienie zarządzania złożonymi maszynami stanów poprzez separację logiki dla poszczególnych stanów.\n",
    "- Poprawa jakości kodu oraz możliwości jego utrzymania poprzez enkapsulację stanów w osobnych klasach."
   ]
  },
  {
   "cell_type": "markdown",
   "metadata": {},
   "source": [
    "<img src=\"img/State_Design_Pattern_UML.jpg\">"
   ]
  },
  {
   "cell_type": "markdown",
   "metadata": {},
   "source": [
    "<img src=\"img/State_Design_Pattern_UML_Class_Diagram.svg\">"
   ]
  },
  {
   "cell_type": "markdown",
   "metadata": {},
   "source": [
    "## Implementacja"
   ]
  },
  {
   "cell_type": "markdown",
   "metadata": {},
   "source": [
    "Cel: reprezentacja stanów w smartfonie"
   ]
  },
  {
   "cell_type": "code",
   "execution_count": null,
   "metadata": {},
   "outputs": [],
   "source": [
    "from abc import ABC, abstractmethod"
   ]
  },
  {
   "cell_type": "markdown",
   "metadata": {},
   "source": [
    "Abstrakcja klasy reprezentującej stan na przykładzie imitacji dzwonka"
   ]
  },
  {
   "cell_type": "code",
   "execution_count": null,
   "metadata": {},
   "outputs": [],
   "source": [
    "class PhoneState(ABC):\n",
    "    @abstractmethod\n",
    "    def ring(self):\n",
    "        pass"
   ]
  },
  {
   "cell_type": "markdown",
   "metadata": {},
   "source": [
    "Klasy implementujące stany smartfonu podczas imitacji dzwonka. Każdy z nich inaczej \"oddaje\" dzwonienie telefonu (o ile w ogóle)."
   ]
  },
  {
   "cell_type": "code",
   "execution_count": null,
   "metadata": {},
   "outputs": [],
   "source": [
    "class PlaneState(PhoneState):\n",
    "    def ring(self) -> None:\n",
    "        print(\"------------\")\n",
    "\n",
    "class SilentState(PhoneState):\n",
    "    def ring(self) -> None:\n",
    "        print(\"Shine the screen\")\n",
    "\n",
    "class VibrationState(PhoneState):\n",
    "    def ring(self) -> None:\n",
    "        print(\"Vibrate\")\n",
    "\n",
    "class NormalState(PhoneState):\n",
    "    def ring(self) -> None:\n",
    "        print(\"Ring the ringtone.\")"
   ]
  },
  {
   "cell_type": "markdown",
   "metadata": {},
   "source": [
    "Klasa reprezentująca smartfon"
   ]
  },
  {
   "cell_type": "code",
   "execution_count": null,
   "metadata": {},
   "outputs": [],
   "source": [
    "class Phone:\n",
    "    state: PhoneState\n",
    "\n",
    "    def __init__(self, state: PhoneState = NormalState()) -> None:\n",
    "        self.state = state\n",
    "\n",
    "    def set_state(self, state: PhoneState) -> None:\n",
    "        self.state = state\n",
    "\n",
    "    def ring(self) -> None:\n",
    "        self.state.ring()"
   ]
  },
  {
   "cell_type": "markdown",
   "metadata": {},
   "source": [
    "Kod klienta"
   ]
  },
  {
   "cell_type": "code",
   "execution_count": null,
   "metadata": {},
   "outputs": [],
   "source": [
    "normal_state = NormalState()\n",
    "vibration_state = VibrationState()\n",
    "silent_state = SilentState()\n",
    "plane_state = PlaneState()"
   ]
  },
  {
   "cell_type": "code",
   "execution_count": null,
   "metadata": {},
   "outputs": [],
   "source": [
    "phone = Phone()"
   ]
  },
  {
   "cell_type": "code",
   "execution_count": null,
   "metadata": {},
   "outputs": [],
   "source": [
    "phone.ring()"
   ]
  },
  {
   "cell_type": "code",
   "execution_count": null,
   "metadata": {},
   "outputs": [],
   "source": [
    "phone.set_state(silent_state)\n",
    "phone.ring()"
   ]
  },
  {
   "cell_type": "code",
   "execution_count": null,
   "metadata": {},
   "outputs": [],
   "source": [
    "phone.set_state(plane_state)\n",
    "phone.ring()\n",
    "phone.ring()"
   ]
  },
  {
   "cell_type": "code",
   "execution_count": null,
   "metadata": {},
   "outputs": [],
   "source": [
    "phone.set_state(vibration_state)\n",
    "phone.ring()"
   ]
  },
  {
   "cell_type": "code",
   "execution_count": null,
   "metadata": {},
   "outputs": [],
   "source": [
    "phone.set_state(normal_state)\n",
    "phone.ring()"
   ]
  },
  {
   "cell_type": "markdown",
   "metadata": {},
   "source": [
    "## Podsumowanie"
   ]
  },
  {
   "cell_type": "markdown",
   "metadata": {},
   "source": [
    "Stan (ang. State) to czynnościowy wzorzec projektowy, który umożliwia zmianę zachowania obiektu w zależności od jego aktualnego stanu. Takie podejście prowadzi do konsekwencji:\n",
    "- manualny dobór metody na podstawie stanu obiektu,\n",
    "- eliminacja instrukcji warunkowych,\n",
    "- osobne klasy do reprezentacji każdego stanu,\n",
    "- łatwe dodawanie nowego stanu,\n",
    "- stany między sobą nie wiedzą o swoim istnieniu."
   ]
  }
 ],
 "metadata": {
  "kernelspec": {
   "display_name": ".venv",
   "language": "python",
   "name": "python3"
  },
  "language_info": {
   "codemirror_mode": {
    "name": "ipython",
    "version": 3
   },
   "file_extension": ".py",
   "mimetype": "text/x-python",
   "name": "python",
   "nbconvert_exporter": "python",
   "pygments_lexer": "ipython3",
   "version": "3.13.0"
  }
 },
 "nbformat": 4,
 "nbformat_minor": 2
}
