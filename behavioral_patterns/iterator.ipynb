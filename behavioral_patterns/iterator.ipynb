{
 "cells": [
  {
   "cell_type": "markdown",
   "metadata": {},
   "source": [
    "# Iterator"
   ]
  },
  {
   "cell_type": "markdown",
   "metadata": {},
   "source": [
    "Iterator to czynnościowy wzorzec projektowy, który umożliwia sekwencyjny dostęp do elementów kolekcji bez ujawniania jej wewnętrznej struktury. Dzięki takiemu podejściu iterowanie po różnych strukturach danych (np. listach, tablicach, kolejkach) odbywa się w jednolity sposób, niezależnie od ich implementacji. Iterator dostarcza metody do przechodzenia przez kolekcję, często w postaci interfejsu zgodnego z instrukcjami iteracyjnymi, co zwiększa stopień enkapsulacji i ułatwia implementację wzorca pojedynczej odpowiedzialności."
   ]
  },
  {
   "cell_type": "markdown",
   "metadata": {},
   "source": [
    "## Przeznaczenie i zastosowanie"
   ]
  },
  {
   "cell_type": "markdown",
   "metadata": {},
   "source": [
    "- Abstrakcja procesu iterowania po kontenerach danych.\n",
    "- Oddzielenie logiki iteracji od struktury danych.\n",
    "- Ułatwienie implementacji różnych metod iteracji (np. w przód, w tył, warunkowo, itd).\n",
    "- Umożliwienie jednoczesnego przeglądania po kolekcji przez wiele iteratorów.\n",
    "- Poprawa czytelności kodu poprzez eliminację manualnego zarządzania indeksami."
   ]
  },
  {
   "cell_type": "markdown",
   "metadata": {},
   "source": [
    "<img src=\"img/Command_Design_Pattern_UML.jpg\">"
   ]
  },
  {
   "cell_type": "markdown",
   "metadata": {},
   "source": [
    "<img src=\"img/Command_pattern.svg\" width=\"45%\">"
   ]
  },
  {
   "cell_type": "markdown",
   "metadata": {},
   "source": [
    "## Implementacja"
   ]
  },
  {
   "cell_type": "markdown",
   "metadata": {},
   "source": [
    "Cel: zwrócenie kolejnych potęg liczb naturalnych"
   ]
  },
  {
   "cell_type": "code",
   "execution_count": null,
   "metadata": {},
   "outputs": [],
   "source": [
    "from typing import Self"
   ]
  },
  {
   "cell_type": "markdown",
   "metadata": {},
   "source": [
    "Definicja klasy iteratora. Metoda `__iter__` wywoływana jest po wykonaniu funkcji `iter()` z przekazanym obiektem klasy iteratora tworząc w ten sposób właściwy iterator. Metoda `__next__` jest wywoływana przez funkcję `next()` na obiekcie iteratora i zwraca następny element lub wyjątek klasy `StopIteration` gdy pula elementów do zwrócenia uległa wyczerpaniu."
   ]
  },
  {
   "cell_type": "code",
   "execution_count": null,
   "metadata": {},
   "outputs": [],
   "source": [
    "class Iterator:\n",
    "    n: int\n",
    "    add: int\n",
    "    limit: int\n",
    "\n",
    "    def __init__(self, limit: int) -> None:\n",
    "        self.n = 0\n",
    "        self.limit = limit\n",
    "        self.add = 1\n",
    "\n",
    "    def __iter__(self) -> Self:\n",
    "        return self\n",
    "\n",
    "    def __next__(self) -> int:\n",
    "        if self.n < self.limit:\n",
    "            self.n += self.add\n",
    "            self.add += 2\n",
    "            return self.n\n",
    "        \n",
    "        raise StopIteration"
   ]
  },
  {
   "cell_type": "markdown",
   "metadata": {},
   "source": [
    "Uruchomienie iteratora"
   ]
  },
  {
   "cell_type": "code",
   "execution_count": null,
   "metadata": {},
   "outputs": [],
   "source": [
    "iterator = Iterator(20)"
   ]
  },
  {
   "cell_type": "code",
   "execution_count": null,
   "metadata": {},
   "outputs": [],
   "source": [
    "while 1:\n",
    "    print(next(iterator))"
   ]
  },
  {
   "cell_type": "code",
   "execution_count": null,
   "metadata": {},
   "outputs": [],
   "source": [
    "iterator = Iterator(20)"
   ]
  },
  {
   "cell_type": "code",
   "execution_count": null,
   "metadata": {},
   "outputs": [],
   "source": [
    "for i in iterator:\n",
    "    print(i)"
   ]
  },
  {
   "cell_type": "markdown",
   "metadata": {},
   "source": [
    "Iterator kończy swoje działanie po przekroczeniu wartości przekazanej w parametrze inicjalizatora `limit`. Utworzenie iteratora nieskończonego polega na pominięciu zgłaszania wyjątku klasy `StopIteration`."
   ]
  },
  {
   "cell_type": "markdown",
   "metadata": {},
   "source": [
    "## Generator"
   ]
  },
  {
   "cell_type": "markdown",
   "metadata": {},
   "source": [
    "Generator to specjalny przypadek iteratora, po którym mozna iterować tylko raz. Nie przechowuje reprezentowanych wyników w pamięci."
   ]
  },
  {
   "cell_type": "markdown",
   "metadata": {},
   "source": [
    "Generator jest repezentowany za pomocą funkcji, w której zamiast lub oprócz oprócz instrukcji `return` musi pojawić się także instrukcja `yield`. W funkcji generatora kod wykonuje się od góry do pierwszego napotkania słowa kluczowego `yield`, gdzie się zatrzymuje. Wywołanie funkcji `next()` na obiekcie iteratora (w tym generatora) wznawia działanie od miejsca ostatniego zatrzymania. W generatorze wyjątek klasy `StopIteration` zwróci się automatycznie przy nieznalezieniu następnego wystąpienia słowa kluczowego `yield`."
   ]
  },
  {
   "cell_type": "markdown",
   "metadata": {},
   "source": [
    "### Najprostsza implementacja"
   ]
  },
  {
   "cell_type": "code",
   "execution_count": null,
   "metadata": {},
   "outputs": [],
   "source": [
    "from typing import Generator"
   ]
  },
  {
   "cell_type": "markdown",
   "metadata": {},
   "source": [
    "Funkcja generatora. Każda instrukcja `yield` zwraca osobną wartość i nie przerywa wykonania funkcji generatora."
   ]
  },
  {
   "cell_type": "code",
   "execution_count": null,
   "metadata": {},
   "outputs": [],
   "source": [
    "def generator() -> Generator:\n",
    "    yield 1\n",
    "    yield 2\n",
    "    yield 3"
   ]
  },
  {
   "cell_type": "markdown",
   "metadata": {},
   "source": [
    "Uruchomienie generatora"
   ]
  },
  {
   "cell_type": "code",
   "execution_count": null,
   "metadata": {},
   "outputs": [],
   "source": [
    "my_generator = generator()"
   ]
  },
  {
   "cell_type": "code",
   "execution_count": null,
   "metadata": {},
   "outputs": [],
   "source": [
    "for element in my_generator:\n",
    "    print(element)"
   ]
  },
  {
   "cell_type": "code",
   "execution_count": null,
   "metadata": {},
   "outputs": [],
   "source": [
    "for element in my_generator:\n",
    "    print(element)"
   ]
  },
  {
   "cell_type": "markdown",
   "metadata": {},
   "source": [
    "### Generator (nieco bardziej skomplikowany)"
   ]
  },
  {
   "cell_type": "markdown",
   "metadata": {},
   "source": [
    "Cel: generowanie liczb pierwszych"
   ]
  },
  {
   "cell_type": "code",
   "execution_count": null,
   "metadata": {},
   "outputs": [],
   "source": [
    "def prime_generator() -> Generator:\n",
    "    yield 2\n",
    "\n",
    "    primes = [2]\n",
    "    to_check = 3\n",
    "    \n",
    "    while True:\n",
    "        is_prime = True\n",
    "        sqrt = to_check ** 0.5\n",
    "        for prime in primes:\n",
    "            if prime > sqrt:\n",
    "                break\n",
    "            if to_check % prime == 0:\n",
    "                is_prime = False\n",
    "                break\n",
    "        if is_prime:\n",
    "            primes.append(to_check)\n",
    "            yield to_check\n",
    "        to_check += 2"
   ]
  },
  {
   "cell_type": "markdown",
   "metadata": {},
   "source": [
    "Uruchomienie generatora"
   ]
  },
  {
   "cell_type": "code",
   "execution_count": null,
   "metadata": {},
   "outputs": [],
   "source": [
    "gen = prime_generator()"
   ]
  },
  {
   "cell_type": "code",
   "execution_count": null,
   "metadata": {},
   "outputs": [],
   "source": [
    "for i in gen:\n",
    "    print(i)"
   ]
  },
  {
   "cell_type": "markdown",
   "metadata": {},
   "source": [
    "## Podsumowanie"
   ]
  },
  {
   "cell_type": "markdown",
   "metadata": {},
   "source": [
    "Iterator to czynnościowy wzorzec projektowy, który umożliwia sekwencyjny dostęp do elementów kolekcji bez ujawniania jej wewnętrznej struktury. Takie podejście prowadzi do konsekwencji:\n",
    "- dostarczanie wyników w czasie rzeczywistym (generator),\n",
    "- brak przechowywanych wyników w pamięci (generator),\n",
    "- możliwość zwrócenia dowolnej ilości wyników,\n",
    "- możliwość wykorzystania instrukcji iteracyjnej do przejścia po elementach."
   ]
  }
 ],
 "metadata": {
  "kernelspec": {
   "display_name": ".venv",
   "language": "python",
   "name": "python3"
  },
  "language_info": {
   "codemirror_mode": {
    "name": "ipython",
    "version": 3
   },
   "file_extension": ".py",
   "mimetype": "text/x-python",
   "name": "python",
   "nbconvert_exporter": "python",
   "pygments_lexer": "ipython3",
   "version": "3.13.0"
  }
 },
 "nbformat": 4,
 "nbformat_minor": 2
}
