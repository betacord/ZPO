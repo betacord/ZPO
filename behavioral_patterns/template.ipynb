{
 "cells": [
  {
   "cell_type": "markdown",
   "metadata": {},
   "source": [
    "# Metoda szablonowa"
   ]
  },
  {
   "cell_type": "markdown",
   "metadata": {},
   "source": [
    "Metoda Szablonowa (ang. Template Method) to czynnościowy wzorzec projektowy, który definiuje szkielet algorytmu w klasie bazowej, pozostawiając implementację niektórych kroków w klasach pochodnych. Dzięki takiemu podejściu umożliwia ponowne wykorzystanie wspólnej logiki oraz zapewnia spójność procesu, jednocześnie pozwalając na dostosowanie poszczególnych etapów działania. Klasa bazowa zazwyczaj zawiera metodę szablonową, która określa kolejność wywołań metod abstrakcyjnych lub opcjonalnych metod hook, umożliwiając różnym implementacjom zachowanie określonej struktury."
   ]
  },
  {
   "cell_type": "markdown",
   "metadata": {},
   "source": [
    "## Przeznaczenie i zastosowanie\n",
    "- Standaryzacja szkieletu algorytmu przy jednoczesnym umożliwieniu dostosowania poszczególnych jego fragmentów.\n",
    "- Ponowne wykorzystanie wspólnej logiki i redukcja duplikacji kodu.\n",
    "- Ułatwienie utrzymania i rozszerzania implementacji poprzez rozdzielenie z algorytmu części ogólnych i specyficznych.\n",
    "- Wymuszenie w algorytmie określonej kolejności wykonywania kroków."
   ]
  },
  {
   "cell_type": "markdown",
   "metadata": {},
   "source": [
    "<img src=\"img/Template_Method_Design_Pattern_UML.jpg\">"
   ]
  },
  {
   "cell_type": "markdown",
   "metadata": {},
   "source": [
    "## Implementacja"
   ]
  },
  {
   "cell_type": "markdown",
   "metadata": {},
   "source": [
    "Cel: reprezentacja szablonu wspólnych elementów pracy wykonywanych przez kierowcę i pilota liniowego wraz z doszczegółowieniem w klasach reprezentujących poszczególne profesje."
   ]
  },
  {
   "cell_type": "code",
   "execution_count": null,
   "metadata": {},
   "outputs": [],
   "source": [
    "from abc import ABC, abstractmethod"
   ]
  },
  {
   "cell_type": "markdown",
   "metadata": {},
   "source": [
    "Abstrakcja klasy pracownika. Klasy reprezentujące pracowników, należące do wspólnej rodziny, zawierają metody o wspólnej nazwie i wspólnej kolejności uruchamiania, które w podklasach będą różniły się szczegółami implementacyjnymi."
   ]
  },
  {
   "cell_type": "code",
   "execution_count": null,
   "metadata": {},
   "outputs": [],
   "source": [
    "class Worker(ABC):\n",
    "    name: str\n",
    "\n",
    "    def __init__(self, name: str) -> None:\n",
    "        self.name = name\n",
    "\n",
    "    @abstractmethod\n",
    "    def prepare_for_work(self) -> None:\n",
    "        pass\n",
    "\n",
    "    @abstractmethod\n",
    "    def go_to_work(self) -> None:\n",
    "        pass\n",
    "\n",
    "    def log_in(self) -> None:\n",
    "        print(f\"Logged in as {self.name}\")\n",
    "\n",
    "    @abstractmethod\n",
    "    def start_up_engines(self) -> None:\n",
    "        pass\n",
    "\n",
    "    @abstractmethod\n",
    "    def start_vehicle() -> None:\n",
    "        pass\n",
    "\n",
    "    @abstractmethod\n",
    "    def stop_vehicle(self) -> None:\n",
    "        pass\n",
    "\n",
    "    def work_day(self) -> None:\n",
    "        self.go_to_work()\n",
    "        self.prepare_for_work()\n",
    "        self.log_in()\n",
    "        self.start_up_engines()\n",
    "        self.start_vehicle()\n",
    "        self.stop_vehicle()"
   ]
  },
  {
   "cell_type": "markdown",
   "metadata": {},
   "source": [
    "Klasy implementujące algorytmy poszczególnych profesji"
   ]
  },
  {
   "cell_type": "code",
   "execution_count": null,
   "metadata": {},
   "outputs": [],
   "source": [
    "class Driver(Worker):\n",
    "    def go_to_work(self):\n",
    "        print(\"Get into the car\")\n",
    "\n",
    "    def prepare_for_work(self) -> None:\n",
    "        print(\"Check the traffic\")\n",
    "\n",
    "    def start_up_engines(self) -> None:\n",
    "        print(\"Turn the key in the ignition\")\n",
    "\n",
    "    def start_vehicle(self) -> None:\n",
    "        print(\"Press the gas\")\n",
    "\n",
    "    def stop_vehicle(self) -> None:\n",
    "        print(\"Press the brake\")"
   ]
  },
  {
   "cell_type": "code",
   "execution_count": null,
   "metadata": {},
   "outputs": [],
   "source": [
    "class Pilot(Worker):\n",
    "    def go_to_work(self):\n",
    "        print(\"Get into the company bus\")\n",
    "    \n",
    "    def prepare_for_work(self) -> None:\n",
    "        print(\n",
    "            (\n",
    "                \"Check the weather reports, check the flight plan, \"\n",
    "                \"check the routes, check all procedures, ...\"\n",
    "            )\n",
    "        )\n",
    "\n",
    "    def start_up_engines(self) -> None:\n",
    "        print(\n",
    "                (\n",
    "                    \"Go through the checklist, ask for start engine approval, \"\n",
    "                    \"wait for the approval, wait for ground handlers, ...\"\n",
    "                )\n",
    "            )\n",
    "\n",
    "    def start_vehicle(self) -> None:\n",
    "        print(\n",
    "                (\n",
    "                    \"Wait for tower approval, wait for push-back, set the throttle to low thrust, \"\n",
    "                    \"taxi the plane along the designated route, wait for \"\n",
    "                    \"start approval in the holding point, ...\"\n",
    "                )\n",
    "            )\n",
    "\n",
    "    def stop_vehicle(self) -> None:\n",
    "        print(\n",
    "                (\"Set the flaps to 5 degrees, set the autopilot to descent mode according to the procedure, \"\n",
    "                \"... (30 minutes later...), turn on reverse, sppedbrake and flaps to max, ...\"\n",
    "                )\n",
    "            )"
   ]
  },
  {
   "cell_type": "markdown",
   "metadata": {},
   "source": [
    "Kod klienta"
   ]
  },
  {
   "cell_type": "code",
   "execution_count": null,
   "metadata": {},
   "outputs": [],
   "source": [
    "bus_driver = Driver(\"Stasiek\")\n",
    "airline_pilot = Pilot(\"Janusz\")\n",
    "\n",
    "airline_pilot.work_day()"
   ]
  },
  {
   "cell_type": "markdown",
   "metadata": {},
   "source": [
    "## Podsumowanie"
   ]
  },
  {
   "cell_type": "markdown",
   "metadata": {},
   "source": [
    "Metoda Szablonowa to czynnościowy wzorzec projektowy, który definiuje szkielet algorytmu w klasie bazowej, pozostawiając implementację niektórych kroków w klasach pochodnych. Takie podejście rodzi konsekwencje:\n",
    "- powstanie nadklasy abstrakcyjnej,\n",
    "- posiadanie metody uruchamiającej wszystkie kroki danego algorytmu, co stanowi główną istotę wzorca,\n",
    "- unikanie duplikowania kodu."
   ]
  }
 ],
 "metadata": {
  "kernelspec": {
   "display_name": ".venv",
   "language": "python",
   "name": "python3"
  },
  "language_info": {
   "codemirror_mode": {
    "name": "ipython",
    "version": 3
   },
   "file_extension": ".py",
   "mimetype": "text/x-python",
   "name": "python",
   "nbconvert_exporter": "python",
   "pygments_lexer": "ipython3",
   "version": "3.13.0"
  }
 },
 "nbformat": 4,
 "nbformat_minor": 2
}
