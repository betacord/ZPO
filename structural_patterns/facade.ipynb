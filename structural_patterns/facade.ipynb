{
 "cells": [
  {
   "cell_type": "markdown",
   "metadata": {},
   "source": [
    "# Fasada"
   ]
  },
  {
   "cell_type": "markdown",
   "metadata": {},
   "source": [
    "Wzorzec Fasada (ang. Facade) dostarcza uproszczony i jednolity interfejs do bardziej złożonego systemu lub zbioru klas. Jego głównym celem jest ukrycie złożoności wewnętrznej systemu i zapewnienie klientowi prostego sposobu interakcji z nim. Fasada działa jako warstwa pośrednia, która agreguje wywołania do różnych modułów i zarządza ich zależnościami. Takie podejście sprawia, że kod źródłowy staje się bardziej przejrzysty i łatwiejszy w utrzymaniu. "
   ]
  },
  {
   "cell_type": "markdown",
   "metadata": {},
   "source": [
    "## Przeznaczenie i zastosowanie"
   ]
  },
  {
   "cell_type": "markdown",
   "metadata": {},
   "source": [
    "- Ukrycie skomplikowanej logiki implementacji poprzez dostarczenie uproszczonego interfejsu dla klienta.\n",
    "- Zmniejszenie zależności między modułami poprzez oddzielenie ich od klienta za pomocą dodatkowej warstwy abstrakcji.\n",
    "- Poprawa czytelności i utrzymania kodu poprzez organizację skomplikowanych komponentów w warstwy łatwe do zarządzania i utrzymania.\n",
    "- Ułatwienie migracji lub refaktoryzacji systemów bez wpływu na kod macierzysty."
   ]
  },
  {
   "cell_type": "markdown",
   "metadata": {},
   "source": [
    "<img src=\"img/Facade_Design_Pattern_Sequence_Diagram_UML.svg\">"
   ]
  },
  {
   "cell_type": "markdown",
   "metadata": {},
   "source": [
    "<img src=\"img/Facade_Design_Pattern_Class_Diagram_UML.svg\">"
   ]
  },
  {
   "cell_type": "markdown",
   "metadata": {},
   "source": [
    "## Implementacja"
   ]
  },
  {
   "cell_type": "code",
   "execution_count": null,
   "metadata": {},
   "outputs": [],
   "source": [
    "from typing import Any"
   ]
  },
  {
   "cell_type": "code",
   "execution_count": null,
   "metadata": {},
   "outputs": [],
   "source": [
    "class CPU:\n",
    "    def __init__(self, cores: int, mhz: int, cache: int, socket: str) -> None:\n",
    "        self.cores = cores\n",
    "        self.mhz = mhz\n",
    "        self.cache = cache\n",
    "        self.socket = socket\n",
    "        \n",
    "    def freeze(self) -> None:\n",
    "        print(\"freezing processor\")\n",
    "        \n",
    "    def jump(self, position: int) -> None:\n",
    "        print(f\"jumping to {position}\")\n",
    "        \n",
    "    def execute(self) -> None:\n",
    "        print(\"executing...\")"
   ]
  },
  {
   "cell_type": "code",
   "execution_count": null,
   "metadata": {},
   "outputs": [],
   "source": [
    "class Memory:\n",
    "    def load(self, position: int, data: Any) -> Any:\n",
    "        print(f\"loading from position {position} data: {data}\")"
   ]
  },
  {
   "cell_type": "code",
   "execution_count": null,
   "metadata": {},
   "outputs": [],
   "source": [
    "class HardDrive:\n",
    "    def read(self, lba: int, size: int) -> None:\n",
    "        print(f\"some data from sector {lba} with size {size}\")\n",
    "        \n",
    "    def write(self, data: Any) -> None:\n",
    "        print(f\"saving data: {data}\")\n",
    "        \n",
    "    def read_boot_loader(self) -> None:\n",
    "        print(\"reading boot loader\")"
   ]
  },
  {
   "cell_type": "code",
   "execution_count": null,
   "metadata": {},
   "outputs": [],
   "source": [
    "class Motherboard:\n",
    "    def __init__(self, cpu: CPU, memory: Memory, hard_drive: HardDrive, usbs: int, joints: int, size: tuple) -> None:\n",
    "        self.cpu = cpu\n",
    "        self.memory = memory\n",
    "        self.hard_drive = hard_drive\n",
    "        self.usbs = usbs\n",
    "        self.joints = joints\n",
    "        self.size = size"
   ]
  },
  {
   "cell_type": "markdown",
   "metadata": {},
   "source": [
    "Fasada komputera PC"
   ]
  },
  {
   "cell_type": "code",
   "execution_count": null,
   "metadata": {},
   "outputs": [],
   "source": [
    "class PC:\n",
    "    def __init__(self) -> None:\n",
    "        self.cpu = CPU(4, 4000, 16, \"ABCD\")\n",
    "        self.memory = Memory()\n",
    "        self.hd = HardDrive()\n",
    "        self.motherboard = Motherboard(self.cpu, self.memory, self.hd, 4, 4, (70, 50))\n",
    "        \n",
    "    def start(self) -> None:\n",
    "        self.cpu.freeze()\n",
    "        self.memory.load(0xDEADBEEF, self.hd.read(\"100\", \"1024\"))\n",
    "        self.hd.read_boot_loader()\n",
    "        self.cpu.jump(0xDEADBEEF)\n",
    "        self.cpu.execute()"
   ]
  },
  {
   "cell_type": "markdown",
   "metadata": {},
   "source": [
    "Uruchomienie fasady komputera PC"
   ]
  },
  {
   "cell_type": "code",
   "execution_count": null,
   "metadata": {},
   "outputs": [],
   "source": [
    "pc = PC()\n",
    "pc.start()"
   ]
  },
  {
   "cell_type": "markdown",
   "metadata": {},
   "source": [
    "## Podsumowanie"
   ]
  },
  {
   "cell_type": "markdown",
   "metadata": {},
   "source": [
    "Wzorzec Fasada dostarcza uproszczony i jednolity interfejs do bardziej złożonego systemu lub zbioru klas. Taki proces rodzi pewne konsekwencje:\n",
    "- hermetyzacja stosowania skomplikowanego systemu,\n",
    "- uproszczenie relacji klient-system,\n",
    "- podział systemu na warstwy tworzące hierarchię fasad,\n",
    "- powstanie klasy pośredniej pomocniczej,\n",
    "- zwiększenie bezpieczeństwa systemu poprzez ukrycie macierzystych implementacji."
   ]
  }
 ],
 "metadata": {
  "kernelspec": {
   "display_name": ".venv",
   "language": "python",
   "name": "python3"
  },
  "language_info": {
   "codemirror_mode": {
    "name": "ipython",
    "version": 3
   },
   "file_extension": ".py",
   "mimetype": "text/x-python",
   "name": "python",
   "nbconvert_exporter": "python",
   "pygments_lexer": "ipython3",
   "version": "3.13.0"
  }
 },
 "nbformat": 4,
 "nbformat_minor": 2
}
