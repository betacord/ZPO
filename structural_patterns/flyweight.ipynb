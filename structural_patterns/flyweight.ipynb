{
 "cells": [
  {
   "cell_type": "markdown",
   "metadata": {},
   "source": [
    "# Pyłek"
   ]
  },
  {
   "cell_type": "markdown",
   "metadata": {},
   "source": [
    "Wzorzec Pyłek (ang. Flyweight) jest przeznaczony do optymalizacji wykorzystania pamięci, poprzez współdzielenie pewnej liczby podobnych obiektów zamiast tworzenia ich osobnych instancji. Stosuje się go w systemach, gdzie istnieje wiele obiektów o podobnych wartościach atrybutów, które można przechowywać wspólnie. Wzorzec ten dzieli atrybuty obiektu na część współdzieloną (stan wewnętrzny), która jest zapisywana raz i używana przez wiele instancji, oraz część unikalną (stan zewnętrzny), która pozostaje specyficzna dla każdej instancji. Wzorzec Pyłek znacząco zmniejsza zużycie pamięci i poprawia wydajność, szczególnie w dużych aplikacjach."
   ]
  },
  {
   "cell_type": "markdown",
   "metadata": {},
   "source": [
    "## Przeznaczenie i zastosowanie"
   ]
  },
  {
   "cell_type": "markdown",
   "metadata": {},
   "source": [
    "- Mniejsze zużycie pamięci poprzez współdzielenie wspólnych danych między obiektami.\n",
    "- Optymalizacja wydajności w przypadkach gdy istnieje wiele podobnych obiektów.\n",
    "- Separacja wewnętrznego i zewnętrznego stanu, umożliwiająca ponowne wykorzystanie danych.\n",
    "- Poprawa skalowalności aplikacji, szczególnie w aplikacjach przetwarzających duże ilości danych."
   ]
  },
  {
   "cell_type": "markdown",
   "metadata": {},
   "source": [
    "<img src=\"img/Flyweight_Design_Pattern_UML.jpg\">"
   ]
  },
  {
   "cell_type": "markdown",
   "metadata": {},
   "source": [
    "## Implementacja\n",
    "\n",
    "Cel: konstrukcja gry planszowej reprezentowanej za pomocą pionków, które można scharakteryzować za pomocą klasy, koloru, kształtu i roli. Każdy z pionków będzie miał przypisane współdzielone instancje wspomnianych atrybutów."
   ]
  },
  {
   "cell_type": "code",
   "execution_count": null,
   "metadata": {},
   "outputs": [],
   "source": [
    "from abc import ABC\n",
    "from random import choice"
   ]
  },
  {
   "cell_type": "markdown",
   "metadata": {},
   "source": [
    "Interfejs klasy pionka. Każdy atrybut będzie tutaj pyłkiem - wartością niezmienną."
   ]
  },
  {
   "cell_type": "code",
   "execution_count": null,
   "metadata": {},
   "outputs": [],
   "source": [
    "class Pawn(ABC):\n",
    "    color: str\n",
    "    shape: str\n",
    "    role: str\n",
    "\n",
    "    def __init__(self, color: str, shape: str, role: str) -> None:\n",
    "        self.color = color\n",
    "        self.shape = shape\n",
    "        self.role = role\n",
    "        \n",
    "    def move(self) -> None:\n",
    "        print(\"I'm moving\")\n",
    "        \n",
    "    def assign_role(self, role: str) -> None:\n",
    "        self.role = role"
   ]
  },
  {
   "cell_type": "markdown",
   "metadata": {},
   "source": [
    "Implementacja klas pionków"
   ]
  },
  {
   "cell_type": "code",
   "execution_count": null,
   "metadata": {},
   "outputs": [],
   "source": [
    "class RoyalBishop(Pawn):\n",
    "    pass"
   ]
  },
  {
   "cell_type": "code",
   "execution_count": null,
   "metadata": {},
   "outputs": [],
   "source": [
    "class ImperialKing(Pawn):\n",
    "    pass"
   ]
  },
  {
   "cell_type": "markdown",
   "metadata": {},
   "source": [
    "Fabryka pionków wg klas"
   ]
  },
  {
   "cell_type": "code",
   "execution_count": null,
   "metadata": {},
   "outputs": [],
   "source": [
    "class PawnFactory:\n",
    "    @staticmethod\n",
    "    def get_pawn(type_: str, role: str, color: str, shape: str) -> Pawn:\n",
    "        match type_:\n",
    "            case \"Royal Bishop\":\n",
    "                return RoyalBishop(color, shape, role)\n",
    "            case \"Imperial King\":\n",
    "                return ImperialKing(color, shape, role)\n",
    "            case _:\n",
    "                raise ValueError(\"Incorrect Pawn type!\")"
   ]
  },
  {
   "cell_type": "markdown",
   "metadata": {},
   "source": [
    "Implementacja klasy gry"
   ]
  },
  {
   "cell_type": "code",
   "execution_count": null,
   "metadata": {},
   "outputs": [],
   "source": [
    "roles = (\n",
    "    \"Divine Healer\", \n",
    "    \"Holy Strategist\", \n",
    "    \"Lightbringer Mage\",\n",
    "    \"Warlord Monarch\",\n",
    "    \"Undying Sovereign\",\n",
    ")\n",
    "colors = (\"red\", \"green\", \"blue\")\n",
    "shapes = (\n",
    "    \"Crown Piece\", \n",
    "    \"Runestone Marker\", \n",
    "    \"Mecha Core\",\n",
    "    \"Dagger Fang\",\n",
    ")\n",
    "types = (\"Royal Bishop\", \"Imperial King\")\n",
    "\n",
    "\n",
    "class BoardGame:\n",
    "    pawns: list\n",
    "    \n",
    "    def __init__(self) -> None:\n",
    "        self.pawns = []\n",
    "    \n",
    "    def main_game(self) -> None:\n",
    "        for _ in range(20):\n",
    "            role = self._get_random_role()\n",
    "            color = self._get_random_color()\n",
    "            shape = self._get_random_shape()\n",
    "            type_ = self._get_random_type()\n",
    "            \n",
    "            pawn = PawnFactory.get_pawn(type_, role, color, shape)\n",
    "            \n",
    "            self.pawns.append(pawn)\n",
    "    \n",
    "    def _get_random_color(self) -> str:\n",
    "        return choice(colors)\n",
    "    \n",
    "    def _get_random_role(self) -> str:\n",
    "        return choice(roles)\n",
    "    \n",
    "    def _get_random_shape(self) -> str:\n",
    "        return choice(shapes)\n",
    "    \n",
    "    def _get_random_type(self) -> str:\n",
    "        return choice(types)"
   ]
  },
  {
   "cell_type": "markdown",
   "metadata": {},
   "source": [
    "Uruchomienie gry"
   ]
  },
  {
   "cell_type": "code",
   "execution_count": null,
   "metadata": {},
   "outputs": [],
   "source": [
    "game = BoardGame()\n",
    "game.main_game()"
   ]
  },
  {
   "cell_type": "code",
   "execution_count": null,
   "metadata": {},
   "outputs": [],
   "source": [
    "for pawn in game.pawns:\n",
    "    print(f\"object ID: {id(pawn)} color ID: {id(pawn.color)}, shape ID: {id(pawn.shape)}, role ID: {id(pawn.role)}\")"
   ]
  },
  {
   "cell_type": "markdown",
   "metadata": {},
   "source": [
    "## Podsumowanie"
   ]
  },
  {
   "cell_type": "markdown",
   "metadata": {},
   "source": [
    "Wzorzec Pyłek jest przeznaczony do optymalizacji wykorzystania pamięci, poprzez współdzielenie pewnej liczby podobnych obiektów zamiast tworzenia ich osobnych instancji. Taki proces rodzi konsekwencje:\n",
    "- oszczędność pamięci poprzez współdzielenie pyłków,\n",
    "- obiekty muszą być tworzone w specjalnej fabryce,\n",
    "- odseparowanie części atrybutów pewnego obiektu do różnych klas,\n",
    "- do zastosowania w systemach konsumujących znaczne ilości pamięci."
   ]
  }
 ],
 "metadata": {
  "kernelspec": {
   "display_name": ".venv",
   "language": "python",
   "name": "python3"
  },
  "language_info": {
   "codemirror_mode": {
    "name": "ipython",
    "version": 3
   },
   "file_extension": ".py",
   "mimetype": "text/x-python",
   "name": "python",
   "nbconvert_exporter": "python",
   "pygments_lexer": "ipython3",
   "version": "3.13.0"
  }
 },
 "nbformat": 4,
 "nbformat_minor": 2
}
