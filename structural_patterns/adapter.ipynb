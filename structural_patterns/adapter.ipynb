{
 "cells": [
  {
   "cell_type": "markdown",
   "metadata": {},
   "source": [
    "# Adapter"
   ]
  },
  {
   "cell_type": "markdown",
   "metadata": {},
   "source": [
    "Wzorzec Adapter służy do konwersji interfejsu jednej klasy na inny interfejs oczekiwany przez drugą klasę (np. klienta). Dzięki takiemu podejściu adapter umożliwia współpracę klas, które inaczej nie mogłyby ze sobą współdziałać z powodu różnych interfejsów. Adapter działa jako pośrednik, tłumacząc wywołania metod z jednej klasy na inny, zgodny format. Wzorzec ten stosuje się głównie w sytuacjach, gdy istnieje potrzeba użycia istniejącego kodu, ale jego interfejs nie pasuje do reszty kodu. Adapter oże być zaimplementowany na dwa sposoby: z wykorzystaniem dziedziczenia (Adapter klasowy, który może opakowywać tylko klas) lub kompozycji (Adapter obiektowy, który może opakowywać klasy oraz ich instancje)."
   ]
  },
  {
   "cell_type": "markdown",
   "metadata": {},
   "source": [
    "## Przeznaczenie i zastosowanie\n",
    "- umożliwienie współpracy klas o niekompatybilnych interfejsach,\n",
    "- unifikacja interfejsów bibliotek lub modułów,\n",
    "- hermetyzacja istniejącego kodu bez konieczności jego modyfikacji,\n",
    "- ułatwienie integracji systemów."
   ]
  },
  {
   "cell_type": "markdown",
   "metadata": {},
   "source": [
    "<img src=\"img/Adapter_Design_Pattern_UML.jpg\">"
   ]
  },
  {
   "cell_type": "markdown",
   "metadata": {},
   "source": [
    "<img src=\"img/ObjectAdapter.png\">"
   ]
  },
  {
   "cell_type": "markdown",
   "metadata": {},
   "source": [
    "## Implementacja"
   ]
  },
  {
   "cell_type": "markdown",
   "metadata": {},
   "source": [
    "### Przykład 1\n",
    "Cel: Symulacja przebrania kota dla człowieka"
   ]
  },
  {
   "cell_type": "markdown",
   "metadata": {},
   "source": [
    "Klasa reprezentująca kota"
   ]
  },
  {
   "cell_type": "code",
   "execution_count": null,
   "metadata": {},
   "outputs": [],
   "source": [
    "class Cat:\n",
    "    def __init__(self, age: int, sex: str, breed: str) -> None:\n",
    "        self.age = age\n",
    "        self.sex = sex\n",
    "        self.breed = breed\n",
    "\n",
    "    def run(self) -> str:\n",
    "        return \"ptyptyptypty\"\n",
    "\n",
    "    def meow(self) -> str:\n",
    "        return \"meow\"\n",
    "\n",
    "    def purr(self) -> str:\n",
    "        return \"pur pur\""
   ]
  },
  {
   "cell_type": "markdown",
   "metadata": {},
   "source": [
    "Klasa reprezentująca psa"
   ]
  },
  {
   "cell_type": "code",
   "execution_count": null,
   "metadata": {},
   "outputs": [],
   "source": [
    "class Person:\n",
    "    def __init__(self, age: int, sex: str, race: str) -> None:\n",
    "        self.age = age\n",
    "        self.sex = sex\n",
    "        self.race = race\n",
    "\n",
    "    def walk(self) -> str:\n",
    "        return \"tup tup tup\"\n",
    "    \n",
    "    def say(self, sentence: str) -> str:\n",
    "        return f\"mowie, ze {sentence}\""
   ]
  },
  {
   "cell_type": "markdown",
   "metadata": {},
   "source": [
    "Klasa adaptera"
   ]
  },
  {
   "cell_type": "code",
   "execution_count": null,
   "metadata": {},
   "outputs": [],
   "source": [
    "class CatAdapter:\n",
    "    def __init__(self, person: Person) -> None:\n",
    "        self.person = person\n",
    "\n",
    "    def meow(self) -> str:\n",
    "        return \"meow\"\n",
    "    \n",
    "    def say(self, sentence: str) -> str:\n",
    "        return self.person.say(sentence)"
   ]
  },
  {
   "cell_type": "markdown",
   "metadata": {},
   "source": [
    "Uruchomienie adaptera"
   ]
  },
  {
   "cell_type": "code",
   "execution_count": null,
   "metadata": {},
   "outputs": [],
   "source": [
    "cat = Cat(2, \"m\", \"british\")\n",
    "person = Person(21, \"m\", \"white\")"
   ]
  },
  {
   "cell_type": "code",
   "execution_count": null,
   "metadata": {},
   "outputs": [],
   "source": [
    "cat.meow(), cat.purr(), cat.run()"
   ]
  },
  {
   "cell_type": "code",
   "execution_count": null,
   "metadata": {},
   "outputs": [],
   "source": [
    "person.say(\"siema\"), person.walk()"
   ]
  },
  {
   "cell_type": "code",
   "execution_count": null,
   "metadata": {},
   "outputs": [],
   "source": [
    "costumed_cat = CatAdapter(person)"
   ]
  },
  {
   "cell_type": "code",
   "execution_count": null,
   "metadata": {},
   "outputs": [],
   "source": [
    "costumed_cat.meow(), costumed_cat.say(\"siema\")"
   ]
  },
  {
   "cell_type": "markdown",
   "metadata": {},
   "source": [
    "### Przykład 2\n",
    "Cel: Symulacja pracy ładowarki"
   ]
  },
  {
   "cell_type": "markdown",
   "metadata": {},
   "source": [
    "Klasa reprezentująca gniazda. Wersja europejska i amerykańska dziedziczą po klasie Socket i mają przypisane różne wartości napięcia."
   ]
  },
  {
   "cell_type": "code",
   "execution_count": null,
   "metadata": {},
   "outputs": [],
   "source": [
    "class Socket:\n",
    "    def __init__(self, voltage: int) -> None:\n",
    "        self.voltage = voltage\n",
    "        \n",
    "class EuropeanSocket(Socket):\n",
    "    def __init__(self) -> None:\n",
    "        super().__init__(230)\n",
    "        \n",
    "class USASocket(Socket):\n",
    "    def __init__(self) -> None:\n",
    "        super().__init__(120) "
   ]
  },
  {
   "cell_type": "markdown",
   "metadata": {},
   "source": [
    "Klasa urządzenia, które jest parametryzowane maksymalnym obsługiwanym napięciem."
   ]
  },
  {
   "cell_type": "code",
   "execution_count": null,
   "metadata": {},
   "outputs": [],
   "source": [
    "class Device:\n",
    "    max_voltage: int\n",
    "\n",
    "    def __init__(self, max_voltage: int) -> None:\n",
    "        self.max_voltage = max_voltage\n",
    "    \n",
    "    def try_charge(self, input_voltage: int) -> str:\n",
    "        if input_voltage > self.max_voltage:\n",
    "            return f\"urzadzenie spalone, uzyto napiecia {input_voltage}V przy dopuszczalnym {self.max_voltage}V\"\n",
    "        else:\n",
    "            return \"ladujemy spokojnie\"\n",
    "            \n",
    "    def charge(self, input_voltage: int) -> str:\n",
    "        return self.try_charge(input_voltage)"
   ]
  },
  {
   "cell_type": "markdown",
   "metadata": {},
   "source": [
    "Symulacja ładowania na przykładzie wtyczek europejskich i amerykańskich."
   ]
  },
  {
   "cell_type": "code",
   "execution_count": null,
   "metadata": {},
   "outputs": [],
   "source": [
    "device = Device(120)\n",
    "usa_socket = USASocket()\n",
    "eu_socket = EuropeanSocket()"
   ]
  },
  {
   "cell_type": "code",
   "execution_count": null,
   "metadata": {},
   "outputs": [],
   "source": [
    "device.charge(usa_socket.voltage)"
   ]
  },
  {
   "cell_type": "code",
   "execution_count": null,
   "metadata": {},
   "outputs": [],
   "source": [
    "device.charge(eu_socket.voltage)"
   ]
  },
  {
   "cell_type": "markdown",
   "metadata": {},
   "source": [
    "Naładowanie urządzenia wymaga precyzyjnego dopasowania przesyłanego napięcia z ładowarki. Problem ten można rozwiązać stosując adapter \"inteligentnie\" dopasowujący przesyłane napięcie."
   ]
  },
  {
   "cell_type": "code",
   "execution_count": null,
   "metadata": {},
   "outputs": [],
   "source": [
    "class Charger:\n",
    "    def __init__(self, device: Device, socket: Socket) -> None:\n",
    "        self.device = device\n",
    "        self.socket = socket\n",
    "        \n",
    "    def _transformator(self) -> int:\n",
    "        if self.socket.voltage <= self.device.max_voltage:\n",
    "            return self.socket.voltage\n",
    "        \n",
    "        voltage = self.device.max_voltage\n",
    "        return voltage\n",
    "        \n",
    "    def plug(self) -> int:\n",
    "        return self._transformator()"
   ]
  },
  {
   "cell_type": "markdown",
   "metadata": {},
   "source": [
    "Symulacja ładowania za pomocą ładowarki adaptującej napięcie do możliwości urządzenia."
   ]
  },
  {
   "cell_type": "code",
   "execution_count": null,
   "metadata": {},
   "outputs": [],
   "source": [
    "device = Device(120)\n",
    "socket = EuropeanSocket()\n",
    "charger = Charger(device, socket)"
   ]
  },
  {
   "cell_type": "code",
   "execution_count": null,
   "metadata": {},
   "outputs": [],
   "source": [
    "device.charge(charger.plug())"
   ]
  },
  {
   "cell_type": "markdown",
   "metadata": {},
   "source": [
    "## Podsumowanie"
   ]
  },
  {
   "cell_type": "markdown",
   "metadata": {},
   "source": [
    "Wzorzec Adapter dokonuje konwersji interfesów dwóch niekompatybilnych klas zapewniając w ten sposób możliwość interakcji między nimi. Taki proces rodzi pewne konsekwencje:\n",
    "- współdziałanie dwóch interfejsów klas, które do tej pory nie mogły współptracować,\n",
    "- zwykle niewielki nakład kodu,\n",
    "- brak bezpośredniej komunikacji między klasami i obiektami,\n",
    "- konieczność dostępu klasy adaptera do przynajmniej jednego z obiektów,\n",
    "- zwiększenie elastyczności implementacji,\n",
    "- pełna interakcja z zamkniętym kodem klas, w których publiczny jest jedynie interfejs,\n",
    "- duplikacja części kodu."
   ]
  }
 ],
 "metadata": {
  "kernelspec": {
   "display_name": ".venv",
   "language": "python",
   "name": "python3"
  },
  "language_info": {
   "codemirror_mode": {
    "name": "ipython",
    "version": 3
   },
   "file_extension": ".py",
   "mimetype": "text/x-python",
   "name": "python",
   "nbconvert_exporter": "python",
   "pygments_lexer": "ipython3",
   "version": "3.13.0"
  }
 },
 "nbformat": 4,
 "nbformat_minor": 2
}
