{
 "cells": [
  {
   "cell_type": "markdown",
   "metadata": {},
   "source": [
    "# Most"
   ]
  },
  {
   "cell_type": "markdown",
   "metadata": {},
   "source": [
    "Wzorzec Most (ang. Bridge) to wzorzec strukturalny służący do oddzielenia abstrakcji od jej implementacji, umożliwiając ich niezależny rozwój. Dzięki takiemu podejściu, zmiany w jednej części systemu (np. interfejsie użytkownika) nie wpływają na drugą część (np. logikę biznesową). Wzorzec Most pomaga w eliminacji sztywnego powiązania między klasami, co poprawia modularność i elastyczność kodu. Struktura wzorca składa się z dwóch hierarchii: abstrakcji (np. interfejs użytkownika) i implementacji (np. konkretne mechanizmy działania), które komunikują się poprzez interfejs mostu. Takie podejście przydatne jest w przypadkach, gdy istnieje potrzeba dynamicznego wyboru implementacji lub gdy system ma różne warianty działania."
   ]
  },
  {
   "cell_type": "markdown",
   "metadata": {},
   "source": [
    "## Przeznaczenie i zastosowanie\n",
    "- Oddzielenie abstrakcji od implementacji komponentów, umożliwiając ich niezależną modyfikację i rozwój.\n",
    "- Zapewnienie elastyczności kodu poprzez wybór implementacji w trakcie działania programu.\n",
    "- Redukcja liczby klas w przypadku konieczności obsługi wielu kombinacji abstrakcji i implementacji.\n",
    "- Ułatwienie testowania i utrzymania kodu poprzez zmniejszenie zależności między klasami."
   ]
  },
  {
   "cell_type": "markdown",
   "metadata": {},
   "source": [
    "<img src=\"img/Bridge_Design_Pattern_UML.jpg\">"
   ]
  },
  {
   "cell_type": "markdown",
   "metadata": {},
   "source": [
    "<img src=\"img/Bridge_UML_class_diagram.svg\" width=\"50%\">"
   ]
  },
  {
   "cell_type": "markdown",
   "metadata": {},
   "source": [
    "## Implementacja"
   ]
  },
  {
   "cell_type": "markdown",
   "metadata": {},
   "source": [
    "Abstrakcyjna klasa `ArticleFetcher` gwarantuje posiadanie metod: `get_article()`, `get_snippet()` oraz `get_image()`. Jej podklasy będą dostarczały różne klasy artykułów: sportowe i dotyczące stylu życia. Z drugiej strony znajduje się klasa abstrakcyjna `Webpage`, której podklasy będa płatnymi i darmowymi wersjami strony www wyświetlającymi całość lub tylko bezpłatną część artykułu dostarczanego przez klasę ArticleFetcher"
   ]
  },
  {
   "cell_type": "code",
   "execution_count": null,
   "metadata": {},
   "outputs": [],
   "source": [
    "from abc import ABC, abstractmethod"
   ]
  },
  {
   "cell_type": "markdown",
   "metadata": {},
   "source": [
    "Abstrakcja dla klas artkułów"
   ]
  },
  {
   "cell_type": "code",
   "execution_count": null,
   "metadata": {},
   "outputs": [],
   "source": [
    "class AbstractFetcher(ABC):\n",
    "    article: str\n",
    "\n",
    "    def __init__(self, article: str) -> None:\n",
    "        self.article = article\n",
    "    \n",
    "    @abstractmethod\n",
    "    def get_snippet(self) -> str:\n",
    "        pass\n",
    "    \n",
    "    @abstractmethod\n",
    "    def get_article(self) -> str:\n",
    "        pass\n",
    "    \n",
    "    @abstractmethod\n",
    "    def get_ads(self) -> str:\n",
    "        pass\n",
    "    \n",
    "    @abstractmethod\n",
    "    def go_to_full_version(self) -> str:\n",
    "        pass"
   ]
  },
  {
   "cell_type": "markdown",
   "metadata": {},
   "source": [
    "Implementacja klasy dostarczającej artykuły sportowe. Klasa spełnia protokół wyznaczany przez klasę `AbstractFetcher`"
   ]
  },
  {
   "cell_type": "code",
   "execution_count": null,
   "metadata": {},
   "outputs": [],
   "source": [
    "class SportFetcher(AbstractFetcher):\n",
    "    article: str\n",
    "\n",
    "    def get_snippet(self) -> str:\n",
    "        return self.article[:100]\n",
    "    \n",
    "    def get_article(self) -> str:\n",
    "        return self.article\n",
    "    \n",
    "    def get_ads(self) -> str:\n",
    "        return \"sport-targeted ads\"\n",
    "    \n",
    "    def go_to_full_version(self) -> str:\n",
    "        return \"buy full version now\""
   ]
  },
  {
   "cell_type": "markdown",
   "metadata": {},
   "source": [
    "Implementacja klasy dostarczającej artykuły dotyczące stylu życia, zgodna z protokołem klasy `AbstractFetcher`"
   ]
  },
  {
   "cell_type": "code",
   "execution_count": null,
   "metadata": {},
   "outputs": [],
   "source": [
    "class LifestyleFetcher(AbstractFetcher):\n",
    "    article: str\n",
    "\n",
    "    def get_snippet(self):\n",
    "        return self.article[:80]\n",
    "    \n",
    "    def get_article(self):\n",
    "        return self.article\n",
    "    \n",
    "    def get_ads(self):\n",
    "        return \"lifestyle-targeted ads\"\n",
    "    \n",
    "    def go_to_full_version(self):\n",
    "        return \"buy full version now for only PLN 6\""
   ]
  },
  {
   "cell_type": "markdown",
   "metadata": {},
   "source": [
    "Abstrakcja klasy reprezentującej stronę www"
   ]
  },
  {
   "cell_type": "code",
   "execution_count": null,
   "metadata": {},
   "outputs": [],
   "source": [
    "class WebPage(ABC):\n",
    "    fetcher: AbstractFetcher\n",
    "\n",
    "    def __init__(self, fetcher: AbstractFetcher) -> None:\n",
    "        self.fetcher = fetcher\n",
    "        \n",
    "    @abstractmethod\n",
    "    def show_page(self) -> str:\n",
    "        pass"
   ]
  },
  {
   "cell_type": "markdown",
   "metadata": {},
   "source": [
    "Implementacja klas prezentacyjnych reprezentujących strony www, zgodne z protokołem klasy `WebPage`"
   ]
  },
  {
   "cell_type": "code",
   "execution_count": null,
   "metadata": {},
   "outputs": [],
   "source": [
    "class FreeWebPage(WebPage):\n",
    "    fetcher: AbstractFetcher\n",
    "\n",
    "    def show_page(self) -> str:\n",
    "        snippet = self.fetcher.get_snippet()\n",
    "        ads = self.fetcher.get_ads()\n",
    "        full_version_message = self.fetcher.go_to_full_version()\n",
    "        \n",
    "        return f\"free snippet: {snippet}... ADS: {ads}, full version: {full_version_message}\""
   ]
  },
  {
   "cell_type": "code",
   "execution_count": null,
   "metadata": {},
   "outputs": [],
   "source": [
    "class PaidWebPage(WebPage):\n",
    "    fetcher: AbstractFetcher\n",
    "\n",
    "    def show_page(self) -> str:\n",
    "        article = self.fetcher.get_article()\n",
    "        \n",
    "        return f\"article: {article}\""
   ]
  },
  {
   "cell_type": "markdown",
   "metadata": {},
   "source": [
    "Kod klienta"
   ]
  },
  {
   "cell_type": "code",
   "execution_count": null,
   "metadata": {},
   "outputs": [],
   "source": [
    "article1 = \"Spektakularny sukces Adama Miłosza. Po raz kolejny przeskoczył skocznię w Wiśle. Czy czeka nas powrót wielkiego mistrza?\"\n",
    "article2 = \"Tele duperele\""
   ]
  },
  {
   "cell_type": "code",
   "execution_count": null,
   "metadata": {},
   "outputs": [],
   "source": [
    "fetcher0 = SportFetcher(article1)\n",
    "fetcher1 = LifestyleFetcher(article2)"
   ]
  },
  {
   "cell_type": "code",
   "execution_count": null,
   "metadata": {},
   "outputs": [],
   "source": [
    "free_website = FreeWebPage(fetcher0)\n",
    "paid_website = PaidWebPage(fetcher0)"
   ]
  },
  {
   "cell_type": "code",
   "execution_count": null,
   "metadata": {},
   "outputs": [],
   "source": [
    "free_website.show_page()"
   ]
  },
  {
   "cell_type": "code",
   "execution_count": null,
   "metadata": {},
   "outputs": [],
   "source": [
    "paid_website.show_page()"
   ]
  },
  {
   "cell_type": "markdown",
   "metadata": {},
   "source": [
    "## Podsumowanie"
   ]
  },
  {
   "cell_type": "markdown",
   "metadata": {},
   "source": [
    "Wzorzec Most służy do oddzielenia abstrakcji struktur od jichej implementacji, umożliwiając ich niezależny rozwój. Taki proces rodzi pewne konsekwencje:\n",
    "- warty do zastosowania gdy istnieją minimum 2 implementacje pewnego interfejsu,\n",
    "- jego zastosowanie musi być z góry założone, najlepiej na samym początku implementacji,\n",
    "- ma wysoką złożoność (połączenie metody szablonowej i strategii),\n",
    "- brak wielopiętrowych dziedziczeń."
   ]
  }
 ],
 "metadata": {
  "kernelspec": {
   "display_name": ".venv",
   "language": "python",
   "name": "python3"
  },
  "language_info": {
   "codemirror_mode": {
    "name": "ipython",
    "version": 3
   },
   "file_extension": ".py",
   "mimetype": "text/x-python",
   "name": "python",
   "nbconvert_exporter": "python",
   "pygments_lexer": "ipython3",
   "version": "3.13.0"
  }
 },
 "nbformat": 4,
 "nbformat_minor": 2
}
