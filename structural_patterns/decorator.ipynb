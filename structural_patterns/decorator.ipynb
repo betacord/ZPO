{
 "cells": [
  {
   "cell_type": "markdown",
   "metadata": {},
   "source": [
    "# Dekorator"
   ]
  },
  {
   "cell_type": "markdown",
   "metadata": {},
   "source": [
    "Wzorzec Dekorator (ang. Decorator) służy do dynamicznego rozszerzania funkcjonalności obiektów bez modyfikowania ich kodu źródłowego ani wykorzystywania dziedziczenia. Dekorator działa poprzez opakowanie oryginalnego obiektu w inny obiekt będący ostatecznym dekoratorem, który dodaje nowe zachowania przed lub po wywołaniu metod bazowego obiektu. Dekoratory pozwalają na dynamiczne dodawanie, modyfikowanie i łączenie funkcjonalności w sposób, który wspiera zasadę otwarte-zamknięte (OCP - Open/Closed Principle). Są powszechnie stosowane w programowaniu obiektowym oraz w językach wspierających funkcje wyższego rzędu, takich jak Python czy JavaScript."
   ]
  },
  {
   "cell_type": "markdown",
   "metadata": {},
   "source": [
    "## Przeznaczenie i zastosowanie"
   ]
  },
  {
   "cell_type": "markdown",
   "metadata": {},
   "source": [
    "- Dynamiczne rozszerzanie funkcjonalności klas obiektów bez konieczności modyfikowania ich kodu.\n",
    "- Unikanie problemów związanych z zagnieżdżonym i rozgałęzionym dziedziczeniem poprzez możliwość dodawanie nowych zachowań bez tworzenia podklas.\n",
    "- Zachowanie zgodności z interfejsem obiektu bazowego, co umożliwia łatwe stosowanie dekoratora w istniejącej strukturze kodu źródłowego."
   ]
  },
  {
   "cell_type": "markdown",
   "metadata": {},
   "source": [
    "<img src=\"img/Decorator_Design_Pattern_UML.jpg\">"
   ]
  },
  {
   "cell_type": "markdown",
   "metadata": {},
   "source": [
    "<img src=\"img/Decorator_UML_class_diagram.svg\" width=\"50%\">"
   ]
  },
  {
   "cell_type": "markdown",
   "metadata": {},
   "source": [
    "## Implementacja"
   ]
  },
  {
   "cell_type": "markdown",
   "metadata": {},
   "source": [
    "### Przykład 1\n",
    "\n",
    "Dekorator jako klasa"
   ]
  },
  {
   "cell_type": "code",
   "execution_count": null,
   "metadata": {},
   "outputs": [],
   "source": [
    "from abc import ABC, abstractmethod\n",
    "from typing import Any"
   ]
  },
  {
   "cell_type": "markdown",
   "metadata": {},
   "source": [
    "Klasa abstrakcyjna definiująca kontrakt dla klasy bazowej"
   ]
  },
  {
   "cell_type": "code",
   "execution_count": null,
   "metadata": {},
   "outputs": [],
   "source": [
    "class MainClass(ABC):\n",
    "    @abstractmethod\n",
    "    def important_method(self) -> str:\n",
    "        pass"
   ]
  },
  {
   "cell_type": "markdown",
   "metadata": {},
   "source": [
    "Klasa bazowa"
   ]
  },
  {
   "cell_type": "code",
   "execution_count": null,
   "metadata": {},
   "outputs": [],
   "source": [
    "class MyClass(MainClass):\n",
    "    def important_method(self) -> str:\n",
    "        return \"Important value!\""
   ]
  },
  {
   "cell_type": "markdown",
   "metadata": {},
   "source": [
    "Klasa abstrakcyjna denifiująca kontrakt dla klasy dekoratora"
   ]
  },
  {
   "cell_type": "code",
   "execution_count": null,
   "metadata": {},
   "outputs": [],
   "source": [
    "class Decorator(ABC):\n",
    "    def __init__(self, obj: Any) -> None:\n",
    "        self.object = obj\n",
    "\n",
    "    @abstractmethod    \n",
    "    def important_method(self) -> str:\n",
    "        pass"
   ]
  },
  {
   "cell_type": "markdown",
   "metadata": {},
   "source": [
    "Klasa dekoratora"
   ]
  },
  {
   "cell_type": "code",
   "execution_count": null,
   "metadata": {},
   "outputs": [],
   "source": [
    "class ClassDecorator(Decorator):    \n",
    "    def important_method(self) -> str:\n",
    "        parent_value = self.object.important_method()\n",
    "        \n",
    "        return f\"decorated | {parent_value} | decorated!\" "
   ]
  },
  {
   "cell_type": "markdown",
   "metadata": {},
   "source": [
    "Wywołanie dekoratora"
   ]
  },
  {
   "cell_type": "code",
   "execution_count": null,
   "metadata": {},
   "outputs": [],
   "source": [
    "my_class = MyClass()\n",
    "my_class.important_method()"
   ]
  },
  {
   "cell_type": "code",
   "execution_count": null,
   "metadata": {},
   "outputs": [],
   "source": [
    "decorator = ClassDecorator(my_class)\n",
    "decorator.important_method()"
   ]
  },
  {
   "cell_type": "markdown",
   "metadata": {},
   "source": [
    "### Przykład 2\n",
    "Cel: dekorator jako pamięć cache dla funkcji"
   ]
  },
  {
   "cell_type": "code",
   "execution_count": null,
   "metadata": {},
   "outputs": [],
   "source": [
    "from timeit import timeit"
   ]
  },
  {
   "cell_type": "markdown",
   "metadata": {},
   "source": [
    "Implementacja funkcji bazowej"
   ]
  },
  {
   "cell_type": "code",
   "execution_count": null,
   "metadata": {},
   "outputs": [],
   "source": [
    "def fib(n: int) -> int:\n",
    "    if n < 2:\n",
    "        return 1\n",
    "\n",
    "    return fib(n - 2) + fib(n - 1)"
   ]
  },
  {
   "cell_type": "code",
   "execution_count": null,
   "metadata": {},
   "outputs": [],
   "source": [
    "fib(26)"
   ]
  },
  {
   "cell_type": "markdown",
   "metadata": {},
   "source": [
    "Funkcja dekoratora"
   ]
  },
  {
   "cell_type": "code",
   "execution_count": null,
   "metadata": {},
   "outputs": [],
   "source": [
    "def memorize(fn: callable) -> callable:\n",
    "    cache = {}\n",
    "    \n",
    "    def wrapper(*args: list) -> float:\n",
    "        if args not in cache:\n",
    "            cache[args] = fn(*args)\n",
    "        \n",
    "        return cache[args]\n",
    "    \n",
    "    return wrapper"
   ]
  },
  {
   "cell_type": "markdown",
   "metadata": {},
   "source": [
    "Implementacja funkcji docelowej z wykorzystaniem dekoratora przechowującego zwracane wyniki w pamięci tymczasowej"
   ]
  },
  {
   "cell_type": "code",
   "execution_count": null,
   "metadata": {},
   "outputs": [],
   "source": [
    "@memorize\n",
    "def fib(n: int) -> int:\n",
    "    if n < 2:\n",
    "        return 1\n",
    "    \n",
    "    return fib(n - 2) + fib(n - 1)"
   ]
  },
  {
   "cell_type": "markdown",
   "metadata": {},
   "source": [
    "Wywołanie i pomiar czasu wykonania obliczeń"
   ]
  },
  {
   "cell_type": "code",
   "execution_count": null,
   "metadata": {},
   "outputs": [],
   "source": [
    "timeit(\"from __main__ import fib; fib(66)\", number=1)"
   ]
  },
  {
   "cell_type": "markdown",
   "metadata": {},
   "source": [
    "Ponowny pomiar czasu po zapisaniu wyniku w pamięci tymczasowej"
   ]
  },
  {
   "cell_type": "code",
   "execution_count": null,
   "metadata": {},
   "outputs": [],
   "source": [
    "timeit(\"from __main__ import fib; fib(66)\", number=1)"
   ]
  },
  {
   "cell_type": "markdown",
   "metadata": {},
   "source": [
    "### Przykład 3\n",
    "Cel: dekorator mierzący czas wykonania funkcji"
   ]
  },
  {
   "cell_type": "code",
   "execution_count": null,
   "metadata": {},
   "outputs": [],
   "source": [
    "from time import time"
   ]
  },
  {
   "cell_type": "markdown",
   "metadata": {},
   "source": [
    "Implementacja klasy bazowej"
   ]
  },
  {
   "cell_type": "code",
   "execution_count": null,
   "metadata": {},
   "outputs": [],
   "source": [
    "class A:\n",
    "    def a(self) -> str:\n",
    "        return \"greetings from a\"\n",
    "        \n",
    "    def b(self) -> str:\n",
    "        return \"greetings from b\""
   ]
  },
  {
   "cell_type": "markdown",
   "metadata": {},
   "source": [
    "Funkcja dekoratora "
   ]
  },
  {
   "cell_type": "code",
   "execution_count": null,
   "metadata": {},
   "outputs": [],
   "source": [
    "def timeit(fn: callable) -> callable:\n",
    "    def wrapper(*args: list) -> str:\n",
    "        start = time()\n",
    "        result = fn(*args)\n",
    "        stop = time()\n",
    "        \n",
    "        print(stop - start)\n",
    "\n",
    "        return result\n",
    "    \n",
    "    return wrapper"
   ]
  },
  {
   "cell_type": "markdown",
   "metadata": {},
   "source": [
    "Rozszerzona wersja klasy bazowej o dekorator dla metod"
   ]
  },
  {
   "cell_type": "code",
   "execution_count": null,
   "metadata": {},
   "outputs": [],
   "source": [
    "class B:\n",
    "    @timeit\n",
    "    def a(self) -> str:\n",
    "        return \"greetings from a\"\n",
    "        \n",
    "    @timeit\n",
    "    def b(self) -> str:\n",
    "        return \"greetings from b\""
   ]
  },
  {
   "cell_type": "markdown",
   "metadata": {},
   "source": [
    "Wywołanie udekorowanej wersji klasy"
   ]
  },
  {
   "cell_type": "code",
   "execution_count": null,
   "metadata": {},
   "outputs": [],
   "source": [
    "b = B()"
   ]
  },
  {
   "cell_type": "code",
   "execution_count": null,
   "metadata": {},
   "outputs": [],
   "source": [
    "print(b.a())"
   ]
  },
  {
   "cell_type": "code",
   "execution_count": null,
   "metadata": {},
   "outputs": [],
   "source": [
    "print(b.b())"
   ]
  },
  {
   "cell_type": "markdown",
   "metadata": {},
   "source": [
    "## Podsumowanie"
   ]
  },
  {
   "cell_type": "markdown",
   "metadata": {},
   "source": [
    "Wzorzec Dekorator dokonuje dynamicznego rozszerzenia funkcjonalności obiektów bez modyfikowania ich kodu źródłowego ani wykorzystywania dziedziczenia. Taki proces rodzi pewne konsekwencje:\n",
    "- pierwotna implementacja funkcji nie zostaje naruszona,\n",
    "- brak konieczności dostępu do kodu aby go udekorować,\n",
    "- python posiada wbudowany mechanizm do dekorowania funkcji,\n",
    "- dekorowanie odbywa się za każdym razem przy wywołaniu danego obiektu,\n",
    "- dekorowanie odbywa się dynamicznie po kompilacji kodu,\n",
    "- użycie dekoratora zajmuje jedną linię kodu,\n",
    "- jeden z najczęśniej używanych wzorców w języku Python."
   ]
  }
 ],
 "metadata": {
  "kernelspec": {
   "display_name": ".venv",
   "language": "python",
   "name": "python3"
  },
  "language_info": {
   "codemirror_mode": {
    "name": "ipython",
    "version": 3
   },
   "file_extension": ".py",
   "mimetype": "text/x-python",
   "name": "python",
   "nbconvert_exporter": "python",
   "pygments_lexer": "ipython3",
   "version": "3.13.0"
  }
 },
 "nbformat": 4,
 "nbformat_minor": 2
}
