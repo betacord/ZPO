{
 "cells": [
  {
   "cell_type": "markdown",
   "metadata": {},
   "source": [
    "# Proxy"
   ]
  },
  {
   "cell_type": "markdown",
   "metadata": {},
   "source": [
    "Wzorzec Pełnomocnik (ang. Proxy) dostarcza zastępczy obiekt, który kontroluje dostęp do innego obiektu. Pełnomocnik może opóźniać inicjalizację, kontrolować uprawnienia, zapewniać zdalny dostęp lub buforować wyniki w celu optymalizacji działania systemu. Wzorzec Pełnomocnik ten jest powszechnie stosowany w sytuacjach, gdy bezpośredni dostęp do obiektu docelowego jest kosztowny lub wymaga dodatkowej kontroli. Pełnomocnik zachowuje ten sam interfejs co oryginalny obiekt, dzięki czemu klient może używać go bez świadomości, że komunikuje się z pełnomocnikiem zamiast z rzeczywistym obiektem."
   ]
  },
  {
   "cell_type": "markdown",
   "metadata": {},
   "source": [
    "Istnieją 4 wersje wzorca pełnomocnik:\n",
    "- zdalny (remote proxy): istnieje jako lokalna reprezentacja obiektu znajdującego się na zewnątrz, np. na serwerze,\n",
    "- wirtualny (virtual proxy): imituje finalny obiekt, choć ten zostanie stworzony dopiero w momencie gdy będzie potrzebny,\n",
    "- ochraniający (protective proxy): kontroluje dostęp do obiektu,\n",
    "- sprytne odwołanie (smart proxy): dokonuje dodatkowych akcji podczas do obiektu."
   ]
  },
  {
   "cell_type": "markdown",
   "metadata": {},
   "source": [
    "## Przeznaczenie i zastosowanie"
   ]
  },
  {
   "cell_type": "markdown",
   "metadata": {},
   "source": [
    "- Kontrola dostępu poprzez umożliwienie lub zablokowanie operacji na obiekcie docelowym.\n",
    "- Optymalizacja wydajności poprzez opóźnianie inicjalizacji lub buforowanie wyników operacji.\n",
    "- Obsługa zdalnych zasobów za sprawą umożliwienia dostępu do obiektów znajdujących się na serwerach lub w innych systemach.\n",
    "- Monitorowanie operacji poprzez rejestrowanie lub modyfikowanie wywołań metod obiektu.\n",
    "- Bezpieczeństwo poprzez ograniczenie dostępu do zasobów na podstawie autentykacji i autoryzacji użytkownika."
   ]
  },
  {
   "cell_type": "markdown",
   "metadata": {},
   "source": [
    "<img src=\"img/Proxy_Design_Pattern_UML.jpg\">"
   ]
  },
  {
   "cell_type": "markdown",
   "metadata": {},
   "source": [
    "<img src=\"img/Proxy_pattern_diagram.svg\">"
   ]
  },
  {
   "cell_type": "markdown",
   "metadata": {},
   "source": [
    "## Implementacja\n",
    "\n",
    "Klasa Image reprezentuje obraz na podstawie przekazanej ścieżki. W implementacji znajdują się dwie metody: `load_image`, która wczytuje obraz oraz `display_image`, która go wyświetla. Metoda `display_image` jest obarczona błędem polegającym na tym, że może podjąć próbę wyświetlenia obrazu jeszcze przed jego załadowaniem, co rodzi błędy.\n",
    "\n",
    "Obejściem tego błędu może być wykorzystanie Pełnomocnika, który będzie stanowił dodatkową warstwę klasy `Image` z dodatkowym warunkiem sprawdzającym przed wyświetleniem czy dany obraz został już załadowany."
   ]
  },
  {
   "cell_type": "code",
   "execution_count": null,
   "metadata": {},
   "outputs": [],
   "source": [
    "from abc import ABC, abstractmethod"
   ]
  },
  {
   "cell_type": "markdown",
   "metadata": {},
   "source": [
    "Interfejs klasy reprezentującej obraz"
   ]
  },
  {
   "cell_type": "code",
   "execution_count": null,
   "metadata": {},
   "outputs": [],
   "source": [
    "class AbstractImage(ABC):\n",
    "    filepath: str\n",
    "\n",
    "    def __init__(self, filepath: str) -> None:\n",
    "        self.filepath = filepath\n",
    "\n",
    "    @abstractmethod\n",
    "    def load_image(self) -> None:\n",
    "        pass\n",
    "\n",
    "    @abstractmethod\n",
    "    def display_image(self) -> None:\n",
    "        pass"
   ]
  },
  {
   "cell_type": "markdown",
   "metadata": {},
   "source": [
    "Implementacja klasy reprezentującej obraz"
   ]
  },
  {
   "cell_type": "code",
   "execution_count": null,
   "metadata": {},
   "outputs": [],
   "source": [
    "class Image(AbstractImage):\n",
    "    def load_image(self) -> None:\n",
    "        print(\"loaded image\")\n",
    "\n",
    "    def display_image(self) -> None:\n",
    "        print(\"display image\")"
   ]
  },
  {
   "cell_type": "markdown",
   "metadata": {},
   "source": [
    "Próba wyświetlenia obrazu"
   ]
  },
  {
   "cell_type": "code",
   "execution_count": null,
   "metadata": {},
   "outputs": [],
   "source": [
    "img0 = Image(\"img0.jpg\")\n",
    "img0.display_image()"
   ]
  },
  {
   "cell_type": "markdown",
   "metadata": {},
   "source": [
    "Implementacja pełnomocnika dodającego dodatkowy warunek przed wyświetleniem obrazu, kontrolując w ten sposób dostęp. Od tej pory przed wyświetleniem obrazu, każdorazowo będzie następowała weryfikacja czy obraz został już załadowany."
   ]
  },
  {
   "cell_type": "code",
   "execution_count": null,
   "metadata": {},
   "outputs": [],
   "source": [
    "class ProxyImage(AbstractImage):\n",
    "    image: Image\n",
    "    image_loaded: bool\n",
    "\n",
    "    def __init__(self, image: Image) -> None:\n",
    "        super().__init__(image.filepath)\n",
    "        \n",
    "        self.image_loaded = False\n",
    "        self.image = image\n",
    "\n",
    "    def load_image(self) -> None:\n",
    "        self.image.load_image()\n",
    "        \n",
    "    def display_image(self) -> None:\n",
    "        if not self.image_loaded:\n",
    "            self.load_image()\n",
    "\n",
    "        self.image.display_image()"
   ]
  },
  {
   "cell_type": "markdown",
   "metadata": {},
   "source": [
    "Kod klienta"
   ]
  },
  {
   "cell_type": "code",
   "execution_count": null,
   "metadata": {},
   "outputs": [],
   "source": [
    "img0 = Image(\"img0.jpg\")\n",
    "img0 = ProxyImage(img0)\n",
    "img0.display_image()"
   ]
  },
  {
   "cell_type": "markdown",
   "metadata": {},
   "source": [
    "## Podsumowanie"
   ]
  },
  {
   "cell_type": "markdown",
   "metadata": {},
   "source": [
    "Wzorzec pełnomocnik dostarcza zastępczy obiekt, który kontroluje dostęp do innego obiektu. Taki proces rodzi pewne konsekwencje:\n",
    "- zwiększone bezpieczeństwo,\n",
    "- powstanie dodatkowej warstwy dostępowej do obiektu,\n",
    "- pozostałe konsekwencje zależne od wersji pełnomocnika."
   ]
  }
 ],
 "metadata": {
  "kernelspec": {
   "display_name": ".venv",
   "language": "python",
   "name": "python3"
  },
  "language_info": {
   "codemirror_mode": {
    "name": "ipython",
    "version": 3
   },
   "file_extension": ".py",
   "mimetype": "text/x-python",
   "name": "python",
   "nbconvert_exporter": "python",
   "pygments_lexer": "ipython3",
   "version": "3.13.0"
  }
 },
 "nbformat": 4,
 "nbformat_minor": 2
}
