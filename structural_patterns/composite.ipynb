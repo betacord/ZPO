{
 "cells": [
  {
   "cell_type": "markdown",
   "metadata": {},
   "source": [
    "# Kompozyt"
   ]
  },
  {
   "cell_type": "markdown",
   "metadata": {},
   "source": [
    "Wzorzec Kompozyt (ang. Composite) umożliwia reprezentowanie hierarchicznych struktur obiektów, w których zarówno pojedyncze elementy lub i ich złożone grupy mogą być traktowane w jednolity sposób. Kompozyt definiuje wspólny i spójny interfejs dla obiektów prostych (liści drzewa) oraz obiektów złożonych (kontenerów), co pozwala na ich rekurencyjne przetwarzanie. Dzięki temu klient nie musi rozróżniać, czy pracuje z pojedynczym elementem, czy z całą strukturą – może używać ich w ten sam sposób. Kompozyt jest często stosowany w sytuacjach, gdzie system wymaga modelowania drzewiastej struktury, np. plików w systemie, interfejsów graficznych czy hierarchii organizacyjnych."
   ]
  },
  {
   "cell_type": "markdown",
   "metadata": {},
   "source": [
    "## Przeznaczenie i zastosowanie"
   ]
  },
  {
   "cell_type": "markdown",
   "metadata": {},
   "source": [
    "- Ujednolicenie operacji na pojedynczych obiektach i w grupach, umożliwiając traktowanie ich w ten sam sposób.\n",
    "- Reprezentowanie hierarchii obiektów w postaci drzewa, np. struktury katalogów.\n",
    "- Zwiększenie elastyczności i skalowalności kodu umożliwiając w tej sposób łatwe rozszerzanie struktury bez zmiany kodu klienta."
   ]
  },
  {
   "cell_type": "markdown",
   "metadata": {},
   "source": [
    "<img src=\"img/Composite_Design_Pattern_UML.jpg\">"
   ]
  },
  {
   "cell_type": "markdown",
   "metadata": {},
   "source": [
    "<img src=\"img/Composite_UML_class_diagram.svg\" width=\"50%\">"
   ]
  },
  {
   "cell_type": "markdown",
   "metadata": {},
   "source": [
    "## Implementacja"
   ]
  },
  {
   "cell_type": "markdown",
   "metadata": {},
   "source": [
    "Cel: przesunięcie trójkąta o wybrany wektor. \n",
    "\n",
    "Hierarchia klas trójkąta:\n",
    "- Point: punkt na płaszczyźnie,\n",
    "- Segment: odcinek składający się z punktów na każdym końcu,\n",
    "- Triangle: trójkąt składający się z odcinków."
   ]
  },
  {
   "cell_type": "code",
   "execution_count": null,
   "metadata": {},
   "outputs": [],
   "source": [
    "from abc import ABC, abstractmethod\n",
    "from typing import Self"
   ]
  },
  {
   "cell_type": "markdown",
   "metadata": {},
   "source": [
    "Klasa definiująca interfejs każdego z komponentów trójkąta."
   ]
  },
  {
   "cell_type": "code",
   "execution_count": null,
   "metadata": {},
   "outputs": [],
   "source": [
    "class Component(ABC):\n",
    "    _parent: Self\n",
    "\n",
    "    def __init__(self) -> None:\n",
    "        self._parent = None\n",
    "        \n",
    "    @property\n",
    "    def parent(self) -> Self:\n",
    "        return self._parent\n",
    "    \n",
    "    @parent.setter\n",
    "    def parent(self, parent: Self) -> None:\n",
    "        self._parent = parent\n",
    "        \n",
    "    def get_parent(self) -> Self:\n",
    "        return self._parent\n",
    "        \n",
    "    def add(self, component: Self) -> None:\n",
    "        pass\n",
    "    \n",
    "    def remove(self, component: Self) -> None:\n",
    "        pass\n",
    "    \n",
    "    def is_composite(self) -> bool:\n",
    "        return False\n",
    "    \n",
    "    @abstractmethod\n",
    "    def move(self, a: float, b: float) -> None:\n",
    "        pass"
   ]
  },
  {
   "cell_type": "markdown",
   "metadata": {},
   "source": [
    "Klasa reprezentująca punkt."
   ]
  },
  {
   "cell_type": "code",
   "execution_count": null,
   "metadata": {},
   "outputs": [],
   "source": [
    "class Point(Component):\n",
    "    x: int\n",
    "    y: int\n",
    "\n",
    "    def __init__(self, x: int, y: int) -> None:\n",
    "        super().__init__()\n",
    "        self.x = x\n",
    "        self.y = y\n",
    "        \n",
    "    def move(self, a: int, b: int) -> None:\n",
    "        self.x += a\n",
    "        self.y += b\n",
    "        \n",
    "        print(\"point moved\")"
   ]
  },
  {
   "cell_type": "markdown",
   "metadata": {},
   "source": [
    "Klasa reprezentująca odcinek. Jest to kompozyt - zawiera referencję do liści w postaci odcinków."
   ]
  },
  {
   "cell_type": "code",
   "execution_count": null,
   "metadata": {},
   "outputs": [],
   "source": [
    "class Segment(Component):\n",
    "    begin: Point\n",
    "    end: Point\n",
    "    children: list\n",
    "\n",
    "    def __init__(self, begin: Point, end: Point) -> None:\n",
    "        super().__init__()\n",
    "        self.begin = begin\n",
    "        self.end = end\n",
    "        self.children = []\n",
    "        self.add(begin)\n",
    "        self.add(end)\n",
    "        \n",
    "    def add(self, component: Point) -> None:\n",
    "        component.parent = self\n",
    "        self.children.append(component)\n",
    "    \n",
    "    def remove(self, component: Point) -> None:\n",
    "        component.parent = None\n",
    "        self.children.remove(component)\n",
    "    \n",
    "    def is_composite(self) -> bool:\n",
    "        return True\n",
    "    \n",
    "    def move(self, a: int, b: int) -> None:\n",
    "        for child in self.children:\n",
    "            child.move(a, b)\n",
    "        \n",
    "        print(\"segment moved\")"
   ]
  },
  {
   "cell_type": "markdown",
   "metadata": {},
   "source": [
    "Klasa reprezentująca trójkąt. Zawiera referencje do odcinków (i pośrednio do punktów). Wględem hierarchii - również jest to kompozyt."
   ]
  },
  {
   "cell_type": "code",
   "execution_count": null,
   "metadata": {},
   "outputs": [],
   "source": [
    "class Traingle(Component):\n",
    "    children: list\n",
    "\n",
    "    def __init__(self, seg0: Segment, seg1: Segment, seg2: Segment) -> None:\n",
    "        super().__init__()\n",
    "        self.children = []\n",
    "        self.add(seg0)\n",
    "        self.add(seg1)\n",
    "        self.add(seg2)\n",
    "        \n",
    "    def add(self, component: Segment) -> None:\n",
    "        component.parent = self\n",
    "        self.children.append(component)\n",
    "    \n",
    "    def remove(self, component: Segment) -> None:\n",
    "        component.parent = None\n",
    "        self.children.remove(component)\n",
    "        \n",
    "    def is_composite(self) -> bool:\n",
    "        return True\n",
    "    \n",
    "    def move(self, a: int, b: int) -> None:\n",
    "        for child in self.children:\n",
    "            child.move(a, b)\n",
    "        \n",
    "        print(\"traingle moved\")"
   ]
  },
  {
   "cell_type": "markdown",
   "metadata": {},
   "source": [
    "### Kod klienta"
   ]
  },
  {
   "cell_type": "markdown",
   "metadata": {},
   "source": [
    "Utworzenie i przesunięcie punktów"
   ]
  },
  {
   "cell_type": "code",
   "execution_count": null,
   "metadata": {},
   "outputs": [],
   "source": [
    "point_a1 = Point(3, 5)\n",
    "point_a2 = Point(10, 10)"
   ]
  },
  {
   "cell_type": "code",
   "execution_count": null,
   "metadata": {},
   "outputs": [],
   "source": [
    "point_a1.move(-1, -3)"
   ]
  },
  {
   "cell_type": "markdown",
   "metadata": {},
   "source": [
    "Utworzenie i przesunięcie odcinków"
   ]
  },
  {
   "cell_type": "code",
   "execution_count": null,
   "metadata": {},
   "outputs": [],
   "source": [
    "point_b1 = Point(-3, 1)\n",
    "point_b2 = Point(7, 11)\n",
    "point_c1 = Point(1, 0)\n",
    "point_c2 = Point(0, 1)\n",
    "\n",
    "seg1 = Segment(point_a1, point_a2)\n",
    "seg2 = Segment(point_b1, point_b2)\n",
    "seg3 = Segment(point_c1, point_c2)"
   ]
  },
  {
   "cell_type": "code",
   "execution_count": null,
   "metadata": {},
   "outputs": [],
   "source": [
    "seg2.move(5, 5)"
   ]
  },
  {
   "cell_type": "markdown",
   "metadata": {},
   "source": [
    "Utworzenie i przesunięcie trójkąta"
   ]
  },
  {
   "cell_type": "code",
   "execution_count": null,
   "metadata": {},
   "outputs": [],
   "source": [
    "triangle = Traingle(seg1, seg2, seg3)\n",
    "triangle.move(11.5, 12.25)"
   ]
  },
  {
   "cell_type": "markdown",
   "metadata": {},
   "source": [
    "## Podsumowanie"
   ]
  },
  {
   "cell_type": "markdown",
   "metadata": {},
   "source": [
    "Wzorzec Kompozyt umożliwia reprezentowanie hierarchicznych struktur obiektów, w których zarówno pojedyncze elementy lub i ich złożone grupy mogą być traktowane w jednolity sposób. Taki proces rodzi pewne konsekwencje:\n",
    "- rekurencyjne wykonania metod komponentów,\n",
    "- reprezentacja obiektów za pomocą struktury drzewa,\n",
    "- łatwe wykonanie metod zbiorczych, takich jak np. \"przesuń wszystkie punkty, które tworzą odcinek i trójkąt\",\n",
    "- ciągła mamy możliwość odwołania się do komponentów składowych,\n",
    "- dodanie elementów pośrednich bez konieczności przebudowy całego projektu,\n",
    "- implementacje wielu komponentów mogą być zbyt ogólne: np. klasa `Point` posiada metody `add` i `remove` poprzez dziedziczenie, które nie są wykorzystywane."
   ]
  }
 ],
 "metadata": {
  "kernelspec": {
   "display_name": ".venv",
   "language": "python",
   "name": "python3"
  },
  "language_info": {
   "codemirror_mode": {
    "name": "ipython",
    "version": 3
   },
   "file_extension": ".py",
   "mimetype": "text/x-python",
   "name": "python",
   "nbconvert_exporter": "python",
   "pygments_lexer": "ipython3",
   "version": "3.13.0"
  }
 },
 "nbformat": 4,
 "nbformat_minor": 2
}
