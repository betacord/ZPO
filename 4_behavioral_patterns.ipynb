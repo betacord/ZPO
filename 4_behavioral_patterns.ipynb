{
 "cells": [
  {
   "cell_type": "markdown",
   "metadata": {},
   "source": [
    "# Wykład 4 - wzorce czynnościowe"
   ]
  },
  {
   "cell_type": "markdown",
   "metadata": {},
   "source": [
    "## Charakterystyka wzorców czynnościowych"
   ]
  },
  {
   "cell_type": "markdown",
   "metadata": {},
   "source": [
    "Wzorce czynnościowe (ang. behavioral patterns) to rodzaj wzorców projektowych, które dotyczą definiowania sposobów współpracy między obiektami oraz podziału obowiązków w ramach systemu. Ułatwiają one komunikację między komponentami, zwiększając w ten sposób elastyczność i reużywalność kodu. Ich główną rolą jest uproszczenie zarządzania przepływem sterowania i interakcjami między warstwami w obrębie aplikacji."
   ]
  },
  {
   "cell_type": "markdown",
   "metadata": {},
   "source": [
    "Cechy wzorców czynnościowych:\n",
    "- podział odpowiedzialności poprzez separację logiki komunikacji od logiki biznesowej,\n",
    "- elastyczność komunikacji poprzez  umożliwienie luźnych powiązań między obiektami,\n",
    "- unikanie zależności poprzez ich redukcję między komponentami,\n",
    "- łatwość rozszerzania poprzez umożliwienie dodawania nowych zachowań bez modyfikacji istniejącego kodu,\n",
    "- obsługa zdarzeń i stanów, które często są stosowane do zarządzania przepływem sterowania w systemach zdarzeniowych."
   ]
  },
  {
   "cell_type": "markdown",
   "metadata": {},
   "source": [
    "## Wzorce czynnościowe"
   ]
  },
  {
   "cell_type": "markdown",
   "metadata": {},
   "source": [
    "1. [Strategia](https://github.com/betacord/ZPO/blob/main/behavioral_patterns/strategy.ipynb)\n",
    "2. [Iterator](https://github.com/betacord/ZPO/blob/main/behavioral_patterns/iterator.ipynb)\n",
    "3. [Metoda szablonowa](https://github.com/betacord/ZPO/blob/main/behavioral_patterns/template.ipynb)\n",
    "4. [Pamiątka](https://github.com/betacord/ZPO/blob/main/behavioral_patterns/memento.ipynb)\n",
    "5. [Łańcuch zobowiązań](https://github.com/betacord/ZPO/blob/main/behavioral_patterns/chain.ipynb)\n",
    "6. [Polecenie](https://github.com/betacord/ZPO/blob/main/behavioral_patterns/command.ipynb)\n",
    "7. [Obserwator](https://github.com/betacord/ZPO/blob/main/behavioral_patterns/observer.ipynb)\n",
    "8. [Stan](https://github.com/betacord/ZPO/blob/main/behavioral_patterns/state.ipynb)"
   ]
  },
  {
   "cell_type": "markdown",
   "metadata": {},
   "source": [
    "## Zadania"
   ]
  },
  {
   "cell_type": "markdown",
   "metadata": {},
   "source": [
    "1. Strategia\n",
    "   1. Zaimplementować system obliczania podatku od wartości towarów dla różnych krajów, stosując wzorzec strategii.\n",
    "   2. Stworzyć trywialną grę, w której różne typy postaci używają odmiennych strategii ataku, np. agresywny, defensywny, chybił-trafił.\n",
    "   3. Przygotować implementację przeznaczoną do sortowania wektora wartości liczbowych, który automatycznie dobiera metodę sortowania jako strategię.\n",
    "2. Iterator (+ generator)\n",
    "   1. Zaimplementować iterator do poruszania się po elementach wektora w odwrotnej kolejności.\n",
    "   2. Stworzyć system zarządzania zamówieniami, który pozwala iterować po zamówieniach według statusu (np. nowe, w realizacji, zrealizowane).\n",
    "   3. Stworzyć generator, który będzie zwracał kolejne elementy ciągu harmonicznego. Generator skończy zwracać wartości gdy wartość w mianowniku wyniesie wartość przekazaną jako parametr funkcji generatora.\n",
    "3. Metoda szablonowa\n",
    "   1. Przygotować schematyczne rozwiązanie do przetwarzania dokumentów w różnych formatach (np. PDF, DOCX, TXT), wykorzystując metodę szablonową do definiowania wspólnego schematu ich przetwarzania.\n",
    "   2. Zaprojektować schematyczny system obsługi zamówień, w którym metoda szablonowa określa proces realizacji zamówienia, a szczegóły zależą od podklasy (np. dostawa standardowa, ekspresowa, odbiór osobisty).\n",
    "   3. Utworzyć schematyczną aplikację przeznaczoną do eksportowania danych w różnych formatach (np. CSV, JSON, XML), w której metoda szablonowa definiuje podstawowy proces generowania pliku.\n",
    "4. Pamiątka\n",
    "   1. Stworzyć aplikację do zarządzania ustawieniami użytkownika, w której możliwe jest zapisanie i przywrócenie poprzedniej konfiguracji.\n",
    "   2. Zaimplementować trywialną grę, w której gracz może zapisywać swój stan (np. pozycja, poziom zdrowia, ekwipunek) i przywracać go w dowolnym momencie.\n",
    "   3. Przygotować schematyczny system zarządzania formularzami, który pozwala użytkownikowi na cofanie ostatnich zmian wprowadzonych do formularza.\n",
    "5. Łańcuch zobowiązań\n",
    "   1. Zaimplementować proces zatwierdzania wniosków finansowych, gdzie kolejne poziomy hierarchii organizacyjnej (np. kierownik, COO, CTO, CEO) decydują, czy zatwierdzić dany wniosek.\n",
    "   2. Przygotować schematyczny program do filtrowania wiadomości e-mail, w którym różne moduły sprawdzają wiadomość pod kątem występowania treści niepożądanych: niezaufane nagłówki, spam, wirusy i inne zagrożenia.\n",
    "   3. Zaprojektować schematyczny system obsługi zgłoszeń serwisowych, gdzie dane zgłoszenie jest przekazywane do odpowiedniego działu w zależności od jego rodzaju.\n",
    "6. Polecenie\n",
    "   1. Stworzyć system przeznaczony do zarządzania domem inteligentnym, gdzie użytkownik może wydawać polecenia do włączania i wyłączania świateł, ogrzewania itp.\n",
    "   2. Przygotować schematyczny system obsługi makr w aplikacji klasy biurowej, gdzie użytkownik może nagrywać i odtwarzać sekwencje poleceń.\n",
    "   3. Zaprojektować schematyczny system kolejkowania zadań, gdzie każde zadanie (np. generowanie raportu, wysyłanie wiadomości e-mail) jest traktowane jako polecenie i może zostać cofnięte.\n",
    "7. Obserwator\n",
    "   1. Przygotować schematyczną aplikację do monitorowania kursów walut, gdzie użytkownicy mogą subskrybować zmiany kursu określonej waluty.\n",
    "   2. Stworzyć system monitorowania serwera, w którym różne usługi zewnętrzne (np. e-mail, SMS, logi) są aktywowane w przypadku awarii któregokolwiek komponentu.\n",
    "   3. Zaprojektować schematyczny system monitorowania czujników IoT, gdzie poszczególne moduły otrzymują powiadomienia o zmianach w odczytach czujników.\n",
    "8. Stan\n",
    "   1. Przygotowaś schematyczny system obsługi zamówień w sklepie internetowym, gdzie poszczególne zamówienie przechodzi przez różne stany (np. nowe, wysłane, dostarczone).\n",
    "   2. Stworzyć schematyczną aplikację do obsługi artykułów naukowych, gdzie każdy z nich może znajdować się w stanie: w recenzji, oczekiwanie na poprawki, oczekiwanie na decyzję edytora lub opublikowanym.\n",
    "   3. Zaprojektować system przeznaczony do sterowania sygnalizacją świetlną, który zmienia stan świateł zgodnie z ustalonymi regułami."
   ]
  }
 ],
 "metadata": {
  "language_info": {
   "name": "python"
  }
 },
 "nbformat": 4,
 "nbformat_minor": 2
}
