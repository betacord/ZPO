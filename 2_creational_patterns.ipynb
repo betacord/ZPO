{
 "cells": [
  {
   "cell_type": "markdown",
   "metadata": {},
   "source": [
    "# Wykład 2 - wzorce kreacyjne"
   ]
  },
  {
   "cell_type": "markdown",
   "metadata": {},
   "source": [
    "## Wprowadzenie do wzorców projektowych"
   ]
  },
  {
   "cell_type": "markdown",
   "metadata": {},
   "source": [
    "Wzorce projektowe to sprawdzone i powszechnie stosowane rozwiązania typowych problemów projektowych w inżynierii oprogramowania. Opisują one sposób organizacji kodu źródłowego w celu zwiększenia jego czytelności, elastyczności i łatwości utrzymania. Wzorce nie są gotowymi fragmentami kodu, tylko ogólnymi schematami i koncepcjami, które można dostosować do konkretnych potrzeb celem rozwiązania konkretnych problematycznych sytuacji. Wzorce projektowe w najprostszym ujęciu dzielą się na trzy główne kategorie: kreacyjne (dla potrzeb tworzenia obiektów), strukturalne (porządkujące zależności między klasami i obiektami) oraz czynnościowe (definiujące sposoby komunikacji między obiektami)."
   ]
  },
  {
   "cell_type": "markdown",
   "metadata": {},
   "source": [
    "## Krótka historia wzorców projektowych"
   ]
  },
  {
   "cell_type": "markdown",
   "metadata": {},
   "source": [
    "Idea wzorców projektowych ma swoje korzenie w architekturze budowlanej. W latach 1977 roku wieku architekt i matematyk Christopher Alexander opublikował książkę \"A Pattern Language\", w której przedstawił koncepcję wzorców jako powtarzalnych i sprawdzonych rozwiązań problemów projektowych w architekturze. Jego podejście inspirowało późniejszych badaczy w obszarze, którzy od lat '80 XX wieku zaczęli zauważać, że podobnie jak w architekturze, także w programowaniu można zidentyfikować pewne powtarzalne schematy rozwiązywania problemów. \n",
    "\n",
    "W 1987 roku Ward Cunningham i Kent Beck zaprezentowali ideę wzorców na konferencji OOPSLA, podkreślając ich przydatność w programowaniu zorientowanym obiektowo. Największym kamieniem milowym była jednak książka \"Design Patterns: Elements of Reusable Object-Oriented Software\" autorstwa Ericha Gammy’ego, Richarda Helma, Ralpha Johnsona i Johna Vlissidesa, która ukazała się w 1994 roku. \n",
    "\n",
    "W 1996 roku idea wzorców projektowych została rozszerzona do zastosowań w architekturze oprogramowania ukazując się w książce \"Pattern-Oriented Software Architecture\" autorstwa Franka Buschmann'a, Regine Meunier'a, Hans Rohnert'a, Peter Sommerlad'a oraz Michael Stal'a. "
   ]
  },
  {
   "cell_type": "markdown",
   "metadata": {},
   "source": [
    "## Charakterystyka wzorców kreacyjnych"
   ]
  },
  {
   "cell_type": "markdown",
   "metadata": {},
   "source": [
    "Wzorce kreacyjne to grupa wzorców projektowych, które odpowiadają za tworzenie nowych obiektów w sposób kontrolowany i elastyczny. Zamiast wykorzystywania standardowych konstruktorów i inicjalizatorów, wzorce te zapewniają bardziej skalowalne i elastyczne rozwiązania, które znacznie ułatwiają utrzymanie kodu, a także perspektywy przyszłej rozbudowy.\n",
    "\n",
    "Głównym zadaniem wzorców kreacyjnych jest separacja procesu tworzenia kolejnych instancji klas od ich implementacji. Takie podejścia wpływają znacznie na redukcję sztywnych zależności w kodzie źródłowym."
   ]
  },
  {
   "cell_type": "markdown",
   "metadata": {},
   "source": [
    "## Wzorce kreacyjne"
   ]
  },
  {
   "cell_type": "markdown",
   "metadata": {},
   "source": [
    "1. [Budowniczy](https://github.com/betacord/ZPO/blob/main/creational_patterns/builder.ipynb)\n",
    "2. [Metoda wytwórcza](https://github.com/betacord/ZPO/blob/main/creational_patterns/factory_method.ipynb)\n",
    "3. [Fabryka abstrakcyjna](https://github.com/betacord/ZPO/blob/main/creational_patterns/abstract_factory.ipynb)\n",
    "4. [Prototyp](https://github.com/betacord/ZPO/blob/main/creational_patterns/prototype.ipynb)\n",
    "5. [Singleton](https://github.com/betacord/ZPO/blob/main/creational_patterns/singleton.ipynb)"
   ]
  },
  {
   "cell_type": "markdown",
   "metadata": {},
   "source": [
    "## Zadania"
   ]
  },
  {
   "cell_type": "markdown",
   "metadata": {},
   "source": [
    "1. Budowniczy\n",
    "   1. Przygotować klasę Pizza, która będzie mogła zawierać różne składniki (ser, salami, pieczarki, cebula itd.). Zastosować wzorzec budowniczego, aby umożliwić stopniowe dodawanie składników do pizzy.\n",
    "   2. Rozszerzyć istniejącą implementację budowniczego tak, aby umożliwić budowanie różnych wariantów obiektów (np. dla pizzy vege, mięsnej, serowej, itd.).\n",
    "   3. Przygotować klasę Computer, która posiada wiele parametrów przekazywanych w inicjalizatorze. Przerobić nastęopnie kod tak, aby zamiast dużego konstruktora użyć wzorca budowniczego\n",
    "2. Metoda wytwórcza\n",
    "   1. Utworzyć interfejs Document i klasy: WordDocument, PDFDocument, a następnie przygotować metodę wytwórczą, która decyduje, jaki dokument utworzyć na podstawie zadanego rozszerzenia pliku.\n",
    "   2. Utworzyć klasę AnimalFactory, która na podstawie podanego parametru (np. \"dog\", \"cat\") zwraca obiekt odpowiedniej klasy (Dog, Cat).\n",
    "   3. Rozbuduj przygotowane implementacje Metody Wytwórczej, tak aby mogły obsługiwać dynamiczne rejestrowanie nowych klas zamiast statycznych instrukcji warunkowych.\n",
    "3. Fabryka abstrakcyjna\n",
    "   1. Utworzyć Fabrykę Abstrakcyjną do produkcji samochodów różnych marek (TeslaFactory, BMWFactory). Każda z fabryk powinna produkować dwa typy samochodów według nadwozia: Sedan i SUV.\n",
    "   2. Do istniejącej implementacji Fabryki Abstrakcyjnej dodać nowy typ pojazdu: HatchbackCar, i zaktualizować kod tak, aby obsługiwał nową kategorię.\n",
    "   3. Zaimplementować Fabrykę Abstrakcyjną do procesu produkcji smartfonów. Każda z fabryk powinna produkować dwa typy smartfonów: Apfel i Szajsung i dla każdego z nich modele z ostatnich 3 lat. Dodać do utworzonej implementacji trzeci typ smartfonu: MajFon.\n",
    "4. Prototyp\n",
    "   1. Stworzyć klasę CharacterPrototype, która umożliwia klonowanie postaci w grze, a następnie utworzyć konkretne postaci: Mage, Warrior.\n",
    "   2. Zaimplementować wzorzec Prototyp, a następnie przetestować różnice między płytkim a głębokim kopiowaniem wewnątrz.\n",
    "   3. Utworzyć klasę Configuration zawierającą ustawienia pewnej aplikacji i zastosować wzorzec Prototyp tak, aby można było tworzyć kopie konfiguracji i je modyfikować niezależnie od oryginału.\n",
    "5. Singleton\n",
    "   1. Zaimplementować Singleton DatabaseConnection, który zapewni, że dana aplikacja będzie używać tylko jednej instancji połączenia z bazą danych.\n",
    "   2. Zmodyfikować istniejącą implementację Singletona tak, aby umożliwić jednorazowe ustawienie parametrów konfiguracji, ale później uniemożliwić ich zmianę."
   ]
  },
  {
   "cell_type": "markdown",
   "metadata": {},
   "source": []
  }
 ],
 "metadata": {
  "language_info": {
   "name": "python"
  }
 },
 "nbformat": 4,
 "nbformat_minor": 2
}
