{
 "cells": [
  {
   "cell_type": "markdown",
   "metadata": {},
   "source": [
    "# Wykład 3 - wzorce strukturalne"
   ]
  },
  {
   "cell_type": "markdown",
   "metadata": {},
   "source": [
    "## Charakterystyka wzorców strukturalnych"
   ]
  },
  {
   "cell_type": "markdown",
   "metadata": {},
   "source": [
    "Wzorce strukturalne (ang. Structural Design Patterns) wspomagaja sposób organizacji klas i obiektów w celu optymalnego tworzenia większych i bardziej złożonych struktur o dobrze zdefiniowanych relacjach. Ich głównym celem jest ułatwienie komponowania obiektów, zwiększenie ich modularności oraz zmniejszenie zależności między nimi."
   ]
  },
  {
   "cell_type": "markdown",
   "metadata": {},
   "source": [
    "Cechy wzorców strukturalnych:\n",
    "- łączenie obiektów i klas poprzez definiowanie sposobów, w jakie klasy i obiekty mogą być ze sobą powiązane, aby zapewnić elastyczność podczas projektowania,\n",
    "- zwiększenie czytelności i rozszerzalności kodu, co wpływa na łatwość jego późniejszego utrzymania,\n",
    "- zmniejszenie zależności między komponentami poprzez zastosowanie kompozycji (zamiast dziedziczenia), co umożliwia stosowanie zasady luźnego powiązania obiektów,\n",
    "- wspieranie elastyczności w zarządzaniu obiektami poprzez dynamiczną modyfikację ich działania (dekorator) lub łączenie ich w hierarchiczne struktury (kompozyt),\n",
    "- optymalizacja wydajności obliczeniowej poprzez sprawne zarządzanie zasobami (pyłek)."
   ]
  },
  {
   "cell_type": "markdown",
   "metadata": {},
   "source": [
    "## Wzorce strukturalne"
   ]
  },
  {
   "cell_type": "markdown",
   "metadata": {},
   "source": [
    "1. [Adapter](https://github.com/betacord/ZPO/blob/main/structural_patterns/adapter.ipynb)\n",
    "2. [Dekorator](https://github.com/betacord/ZPO/blob/main/structural_patterns/decorator.ipynb)\n",
    "3. [Fasada](https://github.com/betacord/ZPO/blob/main/structural_patterns/facade.ipynb)\n",
    "4. [Kompozyt](https://github.com/betacord/ZPO/blob/main/structural_patterns/composite.ipynb)\n",
    "5. [Most](https://github.com/betacord/ZPO/blob/main/structural_patterns/bridge.ipynb)\n",
    "6. [Pełnomocnik](https://github.com/betacord/ZPO/blob/main/structural_patterns/proxy.ipynb)\n",
    "7. [Pyłek](https://github.com/betacord/ZPO/blob/main/structural_patterns/flyweight.ipynb)"
   ]
  },
  {
   "cell_type": "markdown",
   "metadata": {},
   "source": [
    "## Zadania"
   ]
  },
  {
   "cell_type": "markdown",
   "metadata": {},
   "source": [
    "1. Adapter\n",
    "   1. Zaimplementować wzorzec Adapter, który pozwoli na użycie klasy z (z metodą `print_old()`) w nowym systemie wymagającym metody `print_new()`.\n",
    "   2. Przygotować klasę `Adapter`, która konwertuje wartości temperatury w stopniach Fahrenheita na stopnie Celsjusza, używając przygotowanej klasy `FahrenheitSensor`.\n",
    "   3. Utworzyć adapter umożliwiający korzystanie z dwóch różnych systemów płatności, gdzie przykładowo jeden obsługuje PayPal, drugi Stripe, ale klient korzysta z ujednoliconego interfejsu.\n",
    "2. Dekorator\n",
    "   1. Utworzyć dekoratory, które dodają dodatkowe uprawnienia użytkownikowi, np. \"Admin\", \"Moderator\", \"Guest\", rozszerzając bazową klasę `User`.\n",
    "   2. Utworzyć dekorator, który automatycznie sprawdza poprawność argumentów przekazywanych do funkcji obsługujących formularze użytkownika.\n",
    "   3. Przygotować dekorator, który dodaje logowanie czasu wykonania każdej transakcji na bazie danych, bez modyfikacji oryginalnych metod.\n",
    "3. Fasada\n",
    "   1. Przygotować klasę fasady, która upraszcza operacje na plikach (zapis, odczyt, usuwanie), ukrywając niskopoziomowe operacje (otwarcie, zamknięcie).\n",
    "   2. Zaimplementować fasadę dla biblioteki graficznej, która zapewnia prostszy interfejs do skalowania, zmiany kolorów i kompresji obrazów.\n",
    "   3. Utworzyć fasadę do obsługi systemu kolejek (np. RabbitMQ, Kafka), która ułatwia wysyłanie i odbieranie wiadomości poprzez wspólny interfejs.\n",
    "4. Kompozyt\n",
    "   1. Zaimplementować hierarchię obiektów systemu plików w postaci klas `File` i `Directory`, gdzie katalogi mogą zawierać zarówno pliki, jak i inne katalogi, umożliwiając rekursywne operacje.\n",
    "   2. Przygotować system, w którym pojedynczy użytkownik oraz grupy użytkowników mogą mieć przypisane uprawnienia, a grupy mogą zawierać inne grupy.\n",
    "   3. Stworzyć system umożliwiający kompozycję raportów finansowych, gdzie sekcje raportu mogą zawierać zarówno pojedyncze wartości, jak i inne sekcje.\n",
    "5. Most\n",
    "   1. Stwórz abstrakcyjną klasę `Document`, która będzie reprezentowała plik PDF oraz dwie niezależne implementacje renderowania (LightThemeRenderer, DarkThemeRenderer), łącząc je mostem.\n",
    "   2. Zaimplementować system, w którym abstrakcja RemoteControl może sterować różnymi typami urządzeń (np. telewizor, radio, dron), niezależnie od ich implementacji.\n",
    "   3. Stwórz hierarchię na bazie abstrakcji `Shape` (np. `Circle`, `Rectangle`), a następnie oddzielić implementacje renderowania dla różnych technologii graficznych (SVG, BMP).\n",
    "6. Pełnomocnik\n",
    "   1. Zaimplementować pełnomocnika, który umożliwia zdalne wykonywanie operacji na serwerze poprzez API, ale lokalnie sprawdza uprawnienia użytkownika przed wysłaniem żądania.\n",
    "   2. Stworzyć pełnomocnika dla klasy `HeavyObject`, który tworzy rzeczywistą instancję dopiero w momencie pierwszego wywołania metody.\n",
    "   3. Przygotować pełnomocnika, który umożliwia dostęp do plików tylko użytkownikom o odpowiednich uprawnieniach, blokując w ten sposób nieautoryzowane operacje.\n",
    "7. Pyłek\n",
    "   1. Utworzyć system, który pozwala na współdzielenie ikon używanych w różnych częściach interfejsu użytkownika, zmniejszając zużycie pamięci.\n",
    "   2. Zaimplementować pyłek, gdzie każdy produkt dzieli wspólną reprezentację etykiety (np. nazwa, kod kreskowy), a unikalne pozostają jedynie informacje o lokalizacji i stanie magazynowym.\n",
    "   3. Zaimplementuj wzorzec Pyłek, aby zoptymalizować przechowywanie kolorów w edytorze grafiki."
   ]
  }
 ],
 "metadata": {
  "kernelspec": {
   "display_name": ".venv",
   "language": "python",
   "name": "python3"
  },
  "language_info": {
   "codemirror_mode": {
    "name": "ipython",
    "version": 3
   },
   "file_extension": ".py",
   "mimetype": "text/x-python",
   "name": "python",
   "nbconvert_exporter": "python",
   "pygments_lexer": "ipython3",
   "version": "3.13.0"
  }
 },
 "nbformat": 4,
 "nbformat_minor": 2
}
